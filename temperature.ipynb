{
 "cells": [
  {
   "cell_type": "code",
   "execution_count": 1,
   "metadata": {},
   "outputs": [],
   "source": [
    "import streamlit as st\n",
    "import matplotlib.pyplot as plt\n",
    "import pandas as pd\n",
    "import seaborn as sns\n",
    "import requests\n",
    "\n",
    "\n",
    "import numpy as np\n",
    "from scipy.stats import *\n",
    "import seaborn as sns\n",
    "import statsmodels.api as sm\n",
    "from sklearn.model_selection import train_test_split\n",
    "\n",
    "\n",
    "import plotly.graph_objects as go\n",
    "from sklearn.preprocessing import LabelEncoder\n",
    "from sklearn import svm\n",
    "le = LabelEncoder()"
   ]
  },
  {
   "cell_type": "code",
   "execution_count": 2,
   "metadata": {},
   "outputs": [
    {
     "data": {
      "text/html": [
       "<div>\n",
       "<style scoped>\n",
       "    .dataframe tbody tr th:only-of-type {\n",
       "        vertical-align: middle;\n",
       "    }\n",
       "\n",
       "    .dataframe tbody tr th {\n",
       "        vertical-align: top;\n",
       "    }\n",
       "\n",
       "    .dataframe thead th {\n",
       "        text-align: right;\n",
       "    }\n",
       "</style>\n",
       "<table border=\"1\" class=\"dataframe\">\n",
       "  <thead>\n",
       "    <tr style=\"text-align: right;\">\n",
       "      <th></th>\n",
       "      <th>country</th>\n",
       "      <th>year</th>\n",
       "      <th>value</th>\n",
       "      <th>category</th>\n",
       "      <th>country_encoded</th>\n",
       "    </tr>\n",
       "  </thead>\n",
       "  <tbody>\n",
       "    <tr>\n",
       "      <th>0</th>\n",
       "      <td>Australia</td>\n",
       "      <td>2014</td>\n",
       "      <td>393126.946994</td>\n",
       "      <td>carbon_dioxide_co2_emissions_without_land_use_...</td>\n",
       "      <td>0</td>\n",
       "    </tr>\n",
       "    <tr>\n",
       "      <th>1</th>\n",
       "      <td>Australia</td>\n",
       "      <td>2013</td>\n",
       "      <td>396913.936530</td>\n",
       "      <td>carbon_dioxide_co2_emissions_without_land_use_...</td>\n",
       "      <td>0</td>\n",
       "    </tr>\n",
       "    <tr>\n",
       "      <th>2</th>\n",
       "      <td>Australia</td>\n",
       "      <td>2012</td>\n",
       "      <td>406462.847704</td>\n",
       "      <td>carbon_dioxide_co2_emissions_without_land_use_...</td>\n",
       "      <td>0</td>\n",
       "    </tr>\n",
       "    <tr>\n",
       "      <th>3</th>\n",
       "      <td>Australia</td>\n",
       "      <td>2011</td>\n",
       "      <td>403705.528314</td>\n",
       "      <td>carbon_dioxide_co2_emissions_without_land_use_...</td>\n",
       "      <td>0</td>\n",
       "    </tr>\n",
       "    <tr>\n",
       "      <th>4</th>\n",
       "      <td>Australia</td>\n",
       "      <td>2010</td>\n",
       "      <td>406200.993184</td>\n",
       "      <td>carbon_dioxide_co2_emissions_without_land_use_...</td>\n",
       "      <td>0</td>\n",
       "    </tr>\n",
       "  </tbody>\n",
       "</table>\n",
       "</div>"
      ],
      "text/plain": [
       "     country  year          value  \\\n",
       "0  Australia  2014  393126.946994   \n",
       "1  Australia  2013  396913.936530   \n",
       "2  Australia  2012  406462.847704   \n",
       "3  Australia  2011  403705.528314   \n",
       "4  Australia  2010  406200.993184   \n",
       "\n",
       "                                            category  country_encoded  \n",
       "0  carbon_dioxide_co2_emissions_without_land_use_...                0  \n",
       "1  carbon_dioxide_co2_emissions_without_land_use_...                0  \n",
       "2  carbon_dioxide_co2_emissions_without_land_use_...                0  \n",
       "3  carbon_dioxide_co2_emissions_without_land_use_...                0  \n",
       "4  carbon_dioxide_co2_emissions_without_land_use_...                0  "
      ]
     },
     "execution_count": 2,
     "metadata": {},
     "output_type": "execute_result"
    }
   ],
   "source": [
    "emission = pd.read_csv(\"greenhouse.csv\")\n",
    "emission.rename({\"country_or_area\": \"country\"}, axis=1, inplace=True)\n",
    "emission[\"country_encoded\"] = le.fit_transform(emission.country)\n",
    "emission.head()"
   ]
  },
  {
   "cell_type": "code",
   "execution_count": 3,
   "metadata": {},
   "outputs": [
    {
     "name": "stderr",
     "output_type": "stream",
     "text": [
      "/Users/thomasnguyen/opt/anaconda3/lib/python3.9/site-packages/sklearn/utils/validation.py:993: DataConversionWarning: A column-vector y was passed when a 1d array was expected. Please change the shape of y to (n_samples, ), for example using ravel().\n",
      "  y = column_or_1d(y, warn=True)\n"
     ]
    },
    {
     "name": "stdout",
     "output_type": "stream",
     "text": [
      "====  TEST ACCURACY ====\n"
     ]
    },
    {
     "name": "stderr",
     "output_type": "stream",
     "text": [
      "/Users/thomasnguyen/opt/anaconda3/lib/python3.9/site-packages/sklearn/base.py:450: UserWarning: X does not have valid feature names, but SVC was fitted with feature names\n",
      "  warnings.warn(\n"
     ]
    },
    {
     "name": "stdout",
     "output_type": "stream",
     "text": [
      "91.20095124851368 %\n",
      "==== Training Accuracy ====\n"
     ]
    },
    {
     "name": "stderr",
     "output_type": "stream",
     "text": [
      "/Users/thomasnguyen/opt/anaconda3/lib/python3.9/site-packages/sklearn/base.py:450: UserWarning: X does not have valid feature names, but SVC was fitted with feature names\n",
      "  warnings.warn(\n"
     ]
    },
    {
     "name": "stdout",
     "output_type": "stream",
     "text": [
      "91.1362284354551 %\n"
     ]
    }
   ],
   "source": [
    "X = emission.drop([\"country\", \"year\", \"category\", \"country_encoded\"], axis=1)\n",
    "y = emission[\"country_encoded\"].values.reshape(-1,1)\n",
    "\n",
    "X_train, X_test, Y_train, Y_test = train_test_split(X, y, test_size=0.2)\n",
    "\n",
    "model = svm.SVC(C=0.02, gamma=0.06)\n",
    "model.fit(X_train, Y_train)\n",
    "pred = model.predict(X_test)\n",
    "\n",
    "\n",
    "train_pred = model.predict(X_train)\n",
    "\n",
    "\n",
    "print (\"====  TEST ACCURACY ====\")\n",
    "print (\"{} %\".format(model.score(Y_test, pred) * 100))\n",
    "\n",
    "print (\"==== Training Accuracy ====\")\n",
    "print (\"{} %\".format(model.score(Y_train, train_pred) * 100))"
   ]
  },
  {
   "cell_type": "code",
   "execution_count": 4,
   "metadata": {},
   "outputs": [
    {
     "data": {
      "text/plain": [
       "Index(['country', 'year', 'value', 'category', 'country_encoded'], dtype='object')"
      ]
     },
     "execution_count": 4,
     "metadata": {},
     "output_type": "execute_result"
    }
   ],
   "source": [
    "emission.columns"
   ]
  },
  {
   "cell_type": "code",
   "execution_count": null,
   "metadata": {},
   "outputs": [],
   "source": []
  },
  {
   "cell_type": "code",
   "execution_count": 7,
   "metadata": {},
   "outputs": [],
   "source": [
    "from sklearn.preprocessing import StandardScaler"
   ]
  },
  {
   "cell_type": "code",
   "execution_count": null,
   "metadata": {},
   "outputs": [],
   "source": []
  },
  {
   "cell_type": "code",
   "execution_count": 10,
   "metadata": {},
   "outputs": [],
   "source": [
    "std = StandardScaler()\n",
    "\n",
    "emission[\"scaled_value\"] = std.fit_transform(emission[\"value\"].values.reshape(-1,1))"
   ]
  },
  {
   "cell_type": "code",
   "execution_count": 11,
   "metadata": {},
   "outputs": [
    {
     "data": {
      "text/plain": [
       "<matplotlib.collections.PathCollection at 0x7fd2c193ccd0>"
      ]
     },
     "execution_count": 11,
     "metadata": {},
     "output_type": "execute_result"
    },
    {
     "data": {
      "image/png": "[encoded data removed]",
      "text/plain": [
       "<Figure size 640x480 with 1 Axes>"
      ]
     },
     "metadata": {},
     "output_type": "display_data"
    }
   ],
   "source": [
    "sns.set()\n",
    "plt.scatter(emission.year, emission.scaled_value)"
   ]
  },
  {
   "cell_type": "code",
   "execution_count": null,
   "metadata": {},
   "outputs": [
    {
     "name": "stdout",
     "output_type": "stream",
     "text": [
      "7422207.96295139\n",
      "==== standard form ====\n",
      "7.42220796295139 * 10^6\n"
     ]
    }
   ],
   "source": []
  },
  {
   "cell_type": "code",
   "execution_count": null,
   "metadata": {},
   "outputs": [
    {
     "data": {
      "text/plain": [
       "<AxesSubplot: xlabel='value', ylabel='Count'>"
      ]
     },
     "execution_count": 18,
     "metadata": {},
     "output_type": "execute_result"
    },
    {
     "data": {
      "image/png": "[encoded data removed]",
      "text/plain": [
       "<Figure size 640x480 with 1 Axes>"
      ]
     },
     "metadata": {},
     "output_type": "display_data"
    }
   ],
   "source": []
  },
  {
   "cell_type": "code",
   "execution_count": null,
   "metadata": {},
   "outputs": [],
   "source": [
    "from sklearn.decomposition import PCA\n"
   ]
  },
  {
   "cell_type": "code",
   "execution_count": null,
   "metadata": {},
   "outputs": [
    {
     "data": {
      "text/html": [
       "<div>\n",
       "<style scoped>\n",
       "    .dataframe tbody tr th:only-of-type {\n",
       "        vertical-align: middle;\n",
       "    }\n",
       "\n",
       "    .dataframe tbody tr th {\n",
       "        vertical-align: top;\n",
       "    }\n",
       "\n",
       "    .dataframe thead th {\n",
       "        text-align: right;\n",
       "    }\n",
       "</style>\n",
       "<table border=\"1\" class=\"dataframe\">\n",
       "  <thead>\n",
       "    <tr style=\"text-align: right;\">\n",
       "      <th></th>\n",
       "      <th>wt1</th>\n",
       "      <th>wt2</th>\n",
       "      <th>wt3</th>\n",
       "      <th>wt4</th>\n",
       "      <th>wt5</th>\n",
       "      <th>ko1</th>\n",
       "      <th>ko2</th>\n",
       "      <th>ko3</th>\n",
       "      <th>ko4</th>\n",
       "      <th>ko5</th>\n",
       "    </tr>\n",
       "  </thead>\n",
       "  <tbody>\n",
       "    <tr>\n",
       "      <th>gene1</th>\n",
       "      <td>785</td>\n",
       "      <td>764</td>\n",
       "      <td>761</td>\n",
       "      <td>778</td>\n",
       "      <td>761</td>\n",
       "      <td>600</td>\n",
       "      <td>605</td>\n",
       "      <td>609</td>\n",
       "      <td>609</td>\n",
       "      <td>600</td>\n",
       "    </tr>\n",
       "    <tr>\n",
       "      <th>gene2</th>\n",
       "      <td>253</td>\n",
       "      <td>258</td>\n",
       "      <td>274</td>\n",
       "      <td>267</td>\n",
       "      <td>267</td>\n",
       "      <td>63</td>\n",
       "      <td>49</td>\n",
       "      <td>48</td>\n",
       "      <td>41</td>\n",
       "      <td>51</td>\n",
       "    </tr>\n",
       "    <tr>\n",
       "      <th>gene3</th>\n",
       "      <td>697</td>\n",
       "      <td>722</td>\n",
       "      <td>719</td>\n",
       "      <td>657</td>\n",
       "      <td>700</td>\n",
       "      <td>911</td>\n",
       "      <td>895</td>\n",
       "      <td>946</td>\n",
       "      <td>917</td>\n",
       "      <td>938</td>\n",
       "    </tr>\n",
       "    <tr>\n",
       "      <th>gene4</th>\n",
       "      <td>569</td>\n",
       "      <td>570</td>\n",
       "      <td>604</td>\n",
       "      <td>596</td>\n",
       "      <td>567</td>\n",
       "      <td>769</td>\n",
       "      <td>756</td>\n",
       "      <td>730</td>\n",
       "      <td>807</td>\n",
       "      <td>717</td>\n",
       "    </tr>\n",
       "    <tr>\n",
       "      <th>gene5</th>\n",
       "      <td>951</td>\n",
       "      <td>950</td>\n",
       "      <td>929</td>\n",
       "      <td>978</td>\n",
       "      <td>998</td>\n",
       "      <td>999</td>\n",
       "      <td>1014</td>\n",
       "      <td>919</td>\n",
       "      <td>1003</td>\n",
       "      <td>983</td>\n",
       "    </tr>\n",
       "    <tr>\n",
       "      <th>...</th>\n",
       "      <td>...</td>\n",
       "      <td>...</td>\n",
       "      <td>...</td>\n",
       "      <td>...</td>\n",
       "      <td>...</td>\n",
       "      <td>...</td>\n",
       "      <td>...</td>\n",
       "      <td>...</td>\n",
       "      <td>...</td>\n",
       "      <td>...</td>\n",
       "    </tr>\n",
       "    <tr>\n",
       "      <th>gene96</th>\n",
       "      <td>400</td>\n",
       "      <td>434</td>\n",
       "      <td>414</td>\n",
       "      <td>441</td>\n",
       "      <td>448</td>\n",
       "      <td>833</td>\n",
       "      <td>844</td>\n",
       "      <td>867</td>\n",
       "      <td>813</td>\n",
       "      <td>865</td>\n",
       "    </tr>\n",
       "    <tr>\n",
       "      <th>gene97</th>\n",
       "      <td>242</td>\n",
       "      <td>249</td>\n",
       "      <td>250</td>\n",
       "      <td>228</td>\n",
       "      <td>251</td>\n",
       "      <td>207</td>\n",
       "      <td>218</td>\n",
       "      <td>199</td>\n",
       "      <td>195</td>\n",
       "      <td>189</td>\n",
       "    </tr>\n",
       "    <tr>\n",
       "      <th>gene98</th>\n",
       "      <td>260</td>\n",
       "      <td>245</td>\n",
       "      <td>273</td>\n",
       "      <td>252</td>\n",
       "      <td>282</td>\n",
       "      <td>496</td>\n",
       "      <td>527</td>\n",
       "      <td>529</td>\n",
       "      <td>515</td>\n",
       "      <td>531</td>\n",
       "    </tr>\n",
       "    <tr>\n",
       "      <th>gene99</th>\n",
       "      <td>1003</td>\n",
       "      <td>1001</td>\n",
       "      <td>965</td>\n",
       "      <td>1001</td>\n",
       "      <td>960</td>\n",
       "      <td>872</td>\n",
       "      <td>759</td>\n",
       "      <td>823</td>\n",
       "      <td>838</td>\n",
       "      <td>831</td>\n",
       "    </tr>\n",
       "    <tr>\n",
       "      <th>gene100</th>\n",
       "      <td>975</td>\n",
       "      <td>906</td>\n",
       "      <td>927</td>\n",
       "      <td>970</td>\n",
       "      <td>958</td>\n",
       "      <td>971</td>\n",
       "      <td>926</td>\n",
       "      <td>981</td>\n",
       "      <td>971</td>\n",
       "      <td>1052</td>\n",
       "    </tr>\n",
       "  </tbody>\n",
       "</table>\n",
       "<p>100 rows × 10 columns</p>\n",
       "</div>"
      ],
      "text/plain": [
       "          wt1   wt2  wt3   wt4  wt5  ko1   ko2  ko3   ko4   ko5\n",
       "gene1     785   764  761   778  761  600   605  609   609   600\n",
       "gene2     253   258  274   267  267   63    49   48    41    51\n",
       "gene3     697   722  719   657  700  911   895  946   917   938\n",
       "gene4     569   570  604   596  567  769   756  730   807   717\n",
       "gene5     951   950  929   978  998  999  1014  919  1003   983\n",
       "...       ...   ...  ...   ...  ...  ...   ...  ...   ...   ...\n",
       "gene96    400   434  414   441  448  833   844  867   813   865\n",
       "gene97    242   249  250   228  251  207   218  199   195   189\n",
       "gene98    260   245  273   252  282  496   527  529   515   531\n",
       "gene99   1003  1001  965  1001  960  872   759  823   838   831\n",
       "gene100   975   906  927   970  958  971   926  981   971  1052\n",
       "\n",
       "[100 rows x 10 columns]"
      ]
     },
     "execution_count": 51,
     "metadata": {},
     "output_type": "execute_result"
    }
   ],
   "source": [
    "import random as rd\n",
    "genes = [\"gene\" + str(i) for i in range(1,101)]\n",
    "\n",
    "wt = [\"wt\" + str(i) for i in range(1,6)]\n",
    "ko = [\"ko\" + str(i) for i in  range(1,6)]\n",
    "\n",
    "data = pd.DataFrame(columns=[*wt, *ko], index=genes)\n",
    "\n",
    "for gene in data.index:\n",
    "    data.loc[gene, \"wt1\": \"wt5\"] = np.random.poisson(lam=rd.randrange(10, 1000), size=5)\n",
    "    data.loc[gene, \"ko1\": \"ko5\"] = np.random.poisson(lam=rd.randrange(10,1000), size=5)\n",
    "data"
   ]
  },
  {
   "cell_type": "code",
   "execution_count": null,
   "metadata": {},
   "outputs": [
    {
     "name": "stdout",
     "output_type": "stream",
     "text": [
      "       wt1  wt2  wt3  wt4  wt5  ko1  ko2  ko3  ko4  ko5\n",
      "gene1   96   85  109  104   99  411  411  423  422  411\n",
      "gene2  211  193  199  219  218  890  861  836  943  885\n",
      "gene3  723  651  687  702  712  169  142  180  173  173\n",
      "gene4  876  900  931  951  981  375  336  344  339  349\n",
      "gene5  181  216  208  211  200  437  441  478  377  377\n",
      "Index(['wt1', 'wt2', 'wt3', 'wt4', 'wt5', 'ko1', 'ko2', 'ko3', 'ko4', 'ko5'], dtype='object')\n"
     ]
    }
   ],
   "source": [
    "print (data.head())\n",
    "print (data.columns)"
   ]
  },
  {
   "cell_type": "code",
   "execution_count": null,
   "metadata": {},
   "outputs": [],
   "source": [
    "from sklearn.preprocessing import StandardScaler\n"
   ]
  },
  {
   "cell_type": "code",
   "execution_count": null,
   "metadata": {},
   "outputs": [],
   "source": [
    "std = StandardScaler()"
   ]
  },
  {
   "cell_type": "code",
   "execution_count": null,
   "metadata": {},
   "outputs": [],
   "source": [
    "scaled_data = std.fit_transform(data.T)"
   ]
  },
  {
   "cell_type": "code",
   "execution_count": null,
   "metadata": {},
   "outputs": [
    {
     "name": "stdout",
     "output_type": "stream",
     "text": [
      "[[-1.01541723 -0.98813056  1.10298259  0.8173387  -1.16225397 -0.99444114\n",
      "  -0.87981383  0.837146   -0.8286253   1.00383615  0.43750436  1.05943622\n",
      "   0.9438923  -1.06699253 -0.98193543  0.96927207  0.99119677 -0.58372293\n",
      "   1.17544545 -1.08168232  1.17411685  1.30740061  0.51927587  1.00201295\n",
      "   0.86245626  0.88797133 -0.84041383 -1.06070998  0.87192367  0.97254872\n",
      "  -1.04346824  1.82822711  1.19614264  1.09371584  0.85658691  2.05272507\n",
      "   0.81999991  1.00278006 -0.96071751  0.9703838   0.88859132  1.55435242\n",
      "  -0.96258665  0.95844145 -1.06788611  1.06054479 -1.08940754  1.03559307\n",
      "  -1.1341665  -1.61247681 -1.00216731  0.90375067 -1.0217738  -0.90579781\n",
      "   0.98085666 -0.99167149  1.03704445  0.98097624 -1.50206477 -0.984038\n",
      "  -0.94970027 -1.01420665  0.96681845 -1.00692218 -1.02737556  1.16478111\n",
      "  -1.36817644  0.70484437  1.02040713 -0.97001191 -1.23956443 -0.88113949\n",
      "   0.8241189   0.80969487 -0.94258026 -0.88663029 -0.31763526  0.79196666\n",
      "  -0.55982858 -1.89404015 -0.91330655  0.92636971  0.96338621 -1.13715687\n",
      "  -1.30325725  1.08901452 -0.98265594  0.96730787 -0.29634565 -1.16023503\n",
      "   1.07232152  0.99785842 -0.77061257  1.04052429  1.06955988  1.04989844\n",
      "   0.86075891 -0.94422828  1.00753696  1.20484216]\n",
      " [-1.0847505  -1.0413035   0.83082787  0.89982873 -0.85314387 -0.96355787\n",
      "  -1.081606    1.077475   -0.69128409  1.01374569  1.31929611  0.92511097\n",
      "   0.84536492 -0.73868713 -0.97494656  0.93467066  1.02164829 -0.4096771\n",
      "   0.7862251  -0.96500339  0.91611281  0.96169372  1.10872416  0.99880548\n",
      "   0.95981727  1.08082225 -1.07386212 -0.90791627  0.49930672  0.9021252\n",
      "  -1.00970897  0.53024109  0.72939386  0.85353668  1.05756604 -0.11036156\n",
      "   0.83314094  0.95514205 -1.15693632  0.92902687  1.03920002  0.56793646\n",
      "  -0.98183838  0.95426159 -0.79708809  1.09247822 -1.01866679  1.41354674\n",
      "  -0.93042402  1.5982071  -0.99041168  1.05254537 -1.01168055  0.08140057\n",
      "   1.27429587 -0.9967622   1.05504244  0.97303311 -0.87072406 -1.03751832\n",
      "  -1.04249323 -0.9847239   0.96681845 -0.99239926 -0.98494707  1.00277636\n",
      "   0.24799939  0.9998955   1.04450175 -1.17315576 -1.00362976 -0.96663514\n",
      "   0.96295963  1.05033845 -1.00998344 -1.03369249  0.1427057   1.21597343\n",
      "  -0.93121364 -0.11837751 -0.92842126  1.03673394  1.14200447 -0.94965283\n",
      "   0.57149796  1.01592629 -1.20567006  0.88416736 -1.00977036 -1.10711072\n",
      "   0.82385678  1.09665628 -1.01346177  0.9479418   0.80448928  1.00146021\n",
      "   1.31435833 -1.0245003   0.97980023  0.9947716 ]\n",
      " [-0.93347791 -1.02357919  0.96690523  1.00637835 -0.9237976  -0.95513517\n",
      "  -1.07007502  0.79709117 -1.02700705  0.78582632  1.28538104  0.68245892\n",
      "   0.29361159 -1.12171009 -1.12870158  1.0384749   0.94044425 -1.32007066\n",
      "   1.05311906 -0.96843512  1.01137584  0.96169372 -0.15437931  1.13351913\n",
      "   1.10585878  0.95654055 -1.28701055 -1.02050111  1.27647922  1.06057811\n",
      "  -0.94832849 -0.79536164  0.91925777  0.9916397   0.98826289  0.353157\n",
      "   0.97769221  0.97555834 -0.80977996  1.07941568  0.4152497   0.83695899\n",
      "  -1.00109011  0.97934074 -1.07965994  0.95764817 -0.94085197 -0.40063089\n",
      "  -2.08496477  0.38528207 -0.99041168  1.12339999 -1.0217738  -0.99239416\n",
      "   0.83173181 -0.99930756  0.8786621   1.12395254 -0.47613612 -0.93649993\n",
      "  -1.02107947 -0.94541357  1.05831547 -0.99724023 -0.99403889  0.94657063\n",
      "  -1.20098583  1.31680228  0.7312717  -0.99540489 -0.38656987 -0.99335252\n",
      "   1.01254561  0.82385038 -1.01353097 -1.02982244 -1.65262402  1.03077507\n",
      "  -1.02749865  0.37486211 -1.05689633  1.15399593  0.84814863 -1.17024582\n",
      "  -1.75682706  0.85756848 -0.98265594  0.90974906 -0.07683035 -0.65024161\n",
      "   0.85001096  0.86612793 -1.06983748  1.00966346  1.06514204  0.92880288\n",
      "   0.66635915 -1.00385892  1.14622065  1.04291277]\n",
      " [-0.96499304 -0.96449814  1.02360413  1.07512004 -0.89730245 -1.02532441\n",
      "  -0.93170325  0.55676217 -1.2711692   1.13266014  1.16667831  1.15476382\n",
      "   1.69270039 -1.09435131 -1.08676839  1.02982454  0.88461647 -1.72171487\n",
      "   1.15320429 -1.01304765  0.864512    0.33313573  0.63155173  1.10465192\n",
      "   0.91925019  1.0722511  -0.88101353 -0.99637579  1.15937104  0.97606989\n",
      "  -0.94525947  1.38635953  0.94299076  1.12674047  0.74570187 -0.81667557\n",
      "   1.35878191  1.15249952 -0.96071751  1.11325317  1.21132424  0.86685039\n",
      "  -1.05334482  1.02113932 -0.8441834   0.9292629  -0.99037049  0.65763939\n",
      "   0.02037425 -0.6849459  -1.00216731  0.82581059 -0.96121427 -0.29962337\n",
      "   1.02896145 -1.00948899  0.99024966  0.96111842 -0.31830094 -0.9543267\n",
      "  -0.97468299 -1.00437907  0.96681845 -0.98755829 -0.98494707  0.90028356\n",
      "  -0.81087443  0.79773084  0.99631251 -0.93192243 -0.87658802 -0.94526122\n",
      "   0.97287683  0.80969487 -0.98515069 -1.01821226 -0.68590802  1.0697642\n",
      "  -1.28884369 -0.31567336 -1.10979782  0.98155183  0.78476796 -0.88347493\n",
      "  -1.09159134  0.96720081 -1.26142359  1.15597288 -1.41221507 -1.01148695\n",
      "   1.24232372  0.93199318 -1.13488638  1.00451999  1.07839557  0.99540544\n",
      "   1.06595864 -1.04514168  0.96593186  0.87223045]\n",
      " [-0.99650816 -0.96745219  1.06140339  1.17823258 -0.99445134 -1.04216982\n",
      "  -1.0181856   1.51807815 -1.05752732  1.03851953  0.53924957  1.13309845\n",
      "   0.49066635 -0.90283983 -0.80721382  1.02549937  1.14852959 -0.62388735\n",
      "   0.7862251  -0.96843512  1.01931442  0.67884262  1.92272417  0.73579312\n",
      "   1.13425575  0.99511073 -0.82011398 -0.99637579  1.06355525  1.08170516\n",
      "  -1.04346824  0.22645713  1.15658766  0.91958595  1.28626643  1.28019413\n",
      "   0.91198708  0.90410133 -1.06637379  0.89142967  1.2543553   1.01630735\n",
      "  -0.97083739  1.07129761 -1.12675524  0.95410001 -0.89133344  1.03559307\n",
      "   0.08828841 -0.25685471 -1.00216731  1.07734449 -0.97130753 -1.33877955\n",
      "   0.84616325 -1.00185292  1.03344485  0.94920373 -1.265312   -1.07911413\n",
      "  -1.01037259 -1.03386182  1.00951706 -1.00934266 -1.00616132  0.97302038\n",
      "  -1.22885093  1.11463761  1.14088023 -0.89383296 -1.31215971 -1.1910612\n",
      "   1.20097231  1.40422607 -1.03836373 -1.01821226 -1.10021488  0.86019764\n",
      "  -0.62860359  0.47351004 -0.96998673  0.86428984  1.22267078 -0.78420808\n",
      "   0.20864211  1.0524704  -0.18816816  1.06963465 -1.4670939  -1.00086209\n",
      "   0.96770479  1.09665628 -0.98310562  0.97365916  0.9591138   1.01962455\n",
      "   0.99035874 -0.97863057  0.88272165  0.86347751]\n",
      " [ 0.97003546  1.01767108 -0.99109676 -0.90464065  1.0986656   0.87259262\n",
      "   0.91325368 -1.24570529  1.23149285 -0.94834274 -1.07171612 -0.9684417\n",
      "   0.05714588  1.01227496  1.05881293 -0.97705739 -0.99830212  0.99607766\n",
      "  -0.97082675  0.98422109 -1.01693285 -0.86112444 -0.85610346 -0.9577499\n",
      "  -0.96711935 -1.00196765  0.93582313  0.96581704 -0.83146812 -1.04860611\n",
      "   1.06802044 -0.57442785 -0.90818237 -1.01986075 -0.96608588 -0.64009706\n",
      "  -0.92775631 -1.03884884  0.94109563 -1.06362486 -0.74658883 -1.01630735\n",
      "   1.23486116 -0.9684731   1.25155781 -1.01158019  1.11770384 -0.70299383\n",
      "   0.97117251  0.24258501  1.07857889 -0.93846943  0.88248689  0.4624245\n",
      "  -1.11170169  0.98098098 -0.98952974 -0.96111842  0.04998114  1.00067632\n",
      "   0.99538296  0.94639633 -1.21081049  1.09648016  0.96373283 -1.02393616\n",
      "   0.97249201 -1.09278197 -0.73850008  0.8455863   1.10163339  0.98373426\n",
      "  -1.08989973 -1.27116433  0.99082675  1.02130831  0.55701255 -0.95279682\n",
      "   1.04950666 -0.90756091  0.99870468 -1.06018634 -0.9783671   0.93641725\n",
      "   0.05745218 -0.99399983  0.18816816 -0.99928499  0.03292729  1.24098399\n",
      "  -1.15078408 -0.986332    1.15049811 -0.80598199 -1.03775141 -1.08138328\n",
      "  -0.75923903  1.03963731 -0.87856114 -1.04466336]\n",
      " [ 0.97003546  0.93200356 -1.09315478 -1.03868694  1.13399247  1.15896472\n",
      "   1.0170325  -0.6448828   0.68212801 -0.89384028 -0.56299011 -0.95544248\n",
      "  -1.34194291  1.34058036  1.07977953 -0.99868327 -1.0642804   1.10318278\n",
      "  -1.01530908  1.04942402 -0.98517851 -1.36397083 -0.32279311 -0.98661711\n",
      "  -0.9427791  -0.99768208  1.4027197   0.99798414 -0.76759093 -0.94649202\n",
      "   1.04039922 -1.2096125  -0.90818237 -0.95080924 -1.09776186 -1.56713419\n",
      "  -1.22999987 -0.96739183  0.95618938 -0.91323605 -1.41357021 -1.01630735\n",
      "   1.03409309 -1.08550913  0.73350942 -1.01512835  1.14600014 -1.45890118\n",
      "   0.49577338  0.02853941  0.89636666 -1.00578132  1.16509802  1.64013485\n",
      "  -0.98662923  1.05225101 -0.97873094 -1.12395254  1.26005083  0.95908051\n",
      "   0.99895192  0.93165495 -1.03391626  1.06743433  0.98797768 -0.97764909\n",
      "   0.4709202  -0.97257596 -1.17220323  1.20108804  1.1923775   1.09060382\n",
      "  -1.01056217 -0.84649918  1.02984964  1.14902022  0.64908074 -1.07463784\n",
      "   0.55432658  1.36134136  1.1687452  -0.77737801 -0.89770079  0.89229865\n",
      "   0.81340186 -0.98790914  1.08022462 -1.00887813  1.42319084  0.91161324\n",
      "  -1.04616734 -1.01926462  0.96402461 -1.14030764 -0.93172317 -0.94817817\n",
      "  -1.06163865  0.94331089 -1.024179   -0.94400455]\n",
      " [ 1.04567175  0.85815225 -0.94951757 -1.01119027  1.460766    1.11685117\n",
      "   1.16693525 -1.04543113  0.69738815 -1.12175964 -0.88518325 -0.90344561\n",
      "  -1.26312101  0.84812227  0.94000224 -1.01598398 -1.03890414  0.88897253\n",
      "  -1.13763547  0.98765283 -0.98517851 -0.45256175 -0.21051724 -1.00906938\n",
      "  -1.05636694 -0.95911189  0.85462373  1.19098671 -1.03374589 -0.97466142\n",
      "   1.04653727 -0.71251147 -0.93982636 -1.04988314 -0.85520085  0.30901238\n",
      "  -1.1905768  -1.02183527  0.75997056 -1.04858598 -0.89719753 -1.10598153\n",
      "   0.88557972 -0.81381836  0.7217356  -0.96900228  1.13185199 -0.40063089\n",
      "   1.10700084  0.09988794  0.87873321 -0.99869586  0.93631758  1.34570726\n",
      "  -1.00587115  0.99116241 -1.03272493 -0.93331748  1.04960393  1.0898102\n",
      "   1.01679672  1.06432733 -0.73502602  0.91494371  1.00919193 -1.07022324\n",
      "   0.4430551  -1.02721505 -1.1360613   0.83288981  0.92014519  1.00510818\n",
      "  -0.90147302 -1.03052074  1.08306268  0.88585628  1.29355808 -1.00640687\n",
      "   0.91195663  1.65728513  0.93824583 -0.94292435 -0.98989086  1.19009919\n",
      "   0.05745218 -0.94527434  1.21960844 -0.99608728  0.92928142  0.78411489\n",
      "  -0.99385897 -0.97809884  0.9119855  -0.94485572 -1.13494396 -0.97239728\n",
      "  -1.23443843  0.95936529 -0.92016624 -1.03591042]\n",
      " [ 1.03936872  1.17423586 -0.97597705 -1.02837569  0.56876258  0.88101533\n",
      "   0.96514309 -1.16559563  1.04837124 -0.94338797 -0.98692845 -0.99877321\n",
      "  -0.45519649  0.9575574   0.97494656 -1.00300845 -0.90694758  0.83541997\n",
      "  -0.90410327  1.00137976 -0.97327063  0.17599624 -1.22100002 -1.00906938\n",
      "  -1.07665048 -0.99768208  0.87492358  0.85323221 -0.9911611  -1.02747906\n",
      "   0.97901873  0.44739092 -0.95564835 -0.99584283 -0.8344099  -0.50766319\n",
      "  -0.74378197 -0.9605864   1.20523634 -1.06362486 -0.76810436 -0.98641596\n",
      "   0.7865708  -1.09386885  1.18091485 -1.02577283  0.55177784 -1.53449192\n",
      "   0.69951587 -1.32708268  1.13735703 -1.00578132  0.98678385 -0.88847854\n",
      "  -0.9481454   0.9860717  -0.98593014 -1.03260657  1.36527428  0.90560018\n",
      "   0.9739692   1.18225834 -0.94851905  0.9343076   1.07586527 -0.95450555\n",
      "   1.36260342 -0.91247295 -1.09991937  1.03603366  0.64791289  1.05319948\n",
      "  -1.07006534 -0.80403267  0.83828271  0.95938738 -0.54780573 -0.9625441\n",
      "   0.05914651  0.07891834  1.02893411 -1.20503938 -1.04174777  0.69376496\n",
      "   1.20649569 -1.15844833  1.1777933  -0.9737033   1.14879672  1.06036132\n",
      "  -0.83693387 -0.986332    0.93366846 -0.92942531 -0.98915513 -1.0208355\n",
      "  -0.77003902  1.01211547 -1.07965248 -0.99652219]\n",
      " [ 0.97003546  1.00290082 -0.97597705 -0.99400485  0.56876258  0.95120457\n",
      "   0.91901917 -0.68493764  1.21623272 -1.06725719 -1.24129145 -1.12876538\n",
      "  -1.26312101  0.76604592  0.92602451 -1.00300845 -0.97800112  0.83541997\n",
      "  -0.92634443  0.97392589 -1.02487143 -1.74110562 -1.41748278 -1.01227685\n",
      "  -0.93872239 -1.03625226  0.83432388  0.97385882 -1.24666987 -0.99578848\n",
      "   0.85625776 -1.12676233 -1.23253322 -0.96882268 -1.18092564 -0.353157\n",
      "  -0.80948709 -1.00141898  1.09203318 -0.89443745 -0.98325964 -0.71739342\n",
      "   1.02859259 -1.02281126  1.0278551  -0.97255044  0.98329642  0.35527645\n",
      "   0.76743003  1.52685857  0.9962895  -1.03412317  1.01706362  0.89540625\n",
      "  -0.90966157  0.98861706 -1.00752774 -0.93728904  0.70762771  1.03632987\n",
      "   1.01322776  0.85794807 -1.04001606  0.98029683  0.96070222 -0.96111799\n",
      "   1.11181751 -0.92886468 -0.78668932  1.04873015  0.95644283  0.84480384\n",
      "  -0.90147302 -0.94558772  1.04758732  0.97099755  1.66183084 -0.97229138\n",
      "   1.86105178 -0.71026506  0.84377887 -0.97741317 -1.05327153  1.21215849\n",
      "   1.23673368 -0.89654886  0.95477918 -1.00887813  0.72805907  0.93286297\n",
      "  -0.92847352 -1.01926462  1.01172714 -1.15573805 -0.88312689 -0.97239728\n",
      "  -1.07243864  1.04193079 -1.07965248 -0.95713396]]\n"
     ]
    },
    {
     "data": {
      "text/plain": [
       "<AxesSubplot: ylabel='Count'>"
      ]
     },
     "execution_count": 45,
     "metadata": {},
     "output_type": "execute_result"
    },
    {
     "data": {
      "image/png": "[encoded data removed]",
      "text/plain": [
       "<Figure size 640x480 with 1 Axes>"
      ]
     },
     "metadata": {},
     "output_type": "display_data"
    }
   ],
   "source": [
    "print (scaled_data)\n",
    "\n",
    "sns.histplot(scaled_data)"
   ]
  },
  {
   "cell_type": "code",
   "execution_count": null,
   "metadata": {},
   "outputs": [],
   "source": [
    "pca = PCA()"
   ]
  },
  {
   "cell_type": "code",
   "execution_count": null,
   "metadata": {},
   "outputs": [
    {
     "data": {
      "image/png": "[encoded data removed]",
      "text/plain": [
       "<Figure size 640x480 with 1 Axes>"
      ]
     },
     "metadata": {},
     "output_type": "display_data"
    },
    {
     "name": "stdout",
     "output_type": "stream",
     "text": [
      "91.0317912115939 %\n"
     ]
    }
   ],
   "source": [
    "pca.fit(scaled_data)\n",
    "pca_data = pca.transform(scaled_data)\n",
    "per_var = np.round(pca.explained_variance_ratio_ * 100, decimals=1)\n",
    "labels = [\"PC\" + str(x) for x in range(1, len(per_var) + 1)]\n",
    "plt.bar(x=range(1, len(per_var) + 1), height=per_var, tick_label=labels)\n",
    "plt.ylabel('Percentage of explained variance')\n",
    "plt.xlabel(\"Principal component\")\n",
    "plt.title(\"Scree plot\")\n",
    "plt.show()\n",
    "\n",
    "print (f\"{max(pca.explained_variance_ratio_) * 100} %\")"
   ]
  },
  {
   "cell_type": "markdown",
   "metadata": {},
   "source": []
  },
  {
   "cell_type": "code",
   "execution_count": null,
   "metadata": {},
   "outputs": [
    {
     "data": {
      "image/png": "[encoded data removed]",
      "text/plain": [
       "<Figure size 640x480 with 1 Axes>"
      ]
     },
     "metadata": {},
     "output_type": "display_data"
    }
   ],
   "source": [
    "pca_df = pd.DataFrame(pca_data, index=[*wt, *ko], columns=labels)\n",
    "plt.scatter(pca_df.PC1, pca_df.PC2)\n",
    "plt.title(\"My PCA Graph\")\n",
    "plt.xlabel(\"PC1 - {0}%\".format(per_var[0]))\n",
    "plt.ylabel(\"PC2 - {0}\".format(per_var[1]))\n",
    "\n",
    "for sample in pca_df.index:\n",
    "    plt.annotate(sample, (pca_df.PC1.loc[sample], pca_df.PC2.loc[sample]))\n",
    "plt.show()"
   ]
  },
  {
   "cell_type": "markdown",
   "metadata": {},
   "source": [
    "The separation of the two clusters along the x-axis suggests that \"wt\" samples are very different from \"ko\" samples"
   ]
  },
  {
   "cell_type": "code",
   "execution_count": null,
   "metadata": {},
   "outputs": [
    {
     "name": "stdout",
     "output_type": "stream",
     "text": [
      "gene56    0.104778\n",
      "gene20    0.104757\n",
      "gene16   -0.104734\n",
      "gene61    0.104699\n",
      "gene65    0.104681\n",
      "gene64    0.104670\n",
      "gene57   -0.104668\n",
      "gene3    -0.104653\n",
      "gene96   -0.104633\n",
      "gene75    0.104627\n",
      "dtype: float64\n"
     ]
    }
   ],
   "source": [
    "loading_scores = pd.Series(pca.components_[0], index=genes)\n",
    "sorted_loading_scores = loading_scores.abs().sort_values(ascending=False)\n",
    "top_10_genes = sorted_loading_scores[0:10].index.values\n",
    "\n",
    "print (loading_scores[top_10_genes])\n"
   ]
  },
  {
   "cell_type": "code",
   "execution_count": null,
   "metadata": {},
   "outputs": [
    {
     "name": "stdout",
     "output_type": "stream",
     "text": [
      "[91.   2.4  2.   1.3  1.2  0.9  0.5  0.4  0.3  0. ]\n"
     ]
    }
   ],
   "source": [
    "print (per_var)"
   ]
  },
  {
   "cell_type": "code",
   "execution_count": null,
   "metadata": {},
   "outputs": [
    {
     "data": {
      "text/html": [
       "<div>\n",
       "<style scoped>\n",
       "    .dataframe tbody tr th:only-of-type {\n",
       "        vertical-align: middle;\n",
       "    }\n",
       "\n",
       "    .dataframe tbody tr th {\n",
       "        vertical-align: top;\n",
       "    }\n",
       "\n",
       "    .dataframe thead th {\n",
       "        text-align: right;\n",
       "    }\n",
       "</style>\n",
       "<table border=\"1\" class=\"dataframe\">\n",
       "  <thead>\n",
       "    <tr style=\"text-align: right;\">\n",
       "      <th></th>\n",
       "      <th>wt1</th>\n",
       "      <th>wt2</th>\n",
       "      <th>wt3</th>\n",
       "      <th>wt4</th>\n",
       "      <th>wt5</th>\n",
       "      <th>ko1</th>\n",
       "      <th>ko2</th>\n",
       "      <th>ko3</th>\n",
       "      <th>ko4</th>\n",
       "      <th>ko5</th>\n",
       "    </tr>\n",
       "  </thead>\n",
       "  <tbody>\n",
       "    <tr>\n",
       "      <th>gene1</th>\n",
       "      <td>96</td>\n",
       "      <td>85</td>\n",
       "      <td>109</td>\n",
       "      <td>104</td>\n",
       "      <td>99</td>\n",
       "      <td>411</td>\n",
       "      <td>411</td>\n",
       "      <td>423</td>\n",
       "      <td>422</td>\n",
       "      <td>411</td>\n",
       "    </tr>\n",
       "    <tr>\n",
       "      <th>gene2</th>\n",
       "      <td>211</td>\n",
       "      <td>193</td>\n",
       "      <td>199</td>\n",
       "      <td>219</td>\n",
       "      <td>218</td>\n",
       "      <td>890</td>\n",
       "      <td>861</td>\n",
       "      <td>836</td>\n",
       "      <td>943</td>\n",
       "      <td>885</td>\n",
       "    </tr>\n",
       "    <tr>\n",
       "      <th>gene3</th>\n",
       "      <td>723</td>\n",
       "      <td>651</td>\n",
       "      <td>687</td>\n",
       "      <td>702</td>\n",
       "      <td>712</td>\n",
       "      <td>169</td>\n",
       "      <td>142</td>\n",
       "      <td>180</td>\n",
       "      <td>173</td>\n",
       "      <td>173</td>\n",
       "    </tr>\n",
       "    <tr>\n",
       "      <th>gene4</th>\n",
       "      <td>876</td>\n",
       "      <td>900</td>\n",
       "      <td>931</td>\n",
       "      <td>951</td>\n",
       "      <td>981</td>\n",
       "      <td>375</td>\n",
       "      <td>336</td>\n",
       "      <td>344</td>\n",
       "      <td>339</td>\n",
       "      <td>349</td>\n",
       "    </tr>\n",
       "    <tr>\n",
       "      <th>gene5</th>\n",
       "      <td>181</td>\n",
       "      <td>216</td>\n",
       "      <td>208</td>\n",
       "      <td>211</td>\n",
       "      <td>200</td>\n",
       "      <td>437</td>\n",
       "      <td>441</td>\n",
       "      <td>478</td>\n",
       "      <td>377</td>\n",
       "      <td>377</td>\n",
       "    </tr>\n",
       "  </tbody>\n",
       "</table>\n",
       "</div>"
      ],
      "text/plain": [
       "       wt1  wt2  wt3  wt4  wt5  ko1  ko2  ko3  ko4  ko5\n",
       "gene1   96   85  109  104   99  411  411  423  422  411\n",
       "gene2  211  193  199  219  218  890  861  836  943  885\n",
       "gene3  723  651  687  702  712  169  142  180  173  173\n",
       "gene4  876  900  931  951  981  375  336  344  339  349\n",
       "gene5  181  216  208  211  200  437  441  478  377  377"
      ]
     },
     "execution_count": 36,
     "metadata": {},
     "output_type": "execute_result"
    }
   ],
   "source": [
    "data.head()"
   ]
  },
  {
   "cell_type": "code",
   "execution_count": null,
   "metadata": {},
   "outputs": [
    {
     "name": "stdout",
     "output_type": "stream",
     "text": [
      "[[-9.83724197e+00  2.41691214e+00 -1.59195832e+00  2.38882560e-01\n",
      "  -1.50267380e+00 -6.46753495e-01 -8.33537975e-01  2.18397462e-01\n",
      "   3.58752241e-01  6.93889390e-16]\n",
      " [-9.14326830e+00 -2.34454704e+00 -9.58340384e-01 -4.13022948e-01\n",
      "   9.62587227e-01  8.78934522e-01 -1.10782191e+00 -6.62074704e-01\n",
      "   2.14961845e-01  1.80411242e-15]\n",
      " [-9.30661754e+00 -2.08793138e-01  2.72823500e+00 -1.19662931e+00\n",
      "  -1.62395621e+00  6.20685186e-01  3.88983057e-01 -2.23142706e-01\n",
      "  -1.94411900e-01  1.80411242e-15]\n",
      " [-9.64880154e+00  3.58255163e-01  2.62005843e-01 -1.02761725e+00\n",
      "   1.84289854e+00 -1.50132774e+00  3.11306021e-01  4.47016484e-01\n",
      "  -5.45511709e-01  1.79023463e-15]\n",
      " [-9.74637627e+00 -4.22800627e-01 -3.76037693e-01  2.36194012e+00\n",
      "   2.98299827e-01  6.45548592e-01  1.20791699e+00  2.35140936e-01\n",
      "   1.83759516e-01  3.16413562e-15]\n",
      " [ 9.30704789e+00  6.60229538e-01 -1.12665272e+00 -1.17645118e+00\n",
      "   1.46473628e-01 -3.04596408e-01  1.09172229e+00 -9.48514144e-01\n",
      "   7.04278687e-01  8.88178420e-16]\n",
      " [ 1.00258256e+01 -1.07222720e+00  1.77473713e+00  3.75700483e-01\n",
      "   2.21319439e-01 -6.23038299e-01 -4.99324203e-01  7.75230206e-01\n",
      "   1.01570541e+00 -2.52575738e-15]\n",
      " [ 9.52241538e+00 -6.62304036e-01  4.55412067e-01  1.51800704e+00\n",
      "  -5.98484469e-01 -1.12798682e+00 -3.73001795e-01 -8.52318039e-01\n",
      "  -8.06752274e-01 -8.04911693e-16]\n",
      " [ 9.09737416e+00  2.79048367e+00  7.19296291e-01  1.68288626e-01\n",
      "   1.19466589e+00  1.50250984e+00 -4.38435326e-01  5.48799053e-02\n",
      "  -3.37021946e-01 -1.77635684e-15]\n",
      " [ 9.72964262e+00 -1.51520848e+00 -1.88669722e+00 -8.49098135e-01\n",
      "  -9.41130075e-01  5.56024610e-01  2.52192847e-01  9.55384600e-01\n",
      "  -5.93759869e-01 -1.08246745e-15]]\n"
     ]
    }
   ],
   "source": [
    "print (pca_data)"
   ]
  },
  {
   "cell_type": "code",
   "execution_count": null,
   "metadata": {},
   "outputs": [
    {
     "data": {
      "text/html": [
       "<div>\n",
       "<style scoped>\n",
       "    .dataframe tbody tr th:only-of-type {\n",
       "        vertical-align: middle;\n",
       "    }\n",
       "\n",
       "    .dataframe tbody tr th {\n",
       "        vertical-align: top;\n",
       "    }\n",
       "\n",
       "    .dataframe thead th {\n",
       "        text-align: right;\n",
       "    }\n",
       "</style>\n",
       "<table border=\"1\" class=\"dataframe\">\n",
       "  <thead>\n",
       "    <tr style=\"text-align: right;\">\n",
       "      <th></th>\n",
       "      <th>wt1</th>\n",
       "      <th>wt2</th>\n",
       "      <th>wt3</th>\n",
       "      <th>wt4</th>\n",
       "      <th>wt5</th>\n",
       "      <th>ko1</th>\n",
       "      <th>ko2</th>\n",
       "      <th>ko3</th>\n",
       "      <th>ko4</th>\n",
       "      <th>ko5</th>\n",
       "    </tr>\n",
       "  </thead>\n",
       "  <tbody>\n",
       "    <tr>\n",
       "      <th>gene1</th>\n",
       "      <td>-9.837242</td>\n",
       "      <td>2.416912</td>\n",
       "      <td>-1.591958</td>\n",
       "      <td>0.238883</td>\n",
       "      <td>-1.502674</td>\n",
       "      <td>-0.646753</td>\n",
       "      <td>-0.833538</td>\n",
       "      <td>0.218397</td>\n",
       "      <td>0.358752</td>\n",
       "      <td>6.938894e-16</td>\n",
       "    </tr>\n",
       "    <tr>\n",
       "      <th>gene2</th>\n",
       "      <td>-9.143268</td>\n",
       "      <td>-2.344547</td>\n",
       "      <td>-0.958340</td>\n",
       "      <td>-0.413023</td>\n",
       "      <td>0.962587</td>\n",
       "      <td>0.878935</td>\n",
       "      <td>-1.107822</td>\n",
       "      <td>-0.662075</td>\n",
       "      <td>0.214962</td>\n",
       "      <td>1.804112e-15</td>\n",
       "    </tr>\n",
       "    <tr>\n",
       "      <th>gene3</th>\n",
       "      <td>-9.306618</td>\n",
       "      <td>-0.208793</td>\n",
       "      <td>2.728235</td>\n",
       "      <td>-1.196629</td>\n",
       "      <td>-1.623956</td>\n",
       "      <td>0.620685</td>\n",
       "      <td>0.388983</td>\n",
       "      <td>-0.223143</td>\n",
       "      <td>-0.194412</td>\n",
       "      <td>1.804112e-15</td>\n",
       "    </tr>\n",
       "    <tr>\n",
       "      <th>gene4</th>\n",
       "      <td>-9.648802</td>\n",
       "      <td>0.358255</td>\n",
       "      <td>0.262006</td>\n",
       "      <td>-1.027617</td>\n",
       "      <td>1.842899</td>\n",
       "      <td>-1.501328</td>\n",
       "      <td>0.311306</td>\n",
       "      <td>0.447016</td>\n",
       "      <td>-0.545512</td>\n",
       "      <td>1.790235e-15</td>\n",
       "    </tr>\n",
       "    <tr>\n",
       "      <th>gene5</th>\n",
       "      <td>-9.746376</td>\n",
       "      <td>-0.422801</td>\n",
       "      <td>-0.376038</td>\n",
       "      <td>2.361940</td>\n",
       "      <td>0.298300</td>\n",
       "      <td>0.645549</td>\n",
       "      <td>1.207917</td>\n",
       "      <td>0.235141</td>\n",
       "      <td>0.183760</td>\n",
       "      <td>3.164136e-15</td>\n",
       "    </tr>\n",
       "    <tr>\n",
       "      <th>gene6</th>\n",
       "      <td>9.307048</td>\n",
       "      <td>0.660230</td>\n",
       "      <td>-1.126653</td>\n",
       "      <td>-1.176451</td>\n",
       "      <td>0.146474</td>\n",
       "      <td>-0.304596</td>\n",
       "      <td>1.091722</td>\n",
       "      <td>-0.948514</td>\n",
       "      <td>0.704279</td>\n",
       "      <td>8.881784e-16</td>\n",
       "    </tr>\n",
       "    <tr>\n",
       "      <th>gene7</th>\n",
       "      <td>10.025826</td>\n",
       "      <td>-1.072227</td>\n",
       "      <td>1.774737</td>\n",
       "      <td>0.375700</td>\n",
       "      <td>0.221319</td>\n",
       "      <td>-0.623038</td>\n",
       "      <td>-0.499324</td>\n",
       "      <td>0.775230</td>\n",
       "      <td>1.015705</td>\n",
       "      <td>-2.525757e-15</td>\n",
       "    </tr>\n",
       "    <tr>\n",
       "      <th>gene8</th>\n",
       "      <td>9.522415</td>\n",
       "      <td>-0.662304</td>\n",
       "      <td>0.455412</td>\n",
       "      <td>1.518007</td>\n",
       "      <td>-0.598484</td>\n",
       "      <td>-1.127987</td>\n",
       "      <td>-0.373002</td>\n",
       "      <td>-0.852318</td>\n",
       "      <td>-0.806752</td>\n",
       "      <td>-8.049117e-16</td>\n",
       "    </tr>\n",
       "    <tr>\n",
       "      <th>gene9</th>\n",
       "      <td>9.097374</td>\n",
       "      <td>2.790484</td>\n",
       "      <td>0.719296</td>\n",
       "      <td>0.168289</td>\n",
       "      <td>1.194666</td>\n",
       "      <td>1.502510</td>\n",
       "      <td>-0.438435</td>\n",
       "      <td>0.054880</td>\n",
       "      <td>-0.337022</td>\n",
       "      <td>-1.776357e-15</td>\n",
       "    </tr>\n",
       "    <tr>\n",
       "      <th>gene10</th>\n",
       "      <td>9.729643</td>\n",
       "      <td>-1.515208</td>\n",
       "      <td>-1.886697</td>\n",
       "      <td>-0.849098</td>\n",
       "      <td>-0.941130</td>\n",
       "      <td>0.556025</td>\n",
       "      <td>0.252193</td>\n",
       "      <td>0.955385</td>\n",
       "      <td>-0.593760</td>\n",
       "      <td>-1.082467e-15</td>\n",
       "    </tr>\n",
       "  </tbody>\n",
       "</table>\n",
       "</div>"
      ],
      "text/plain": [
       "              wt1       wt2       wt3       wt4       wt5       ko1       ko2  \\\n",
       "gene1   -9.837242  2.416912 -1.591958  0.238883 -1.502674 -0.646753 -0.833538   \n",
       "gene2   -9.143268 -2.344547 -0.958340 -0.413023  0.962587  0.878935 -1.107822   \n",
       "gene3   -9.306618 -0.208793  2.728235 -1.196629 -1.623956  0.620685  0.388983   \n",
       "gene4   -9.648802  0.358255  0.262006 -1.027617  1.842899 -1.501328  0.311306   \n",
       "gene5   -9.746376 -0.422801 -0.376038  2.361940  0.298300  0.645549  1.207917   \n",
       "gene6    9.307048  0.660230 -1.126653 -1.176451  0.146474 -0.304596  1.091722   \n",
       "gene7   10.025826 -1.072227  1.774737  0.375700  0.221319 -0.623038 -0.499324   \n",
       "gene8    9.522415 -0.662304  0.455412  1.518007 -0.598484 -1.127987 -0.373002   \n",
       "gene9    9.097374  2.790484  0.719296  0.168289  1.194666  1.502510 -0.438435   \n",
       "gene10   9.729643 -1.515208 -1.886697 -0.849098 -0.941130  0.556025  0.252193   \n",
       "\n",
       "             ko3       ko4           ko5  \n",
       "gene1   0.218397  0.358752  6.938894e-16  \n",
       "gene2  -0.662075  0.214962  1.804112e-15  \n",
       "gene3  -0.223143 -0.194412  1.804112e-15  \n",
       "gene4   0.447016 -0.545512  1.790235e-15  \n",
       "gene5   0.235141  0.183760  3.164136e-15  \n",
       "gene6  -0.948514  0.704279  8.881784e-16  \n",
       "gene7   0.775230  1.015705 -2.525757e-15  \n",
       "gene8  -0.852318 -0.806752 -8.049117e-16  \n",
       "gene9   0.054880 -0.337022 -1.776357e-15  \n",
       "gene10  0.955385 -0.593760 -1.082467e-15  "
      ]
     },
     "execution_count": 55,
     "metadata": {},
     "output_type": "execute_result"
    }
   ],
   "source": [
    "gene = [\"gene\" + str(i) for i in range(1, 11)]\n",
    "pca_data_1 = pd.DataFrame(pca_data, columns=(*wt, *ko), index=gene)\n",
    "pca_data_1"
   ]
  },
  {
   "cell_type": "code",
   "execution_count": null,
   "metadata": {},
   "outputs": [
    {
     "name": "stdout",
     "output_type": "stream",
     "text": [
      "['wt1', 'wt2', 'wt3', 'wt4', 'wt5']\n"
     ]
    },
    {
     "data": {
      "image/png": "[encoded data removed]",
      "text/plain": [
       "<Figure size 640x480 with 1 Axes>"
      ]
     },
     "metadata": {},
     "output_type": "display_data"
    }
   ],
   "source": [
    "\n",
    "\n",
    "sns.histplot(x=pca_data_1.loc[\"gene1\"], data=pca_data_1)\n",
    "print (wt)"
   ]
  },
  {
   "cell_type": "code",
   "execution_count": null,
   "metadata": {},
   "outputs": [
    {
     "name": "stderr",
     "output_type": "stream",
     "text": [
      "/Users/thomasnguyen/opt/anaconda3/lib/python3.9/site-packages/scipy/stats/morestats.py:1760: UserWarning: p-value may not be accurate for N > 5000.\n",
      "  warnings.warn(\"p-value may not be accurate for N > 5000.\")\n"
     ]
    },
    {
     "name": "stdout",
     "output_type": "stream",
     "text": [
      "ShapiroResult(statistic=0.25777143239974976, pvalue=0.0)\n"
     ]
    },
    {
     "data": {
      "image/png": "[encoded data removed]",
      "text/plain": [
       "<Figure size 640x480 with 1 Axes>"
      ]
     },
     "metadata": {},
     "output_type": "display_data"
    }
   ],
   "source": [
    "sns.histplot(x=\"value\", data=emission) \n",
    "print (shapiro(emission.value))"
   ]
  },
  {
   "cell_type": "code",
   "execution_count": null,
   "metadata": {},
   "outputs": [
    {
     "data": {
      "text/html": [
       "<div>\n",
       "<style scoped>\n",
       "    .dataframe tbody tr th:only-of-type {\n",
       "        vertical-align: middle;\n",
       "    }\n",
       "\n",
       "    .dataframe tbody tr th {\n",
       "        vertical-align: top;\n",
       "    }\n",
       "\n",
       "    .dataframe thead th {\n",
       "        text-align: right;\n",
       "    }\n",
       "</style>\n",
       "<table border=\"1\" class=\"dataframe\">\n",
       "  <thead>\n",
       "    <tr style=\"text-align: right;\">\n",
       "      <th></th>\n",
       "      <th>country</th>\n",
       "      <th>year</th>\n",
       "      <th>value</th>\n",
       "      <th>category</th>\n",
       "      <th>country_encoded</th>\n",
       "      <th>scaled_value</th>\n",
       "    </tr>\n",
       "  </thead>\n",
       "  <tbody>\n",
       "    <tr>\n",
       "      <th>0</th>\n",
       "      <td>Australia</td>\n",
       "      <td>2014</td>\n",
       "      <td>393126.946994</td>\n",
       "      <td>carbon_dioxide_co2_emissions_without_land_use_...</td>\n",
       "      <td>0</td>\n",
       "      <td>0.233278</td>\n",
       "    </tr>\n",
       "    <tr>\n",
       "      <th>1</th>\n",
       "      <td>Australia</td>\n",
       "      <td>2013</td>\n",
       "      <td>396913.936530</td>\n",
       "      <td>carbon_dioxide_co2_emissions_without_land_use_...</td>\n",
       "      <td>0</td>\n",
       "      <td>0.237988</td>\n",
       "    </tr>\n",
       "    <tr>\n",
       "      <th>2</th>\n",
       "      <td>Australia</td>\n",
       "      <td>2012</td>\n",
       "      <td>406462.847704</td>\n",
       "      <td>carbon_dioxide_co2_emissions_without_land_use_...</td>\n",
       "      <td>0</td>\n",
       "      <td>0.249863</td>\n",
       "    </tr>\n",
       "    <tr>\n",
       "      <th>3</th>\n",
       "      <td>Australia</td>\n",
       "      <td>2011</td>\n",
       "      <td>403705.528314</td>\n",
       "      <td>carbon_dioxide_co2_emissions_without_land_use_...</td>\n",
       "      <td>0</td>\n",
       "      <td>0.246434</td>\n",
       "    </tr>\n",
       "    <tr>\n",
       "      <th>4</th>\n",
       "      <td>Australia</td>\n",
       "      <td>2010</td>\n",
       "      <td>406200.993184</td>\n",
       "      <td>carbon_dioxide_co2_emissions_without_land_use_...</td>\n",
       "      <td>0</td>\n",
       "      <td>0.249538</td>\n",
       "    </tr>\n",
       "  </tbody>\n",
       "</table>\n",
       "</div>"
      ],
      "text/plain": [
       "     country  year          value  \\\n",
       "0  Australia  2014  393126.946994   \n",
       "1  Australia  2013  396913.936530   \n",
       "2  Australia  2012  406462.847704   \n",
       "3  Australia  2011  403705.528314   \n",
       "4  Australia  2010  406200.993184   \n",
       "\n",
       "                                            category  country_encoded  \\\n",
       "0  carbon_dioxide_co2_emissions_without_land_use_...                0   \n",
       "1  carbon_dioxide_co2_emissions_without_land_use_...                0   \n",
       "2  carbon_dioxide_co2_emissions_without_land_use_...                0   \n",
       "3  carbon_dioxide_co2_emissions_without_land_use_...                0   \n",
       "4  carbon_dioxide_co2_emissions_without_land_use_...                0   \n",
       "\n",
       "   scaled_value  \n",
       "0      0.233278  \n",
       "1      0.237988  \n",
       "2      0.249863  \n",
       "3      0.246434  \n",
       "4      0.249538  "
      ]
     },
     "execution_count": 66,
     "metadata": {},
     "output_type": "execute_result"
    }
   ],
   "source": [
    "emission.head()"
   ]
  },
  {
   "cell_type": "code",
   "execution_count": null,
   "metadata": {},
   "outputs": [],
   "source": []
  }
 ],
 "metadata": {
  "kernelspec": {
   "display_name": "Python 3.9.13 ('base': conda)",
   "language": "python",
   "name": "python3"
  },
  "language_info": {
   "codemirror_mode": {
    "name": "ipython",
    "version": 3
   },
   "file_extension": ".py",
   "mimetype": "text/x-python",
   "name": "python",
   "nbconvert_exporter": "python",
   "pygments_lexer": "ipython3",
   "version": "3.9.13"
  },
  "orig_nbformat": 4,
  "vscode": {
   "interpreter": {
    "hash": "0224488fa4b52711f9f196513d270d036887a6b83812c24686eb9c7b75049604"
   }
  }
 },
 "nbformat": 4,
 "nbformat_minor": 2
}
