{
 "cells": [
  {
   "cell_type": "code",
   "execution_count": 2,
   "metadata": {},
   "outputs": [],
   "source": [
    "import requests\n",
    "import pandas as pd \n",
    "import numpy as np\n",
    "import matplotlib.pyplot as plt\n",
    "import seaborn as sns\n",
    "import json"
   ]
  },
  {
   "cell_type": "code",
   "execution_count": 3,
   "metadata": {},
   "outputs": [],
   "source": [
    "forecast = requests.get(\"http://api.weatherapi.com/v1/forecast.json?key=4a1f9e155ac6494e98a15506222712&q=SE93HX&days=1&aqi=no&alerts=no\")"
   ]
  },
  {
   "cell_type": "code",
   "execution_count": 4,
   "metadata": {},
   "outputs": [
    {
     "name": "stdout",
     "output_type": "stream",
     "text": [
      "Response code: 200\n"
     ]
    }
   ],
   "source": [
    "print (f\"Response code: {forecast.status_code}\")"
   ]
  },
  {
   "cell_type": "code",
   "execution_count": 5,
   "metadata": {},
   "outputs": [
    {
     "data": {
      "text/html": [
       "<div>\n",
       "<style scoped>\n",
       "    .dataframe tbody tr th:only-of-type {\n",
       "        vertical-align: middle;\n",
       "    }\n",
       "\n",
       "    .dataframe tbody tr th {\n",
       "        vertical-align: top;\n",
       "    }\n",
       "\n",
       "    .dataframe thead th {\n",
       "        text-align: right;\n",
       "    }\n",
       "</style>\n",
       "<table border=\"1\" class=\"dataframe\">\n",
       "  <thead>\n",
       "    <tr style=\"text-align: right;\">\n",
       "      <th></th>\n",
       "      <th>location</th>\n",
       "      <th>current</th>\n",
       "      <th>forecast</th>\n",
       "    </tr>\n",
       "  </thead>\n",
       "  <tbody>\n",
       "    <tr>\n",
       "      <th>name</th>\n",
       "      <td>Eltham</td>\n",
       "      <td>NaN</td>\n",
       "      <td>NaN</td>\n",
       "    </tr>\n",
       "    <tr>\n",
       "      <th>region</th>\n",
       "      <td>London</td>\n",
       "      <td>NaN</td>\n",
       "      <td>NaN</td>\n",
       "    </tr>\n",
       "    <tr>\n",
       "      <th>country</th>\n",
       "      <td>UK</td>\n",
       "      <td>NaN</td>\n",
       "      <td>NaN</td>\n",
       "    </tr>\n",
       "    <tr>\n",
       "      <th>lat</th>\n",
       "      <td>51.44</td>\n",
       "      <td>NaN</td>\n",
       "      <td>NaN</td>\n",
       "    </tr>\n",
       "    <tr>\n",
       "      <th>lon</th>\n",
       "      <td>0.06</td>\n",
       "      <td>NaN</td>\n",
       "      <td>NaN</td>\n",
       "    </tr>\n",
       "  </tbody>\n",
       "</table>\n",
       "</div>"
      ],
      "text/plain": [
       "        location current forecast\n",
       "name      Eltham     NaN      NaN\n",
       "region    London     NaN      NaN\n",
       "country       UK     NaN      NaN\n",
       "lat        51.44     NaN      NaN\n",
       "lon         0.06     NaN      NaN"
      ]
     },
     "execution_count": 5,
     "metadata": {},
     "output_type": "execute_result"
    }
   ],
   "source": [
    "df = pd.read_json(forecast.text)\n",
    "df.head()"
   ]
  },
  {
   "cell_type": "code",
   "execution_count": 6,
   "metadata": {},
   "outputs": [
    {
     "name": "stdout",
     "output_type": "stream",
     "text": [
      "<class 'pandas.core.frame.DataFrame'>\n",
      "Index: 32 entries, name to forecastday\n",
      "Data columns (total 3 columns):\n",
      " #   Column    Non-Null Count  Dtype \n",
      "---  ------    --------------  ----- \n",
      " 0   location  8 non-null      object\n",
      " 1   current   23 non-null     object\n",
      " 2   forecast  1 non-null      object\n",
      "dtypes: object(3)\n",
      "memory usage: 1.0+ KB\n"
     ]
    }
   ],
   "source": [
    "df.info()"
   ]
  },
  {
   "cell_type": "code",
   "execution_count": 7,
   "metadata": {},
   "outputs": [
    {
     "data": {
      "text/plain": [
       "location    24\n",
       "current      9\n",
       "forecast    31\n",
       "dtype: int64"
      ]
     },
     "execution_count": 7,
     "metadata": {},
     "output_type": "execute_result"
    }
   ],
   "source": [
    "df.isna().sum()"
   ]
  },
  {
   "cell_type": "code",
   "execution_count": 8,
   "metadata": {},
   "outputs": [
    {
     "data": {
      "text/html": [
       "<div>\n",
       "<style scoped>\n",
       "    .dataframe tbody tr th:only-of-type {\n",
       "        vertical-align: middle;\n",
       "    }\n",
       "\n",
       "    .dataframe tbody tr th {\n",
       "        vertical-align: top;\n",
       "    }\n",
       "\n",
       "    .dataframe thead th {\n",
       "        text-align: right;\n",
       "    }\n",
       "</style>\n",
       "<table border=\"1\" class=\"dataframe\">\n",
       "  <thead>\n",
       "    <tr style=\"text-align: right;\">\n",
       "      <th></th>\n",
       "      <th>location</th>\n",
       "      <th>current</th>\n",
       "      <th>forecast</th>\n",
       "    </tr>\n",
       "  </thead>\n",
       "  <tbody>\n",
       "    <tr>\n",
       "      <th>count</th>\n",
       "      <td>8</td>\n",
       "      <td>23</td>\n",
       "      <td>1</td>\n",
       "    </tr>\n",
       "    <tr>\n",
       "      <th>unique</th>\n",
       "      <td>8</td>\n",
       "      <td>21</td>\n",
       "      <td>1</td>\n",
       "    </tr>\n",
       "    <tr>\n",
       "      <th>top</th>\n",
       "      <td>Eltham</td>\n",
       "      <td>0</td>\n",
       "      <td>[{'date': '2023-04-01', 'date_epoch': 16803072...</td>\n",
       "    </tr>\n",
       "    <tr>\n",
       "      <th>freq</th>\n",
       "      <td>1</td>\n",
       "      <td>3</td>\n",
       "      <td>1</td>\n",
       "    </tr>\n",
       "  </tbody>\n",
       "</table>\n",
       "</div>"
      ],
      "text/plain": [
       "       location  current                                           forecast\n",
       "count         8       23                                                  1\n",
       "unique        8       21                                                  1\n",
       "top      Eltham        0  [{'date': '2023-04-01', 'date_epoch': 16803072...\n",
       "freq          1        3                                                  1"
      ]
     },
     "execution_count": 8,
     "metadata": {},
     "output_type": "execute_result"
    }
   ],
   "source": [
    "df.describe()"
   ]
  },
  {
   "cell_type": "code",
   "execution_count": 9,
   "metadata": {},
   "outputs": [],
   "source": [
    "df = df.fillna(0)"
   ]
  },
  {
   "cell_type": "code",
   "execution_count": 10,
   "metadata": {},
   "outputs": [],
   "source": [
    "df_forecast = df[\"forecast\"]\n"
   ]
  },
  {
   "cell_type": "code",
   "execution_count": 11,
   "metadata": {},
   "outputs": [],
   "source": [
    "x = df.loc[\"forecastday\"][\"forecast\"]\n",
    "\n",
    "def convert(a):\n",
    "    it = iter(a)\n",
    "    res_dct = dict(zip(it, it))\n",
    "    return res_dct\n",
    "\n",
    "#print (convert(x))\n",
    "\n",
    "\n",
    "\n"
   ]
  },
  {
   "cell_type": "code",
   "execution_count": 12,
   "metadata": {},
   "outputs": [
    {
     "data": {
      "text/html": [
       "<div>\n",
       "<style scoped>\n",
       "    .dataframe tbody tr th:only-of-type {\n",
       "        vertical-align: middle;\n",
       "    }\n",
       "\n",
       "    .dataframe tbody tr th {\n",
       "        vertical-align: top;\n",
       "    }\n",
       "\n",
       "    .dataframe thead th {\n",
       "        text-align: right;\n",
       "    }\n",
       "</style>\n",
       "<table border=\"1\" class=\"dataframe\">\n",
       "  <thead>\n",
       "    <tr style=\"text-align: right;\">\n",
       "      <th></th>\n",
       "      <th>0</th>\n",
       "    </tr>\n",
       "  </thead>\n",
       "  <tbody>\n",
       "    <tr>\n",
       "      <th>0</th>\n",
       "      <td>{'date': '2023-04-01', 'date_epoch': 168030720...</td>\n",
       "    </tr>\n",
       "  </tbody>\n",
       "</table>\n",
       "</div>"
      ],
      "text/plain": [
       "                                                   0\n",
       "0  {'date': '2023-04-01', 'date_epoch': 168030720..."
      ]
     },
     "execution_count": 12,
     "metadata": {},
     "output_type": "execute_result"
    }
   ],
   "source": [
    "column = []\n",
    "df_forecast = df.forecast.loc[\"forecastday\"]\n",
    "df_forecast = np.array(df_forecast)\n",
    "\n",
    "df_forecast = pd.DataFrame(df_forecast)\n",
    "\n",
    "df_forecast"
   ]
  },
  {
   "cell_type": "code",
   "execution_count": 13,
   "metadata": {},
   "outputs": [
    {
     "name": "stdout",
     "output_type": "stream",
     "text": [
      "                                                   0\n",
      "0  {'date': '2023-04-01', 'date_epoch': 168030720...\n",
      "0    {'date': '2023-04-01', 'date_epoch': 168030720...\n",
      "Name: 0, dtype: object\n"
     ]
    }
   ],
   "source": [
    "print (df_forecast)\n",
    "\n",
    "for i in df_forecast:\n",
    "    print (df_forecast[i])"
   ]
  },
  {
   "cell_type": "code",
   "execution_count": 14,
   "metadata": {},
   "outputs": [
    {
     "data": {
      "text/html": [
       "<div>\n",
       "<style scoped>\n",
       "    .dataframe tbody tr th:only-of-type {\n",
       "        vertical-align: middle;\n",
       "    }\n",
       "\n",
       "    .dataframe tbody tr th {\n",
       "        vertical-align: top;\n",
       "    }\n",
       "\n",
       "    .dataframe thead th {\n",
       "        text-align: right;\n",
       "    }\n",
       "</style>\n",
       "<table border=\"1\" class=\"dataframe\">\n",
       "  <thead>\n",
       "    <tr style=\"text-align: right;\">\n",
       "      <th></th>\n",
       "      <th>0</th>\n",
       "    </tr>\n",
       "  </thead>\n",
       "  <tbody>\n",
       "    <tr>\n",
       "      <th>0</th>\n",
       "      <td>{'date': '2023-04-01', 'date_epoch': 168030720...</td>\n",
       "    </tr>\n",
       "  </tbody>\n",
       "</table>\n",
       "</div>"
      ],
      "text/plain": [
       "                                                   0\n",
       "0  {'date': '2023-04-01', 'date_epoch': 168030720..."
      ]
     },
     "execution_count": 14,
     "metadata": {},
     "output_type": "execute_result"
    }
   ],
   "source": [
    "df_forecast"
   ]
  },
  {
   "cell_type": "code",
   "execution_count": 15,
   "metadata": {},
   "outputs": [
    {
     "data": {
      "text/plain": [
       "pandas.core.frame.DataFrame"
      ]
     },
     "execution_count": 15,
     "metadata": {},
     "output_type": "execute_result"
    }
   ],
   "source": [
    "type(df_forecast)"
   ]
  },
  {
   "cell_type": "code",
   "execution_count": 16,
   "metadata": {},
   "outputs": [
    {
     "data": {
      "text/plain": [
       "[1, 3, 5]"
      ]
     },
     "execution_count": 16,
     "metadata": {},
     "output_type": "execute_result"
    }
   ],
   "source": [
    "x = [1, 2, 3, 4, 5]\n",
    "\n",
    "x[::2]"
   ]
  },
  {
   "cell_type": "code",
   "execution_count": 17,
   "metadata": {},
   "outputs": [],
   "source": [
    "\n",
    "\n",
    "forecast = df.loc[\"forecastday\"][\"forecast\"]\n",
    "\n",
    "forecast = pd.DataFrame(forecast)"
   ]
  },
  {
   "cell_type": "code",
   "execution_count": 18,
   "metadata": {},
   "outputs": [
    {
     "data": {
      "text/plain": [
       "Index(['date', 'date_epoch', 'day', 'astro', 'hour'], dtype='object')"
      ]
     },
     "execution_count": 18,
     "metadata": {},
     "output_type": "execute_result"
    }
   ],
   "source": [
    "forecast.columns"
   ]
  },
  {
   "cell_type": "code",
   "execution_count": 19,
   "metadata": {},
   "outputs": [
    {
     "data": {
      "text/html": [
       "<div>\n",
       "<style scoped>\n",
       "    .dataframe tbody tr th:only-of-type {\n",
       "        vertical-align: middle;\n",
       "    }\n",
       "\n",
       "    .dataframe tbody tr th {\n",
       "        vertical-align: top;\n",
       "    }\n",
       "\n",
       "    .dataframe thead th {\n",
       "        text-align: right;\n",
       "    }\n",
       "</style>\n",
       "<table border=\"1\" class=\"dataframe\">\n",
       "  <thead>\n",
       "    <tr style=\"text-align: right;\">\n",
       "      <th></th>\n",
       "      <th>date</th>\n",
       "      <th>date_epoch</th>\n",
       "      <th>day</th>\n",
       "      <th>astro</th>\n",
       "      <th>hour</th>\n",
       "    </tr>\n",
       "  </thead>\n",
       "  <tbody>\n",
       "    <tr>\n",
       "      <th>0</th>\n",
       "      <td>2023-04-01</td>\n",
       "      <td>1680307200</td>\n",
       "      <td>{'maxtemp_c': 9.2, 'maxtemp_f': 48.6, 'mintemp...</td>\n",
       "      <td>{'sunrise': '06:36 AM', 'sunset': '07:33 PM', ...</td>\n",
       "      <td>[{'time_epoch': 1680303600, 'time': '2023-04-0...</td>\n",
       "    </tr>\n",
       "  </tbody>\n",
       "</table>\n",
       "</div>"
      ],
      "text/plain": [
       "         date  date_epoch                                                day  \\\n",
       "0  2023-04-01  1680307200  {'maxtemp_c': 9.2, 'maxtemp_f': 48.6, 'mintemp...   \n",
       "\n",
       "                                               astro  \\\n",
       "0  {'sunrise': '06:36 AM', 'sunset': '07:33 PM', ...   \n",
       "\n",
       "                                                hour  \n",
       "0  [{'time_epoch': 1680303600, 'time': '2023-04-0...  "
      ]
     },
     "execution_count": 19,
     "metadata": {},
     "output_type": "execute_result"
    }
   ],
   "source": [
    "forecast"
   ]
  },
  {
   "cell_type": "code",
   "execution_count": 20,
   "metadata": {},
   "outputs": [
    {
     "data": {
      "text/html": [
       "<div>\n",
       "<style scoped>\n",
       "    .dataframe tbody tr th:only-of-type {\n",
       "        vertical-align: middle;\n",
       "    }\n",
       "\n",
       "    .dataframe tbody tr th {\n",
       "        vertical-align: top;\n",
       "    }\n",
       "\n",
       "    .dataframe thead th {\n",
       "        text-align: right;\n",
       "    }\n",
       "</style>\n",
       "<table border=\"1\" class=\"dataframe\">\n",
       "  <thead>\n",
       "    <tr style=\"text-align: right;\">\n",
       "      <th></th>\n",
       "      <th>date</th>\n",
       "      <th>date_epoch</th>\n",
       "      <th>day</th>\n",
       "      <th>astro</th>\n",
       "      <th>hour</th>\n",
       "    </tr>\n",
       "  </thead>\n",
       "  <tbody>\n",
       "    <tr>\n",
       "      <th>0</th>\n",
       "      <td>2023-04-01</td>\n",
       "      <td>1680307200</td>\n",
       "      <td>{'maxtemp_c': 9.2, 'maxtemp_f': 48.6, 'mintemp...</td>\n",
       "      <td>{'sunrise': '06:36 AM', 'sunset': '07:33 PM', ...</td>\n",
       "      <td>[{'time_epoch': 1680303600, 'time': '2023-04-0...</td>\n",
       "    </tr>\n",
       "  </tbody>\n",
       "</table>\n",
       "</div>"
      ],
      "text/plain": [
       "         date  date_epoch                                                day  \\\n",
       "0  2023-04-01  1680307200  {'maxtemp_c': 9.2, 'maxtemp_f': 48.6, 'mintemp...   \n",
       "\n",
       "                                               astro  \\\n",
       "0  {'sunrise': '06:36 AM', 'sunset': '07:33 PM', ...   \n",
       "\n",
       "                                                hour  \n",
       "0  [{'time_epoch': 1680303600, 'time': '2023-04-0...  "
      ]
     },
     "execution_count": 20,
     "metadata": {},
     "output_type": "execute_result"
    }
   ],
   "source": [
    "x = df['forecast'][\"forecastday\"]\n",
    "\n",
    "x = pd.DataFrame(x)\n",
    "x"
   ]
  },
  {
   "cell_type": "code",
   "execution_count": 21,
   "metadata": {},
   "outputs": [
    {
     "name": "stdout",
     "output_type": "stream",
     "text": [
      "7422207.96295139\n"
     ]
    }
   ],
   "source": [
    "emission = pd.read_csv(\"greenhouse.csv\")\n",
    "print (max(emission.value))"
   ]
  },
  {
   "cell_type": "code",
   "execution_count": 22,
   "metadata": {},
   "outputs": [],
   "source": [
    "emission.rename({\"country_or_area\": \"country\"}, axis=1, inplace=True)\n",
    "\n",
    "\n"
   ]
  },
  {
   "cell_type": "code",
   "execution_count": 23,
   "metadata": {},
   "outputs": [
    {
     "data": {
      "text/html": [
       "<div>\n",
       "<style scoped>\n",
       "    .dataframe tbody tr th:only-of-type {\n",
       "        vertical-align: middle;\n",
       "    }\n",
       "\n",
       "    .dataframe tbody tr th {\n",
       "        vertical-align: top;\n",
       "    }\n",
       "\n",
       "    .dataframe thead th {\n",
       "        text-align: right;\n",
       "    }\n",
       "</style>\n",
       "<table border=\"1\" class=\"dataframe\">\n",
       "  <thead>\n",
       "    <tr style=\"text-align: right;\">\n",
       "      <th></th>\n",
       "      <th>country</th>\n",
       "      <th>year</th>\n",
       "      <th>value</th>\n",
       "      <th>category</th>\n",
       "    </tr>\n",
       "  </thead>\n",
       "  <tbody>\n",
       "    <tr>\n",
       "      <th>0</th>\n",
       "      <td>Australia</td>\n",
       "      <td>2014</td>\n",
       "      <td>393126.946994</td>\n",
       "      <td>carbon_dioxide_co2_emissions_without_land_use_...</td>\n",
       "    </tr>\n",
       "    <tr>\n",
       "      <th>1</th>\n",
       "      <td>Australia</td>\n",
       "      <td>2013</td>\n",
       "      <td>396913.936530</td>\n",
       "      <td>carbon_dioxide_co2_emissions_without_land_use_...</td>\n",
       "    </tr>\n",
       "    <tr>\n",
       "      <th>2</th>\n",
       "      <td>Australia</td>\n",
       "      <td>2012</td>\n",
       "      <td>406462.847704</td>\n",
       "      <td>carbon_dioxide_co2_emissions_without_land_use_...</td>\n",
       "    </tr>\n",
       "    <tr>\n",
       "      <th>3</th>\n",
       "      <td>Australia</td>\n",
       "      <td>2011</td>\n",
       "      <td>403705.528314</td>\n",
       "      <td>carbon_dioxide_co2_emissions_without_land_use_...</td>\n",
       "    </tr>\n",
       "    <tr>\n",
       "      <th>4</th>\n",
       "      <td>Australia</td>\n",
       "      <td>2010</td>\n",
       "      <td>406200.993184</td>\n",
       "      <td>carbon_dioxide_co2_emissions_without_land_use_...</td>\n",
       "    </tr>\n",
       "  </tbody>\n",
       "</table>\n",
       "</div>"
      ],
      "text/plain": [
       "     country  year          value  \\\n",
       "0  Australia  2014  393126.946994   \n",
       "1  Australia  2013  396913.936530   \n",
       "2  Australia  2012  406462.847704   \n",
       "3  Australia  2011  403705.528314   \n",
       "4  Australia  2010  406200.993184   \n",
       "\n",
       "                                            category  \n",
       "0  carbon_dioxide_co2_emissions_without_land_use_...  \n",
       "1  carbon_dioxide_co2_emissions_without_land_use_...  \n",
       "2  carbon_dioxide_co2_emissions_without_land_use_...  \n",
       "3  carbon_dioxide_co2_emissions_without_land_use_...  \n",
       "4  carbon_dioxide_co2_emissions_without_land_use_...  "
      ]
     },
     "execution_count": 23,
     "metadata": {},
     "output_type": "execute_result"
    }
   ],
   "source": [
    "emission.head()\n",
    "\n"
   ]
  },
  {
   "cell_type": "code",
   "execution_count": 24,
   "metadata": {},
   "outputs": [],
   "source": [
    "unique = emission.country.unique()"
   ]
  },
  {
   "cell_type": "code",
   "execution_count": 25,
   "metadata": {},
   "outputs": [
    {
     "data": {
      "text/plain": [
       "array(['Australia', 'Austria', 'Belarus', 'Belgium', 'Bulgaria', 'Canada',\n",
       "       'Croatia', 'Cyprus', 'Czech Republic', 'Denmark', 'Estonia',\n",
       "       'European Union', 'Finland', 'France', 'Germany', 'Greece',\n",
       "       'Hungary', 'Iceland', 'Ireland', 'Italy', 'Japan', 'Latvia',\n",
       "       'Liechtenstein', 'Lithuania', 'Luxembourg', 'Malta', 'Monaco',\n",
       "       'Netherlands', 'New Zealand', 'Norway', 'Poland', 'Portugal',\n",
       "       'Romania', 'Russian Federation', 'Slovakia', 'Slovenia', 'Spain',\n",
       "       'Sweden', 'Switzerland', 'Turkey', 'Ukraine', 'United Kingdom',\n",
       "       'United States of America'], dtype=object)"
      ]
     },
     "execution_count": 25,
     "metadata": {},
     "output_type": "execute_result"
    }
   ],
   "source": [
    "unique"
   ]
  },
  {
   "cell_type": "code",
   "execution_count": 26,
   "metadata": {},
   "outputs": [
    {
     "data": {
      "text/plain": [
       "Index(['country', 'year', 'value', 'category'], dtype='object')"
      ]
     },
     "execution_count": 26,
     "metadata": {},
     "output_type": "execute_result"
    }
   ],
   "source": [
    "emission.columns"
   ]
  },
  {
   "cell_type": "code",
   "execution_count": 27,
   "metadata": {},
   "outputs": [],
   "source": [
    "Australia = emission[emission.country == \"Australia\"]"
   ]
  },
  {
   "cell_type": "code",
   "execution_count": 28,
   "metadata": {},
   "outputs": [
    {
     "data": {
      "text/html": [
       "<div>\n",
       "<style scoped>\n",
       "    .dataframe tbody tr th:only-of-type {\n",
       "        vertical-align: middle;\n",
       "    }\n",
       "\n",
       "    .dataframe tbody tr th {\n",
       "        vertical-align: top;\n",
       "    }\n",
       "\n",
       "    .dataframe thead th {\n",
       "        text-align: right;\n",
       "    }\n",
       "</style>\n",
       "<table border=\"1\" class=\"dataframe\">\n",
       "  <thead>\n",
       "    <tr style=\"text-align: right;\">\n",
       "      <th></th>\n",
       "      <th>country</th>\n",
       "      <th>year</th>\n",
       "      <th>value</th>\n",
       "      <th>category</th>\n",
       "    </tr>\n",
       "  </thead>\n",
       "  <tbody>\n",
       "    <tr>\n",
       "      <th>0</th>\n",
       "      <td>Australia</td>\n",
       "      <td>2014</td>\n",
       "      <td>393126.946994</td>\n",
       "      <td>carbon_dioxide_co2_emissions_without_land_use_...</td>\n",
       "    </tr>\n",
       "    <tr>\n",
       "      <th>1</th>\n",
       "      <td>Australia</td>\n",
       "      <td>2013</td>\n",
       "      <td>396913.936530</td>\n",
       "      <td>carbon_dioxide_co2_emissions_without_land_use_...</td>\n",
       "    </tr>\n",
       "    <tr>\n",
       "      <th>2</th>\n",
       "      <td>Australia</td>\n",
       "      <td>2012</td>\n",
       "      <td>406462.847704</td>\n",
       "      <td>carbon_dioxide_co2_emissions_without_land_use_...</td>\n",
       "    </tr>\n",
       "    <tr>\n",
       "      <th>3</th>\n",
       "      <td>Australia</td>\n",
       "      <td>2011</td>\n",
       "      <td>403705.528314</td>\n",
       "      <td>carbon_dioxide_co2_emissions_without_land_use_...</td>\n",
       "    </tr>\n",
       "    <tr>\n",
       "      <th>4</th>\n",
       "      <td>Australia</td>\n",
       "      <td>2010</td>\n",
       "      <td>406200.993184</td>\n",
       "      <td>carbon_dioxide_co2_emissions_without_land_use_...</td>\n",
       "    </tr>\n",
       "    <tr>\n",
       "      <th>...</th>\n",
       "      <td>...</td>\n",
       "      <td>...</td>\n",
       "      <td>...</td>\n",
       "      <td>...</td>\n",
       "    </tr>\n",
       "    <tr>\n",
       "      <th>7319</th>\n",
       "      <td>Australia</td>\n",
       "      <td>1994</td>\n",
       "      <td>282.640896</td>\n",
       "      <td>sulphur_hexafluoride_sf6_emissions_in_kilotonn...</td>\n",
       "    </tr>\n",
       "    <tr>\n",
       "      <th>7320</th>\n",
       "      <td>Australia</td>\n",
       "      <td>1993</td>\n",
       "      <td>264.759156</td>\n",
       "      <td>sulphur_hexafluoride_sf6_emissions_in_kilotonn...</td>\n",
       "    </tr>\n",
       "    <tr>\n",
       "      <th>7321</th>\n",
       "      <td>Australia</td>\n",
       "      <td>1992</td>\n",
       "      <td>246.858849</td>\n",
       "      <td>sulphur_hexafluoride_sf6_emissions_in_kilotonn...</td>\n",
       "    </tr>\n",
       "    <tr>\n",
       "      <th>7322</th>\n",
       "      <td>Australia</td>\n",
       "      <td>1991</td>\n",
       "      <td>228.944834</td>\n",
       "      <td>sulphur_hexafluoride_sf6_emissions_in_kilotonn...</td>\n",
       "    </tr>\n",
       "    <tr>\n",
       "      <th>7323</th>\n",
       "      <td>Australia</td>\n",
       "      <td>1990</td>\n",
       "      <td>211.018511</td>\n",
       "      <td>sulphur_hexafluoride_sf6_emissions_in_kilotonn...</td>\n",
       "    </tr>\n",
       "  </tbody>\n",
       "</table>\n",
       "<p>200 rows × 4 columns</p>\n",
       "</div>"
      ],
      "text/plain": [
       "        country  year          value  \\\n",
       "0     Australia  2014  393126.946994   \n",
       "1     Australia  2013  396913.936530   \n",
       "2     Australia  2012  406462.847704   \n",
       "3     Australia  2011  403705.528314   \n",
       "4     Australia  2010  406200.993184   \n",
       "...         ...   ...            ...   \n",
       "7319  Australia  1994     282.640896   \n",
       "7320  Australia  1993     264.759156   \n",
       "7321  Australia  1992     246.858849   \n",
       "7322  Australia  1991     228.944834   \n",
       "7323  Australia  1990     211.018511   \n",
       "\n",
       "                                               category  \n",
       "0     carbon_dioxide_co2_emissions_without_land_use_...  \n",
       "1     carbon_dioxide_co2_emissions_without_land_use_...  \n",
       "2     carbon_dioxide_co2_emissions_without_land_use_...  \n",
       "3     carbon_dioxide_co2_emissions_without_land_use_...  \n",
       "4     carbon_dioxide_co2_emissions_without_land_use_...  \n",
       "...                                                 ...  \n",
       "7319  sulphur_hexafluoride_sf6_emissions_in_kilotonn...  \n",
       "7320  sulphur_hexafluoride_sf6_emissions_in_kilotonn...  \n",
       "7321  sulphur_hexafluoride_sf6_emissions_in_kilotonn...  \n",
       "7322  sulphur_hexafluoride_sf6_emissions_in_kilotonn...  \n",
       "7323  sulphur_hexafluoride_sf6_emissions_in_kilotonn...  \n",
       "\n",
       "[200 rows x 4 columns]"
      ]
     },
     "execution_count": 28,
     "metadata": {},
     "output_type": "execute_result"
    }
   ],
   "source": [
    "Australia"
   ]
  },
  {
   "cell_type": "code",
   "execution_count": 29,
   "metadata": {},
   "outputs": [
    {
     "data": {
      "text/plain": [
       "<matplotlib.collections.PathCollection at 0x7fe96b607670>"
      ]
     },
     "execution_count": 29,
     "metadata": {},
     "output_type": "execute_result"
    },
    {
     "data": {
      "image/png": "[encoded data removed]",
      "text/plain": [
       "<Figure size 640x480 with 1 Axes>"
      ]
     },
     "metadata": {},
     "output_type": "display_data"
    }
   ],
   "source": [
    "plt.scatter(Australia.year, Australia.value)"
   ]
  },
  {
   "cell_type": "code",
   "execution_count": 30,
   "metadata": {},
   "outputs": [
    {
     "data": {
      "text/plain": [
       "array(['Australia', 'Austria', 'Belarus', 'Belgium', 'Bulgaria', 'Canada',\n",
       "       'Croatia', 'Cyprus', 'Czech Republic', 'Denmark', 'Estonia',\n",
       "       'European Union', 'Finland', 'France', 'Germany', 'Greece',\n",
       "       'Hungary', 'Iceland', 'Ireland', 'Italy', 'Japan', 'Latvia',\n",
       "       'Liechtenstein', 'Lithuania', 'Luxembourg', 'Malta', 'Monaco',\n",
       "       'Netherlands', 'New Zealand', 'Norway', 'Poland', 'Portugal',\n",
       "       'Romania', 'Russian Federation', 'Slovakia', 'Slovenia', 'Spain',\n",
       "       'Sweden', 'Switzerland', 'Turkey', 'Ukraine', 'United Kingdom',\n",
       "       'United States of America'], dtype=object)"
      ]
     },
     "execution_count": 30,
     "metadata": {},
     "output_type": "execute_result"
    }
   ],
   "source": [
    "unique"
   ]
  },
  {
   "cell_type": "code",
   "execution_count": 31,
   "metadata": {},
   "outputs": [
    {
     "data": {
      "text/plain": [
       "<matplotlib.collections.PathCollection at 0x7fe96b65d790>"
      ]
     },
     "execution_count": 31,
     "metadata": {},
     "output_type": "execute_result"
    },
    {
     "data": {
      "image/png": "[encoded data removed]",
      "text/plain": [
       "<Figure size 640x480 with 1 Axes>"
      ]
     },
     "metadata": {},
     "output_type": "display_data"
    }
   ],
   "source": [
    "United_Kingdom = emission[emission.country == \"United Kingdom\"]\n",
    "plt.scatter(United_Kingdom.year, United_Kingdom.value)"
   ]
  },
  {
   "cell_type": "code",
   "execution_count": 32,
   "metadata": {},
   "outputs": [
    {
     "data": {
      "text/plain": [
       "[<matplotlib.lines.Line2D at 0x7fe9591394c0>]"
      ]
     },
     "execution_count": 32,
     "metadata": {},
     "output_type": "execute_result"
    },
    {
     "data": {
      "image/png": "[encoded data removed]",
      "text/plain": [
       "<Figure size 640x480 with 1 Axes>"
      ]
     },
     "metadata": {},
     "output_type": "display_data"
    }
   ],
   "source": [
    "new = pd.DataFrame(United_Kingdom.groupby([\"year\"])[\"value\"].mean())\n",
    "\n",
    "\n",
    "new[\"Year\"] = [i for i in new.index]\n",
    "\n",
    "plt.scatter(new.Year, new.value)\n",
    "reg = np.polyfit(new.Year, new.value, deg=1)\n",
    "trend = np.polyval(reg, new.Year)\n",
    "plt.plot(new.Year, trend)\n"
   ]
  },
  {
   "cell_type": "markdown",
   "metadata": {},
   "source": []
  },
  {
   "cell_type": "code",
   "execution_count": 33,
   "metadata": {},
   "outputs": [],
   "source": [
    "from sklearn.linear_model import LinearRegression\n",
    "lm = LinearRegression()"
   ]
  },
  {
   "cell_type": "code",
   "execution_count": 34,
   "metadata": {},
   "outputs": [
    {
     "data": {
      "text/html": [
       "<div>\n",
       "<style scoped>\n",
       "    .dataframe tbody tr th:only-of-type {\n",
       "        vertical-align: middle;\n",
       "    }\n",
       "\n",
       "    .dataframe tbody tr th {\n",
       "        vertical-align: top;\n",
       "    }\n",
       "\n",
       "    .dataframe thead th {\n",
       "        text-align: right;\n",
       "    }\n",
       "</style>\n",
       "<table border=\"1\" class=\"dataframe\">\n",
       "  <thead>\n",
       "    <tr style=\"text-align: right;\">\n",
       "      <th></th>\n",
       "      <th>country_or_area</th>\n",
       "      <th>year</th>\n",
       "      <th>value</th>\n",
       "      <th>category</th>\n",
       "    </tr>\n",
       "  </thead>\n",
       "  <tbody>\n",
       "    <tr>\n",
       "      <th>0</th>\n",
       "      <td>Australia</td>\n",
       "      <td>2014</td>\n",
       "      <td>393126.946994</td>\n",
       "      <td>carbon_dioxide_co2_emissions_without_land_use_...</td>\n",
       "    </tr>\n",
       "    <tr>\n",
       "      <th>1</th>\n",
       "      <td>Australia</td>\n",
       "      <td>2013</td>\n",
       "      <td>396913.936530</td>\n",
       "      <td>carbon_dioxide_co2_emissions_without_land_use_...</td>\n",
       "    </tr>\n",
       "    <tr>\n",
       "      <th>2</th>\n",
       "      <td>Australia</td>\n",
       "      <td>2012</td>\n",
       "      <td>406462.847704</td>\n",
       "      <td>carbon_dioxide_co2_emissions_without_land_use_...</td>\n",
       "    </tr>\n",
       "    <tr>\n",
       "      <th>3</th>\n",
       "      <td>Australia</td>\n",
       "      <td>2011</td>\n",
       "      <td>403705.528314</td>\n",
       "      <td>carbon_dioxide_co2_emissions_without_land_use_...</td>\n",
       "    </tr>\n",
       "    <tr>\n",
       "      <th>4</th>\n",
       "      <td>Australia</td>\n",
       "      <td>2010</td>\n",
       "      <td>406200.993184</td>\n",
       "      <td>carbon_dioxide_co2_emissions_without_land_use_...</td>\n",
       "    </tr>\n",
       "  </tbody>\n",
       "</table>\n",
       "</div>"
      ],
      "text/plain": [
       "  country_or_area  year          value  \\\n",
       "0       Australia  2014  393126.946994   \n",
       "1       Australia  2013  396913.936530   \n",
       "2       Australia  2012  406462.847704   \n",
       "3       Australia  2011  403705.528314   \n",
       "4       Australia  2010  406200.993184   \n",
       "\n",
       "                                            category  \n",
       "0  carbon_dioxide_co2_emissions_without_land_use_...  \n",
       "1  carbon_dioxide_co2_emissions_without_land_use_...  \n",
       "2  carbon_dioxide_co2_emissions_without_land_use_...  \n",
       "3  carbon_dioxide_co2_emissions_without_land_use_...  \n",
       "4  carbon_dioxide_co2_emissions_without_land_use_...  "
      ]
     },
     "execution_count": 34,
     "metadata": {},
     "output_type": "execute_result"
    }
   ],
   "source": [
    "df = pd.read_csv(\"greenhouse.csv\")\n",
    "df.head()"
   ]
  },
  {
   "cell_type": "code",
   "execution_count": 35,
   "metadata": {},
   "outputs": [
    {
     "name": "stdout",
     "output_type": "stream",
     "text": [
      "<class 'pandas.core.frame.DataFrame'>\n",
      "category  carbon_dioxide_co2_emissions_without_land_use_land_use_change_and_forestry_lulucf_in_kilotonne_co2_equivalent  \\\n",
      "year                                                                                                                      \n",
      "1990                                          278265.898941                                                               \n",
      "1991                                          279741.639012                                                               \n",
      "1992                                          284766.092718                                                               \n",
      "1993                                          289142.267681                                                               \n",
      "1994                                          293830.709141                                                               \n",
      "1995                                          305162.543549                                                               \n",
      "1996                                          311914.819824                                                               \n",
      "1997                                          320439.116819                                                               \n",
      "1998                                          334328.142647                                                               \n",
      "1999                                          343713.906948                                                               \n",
      "2000                                          349885.433109                                                               \n",
      "2001                                          357653.329899                                                               \n",
      "2002                                          361861.387896                                                               \n",
      "2003                                          368345.977425                                                               \n",
      "2004                                          381519.261593                                                               \n",
      "2005                                          385581.132806                                                               \n",
      "2006                                          391134.100909                                                               \n",
      "2007                                          398816.453544                                                               \n",
      "2008                                          404237.828214                                                               \n",
      "2009                                          408448.479000                                                               \n",
      "2010                                          406200.993184                                                               \n",
      "2011                                          403705.528314                                                               \n",
      "2012                                          406462.847704                                                               \n",
      "2013                                          396913.936530                                                               \n",
      "2014                                          393126.946994                                                               \n",
      "\n",
      "category  greenhouse_gas_ghgs_emissions_including_indirect_co2_without_lulucf_in_kilotonne_co2_equivalent  \\\n",
      "year                                                                                                        \n",
      "1990                                          418623.049563                                                 \n",
      "1991                                          418674.057494                                                 \n",
      "1992                                          423080.108191                                                 \n",
      "1993                                          423764.932564                                                 \n",
      "1994                                          424092.959373                                                 \n",
      "1995                                          433478.650826                                                 \n",
      "1996                                          439803.962228                                                 \n",
      "1997                                          451721.717815                                                 \n",
      "1998                                          466382.112472                                                 \n",
      "1999                                          472245.990778                                                 \n",
      "2000                                          483445.826665                                                 \n",
      "2001                                          491441.695937                                                 \n",
      "2002                                          494740.100777                                                 \n",
      "2003                                          495154.085967                                                 \n",
      "2004                                          511710.242021                                                 \n",
      "2005                                          518850.759462                                                 \n",
      "2006                                          522517.191663                                                 \n",
      "2007                                          529842.870342                                                 \n",
      "2008                                          533693.508207                                                 \n",
      "2009                                          537889.892624                                                 \n",
      "2010                                          533917.436295                                                 \n",
      "2011                                          534089.798685                                                 \n",
      "2012                                          537377.571453                                                 \n",
      "2013                                          526882.667267                                                 \n",
      "2014                                          522397.090711                                                 \n",
      "\n",
      "category  greenhouse_gas_ghgs_emissions_without_land_use_land_use_change_and_forestry_lulucf_in_kilotonne_co2_equivalent  \\\n",
      "year                                                                                                                       \n",
      "1990                                          418623.049563                                                                \n",
      "1991                                          418674.057494                                                                \n",
      "1992                                          423080.108191                                                                \n",
      "1993                                          423764.932564                                                                \n",
      "1994                                          424092.959373                                                                \n",
      "1995                                          433478.650826                                                                \n",
      "1996                                          439803.962228                                                                \n",
      "1997                                          451721.717815                                                                \n",
      "1998                                          466382.112472                                                                \n",
      "1999                                          472245.990778                                                                \n",
      "2000                                          483445.826665                                                                \n",
      "2001                                          491441.695937                                                                \n",
      "2002                                          494740.100777                                                                \n",
      "2003                                          495154.085967                                                                \n",
      "2004                                          511710.242021                                                                \n",
      "2005                                          518850.759462                                                                \n",
      "2006                                          522517.191663                                                                \n",
      "2007                                          529842.870342                                                                \n",
      "2008                                          533693.508207                                                                \n",
      "2009                                          537889.892624                                                                \n",
      "2010                                          533917.436295                                                                \n",
      "2011                                          534089.798685                                                                \n",
      "2012                                          537377.571453                                                                \n",
      "2013                                          526882.667267                                                                \n",
      "2014                                          522397.090711                                                                \n",
      "\n",
      "category  hydrofluorocarbons_hfcs_emissions_in_kilotonne_co2_equivalent  \\\n",
      "year                                                                      \n",
      "1990                                            1424.683520               \n",
      "1991                                            1424.683520               \n",
      "1992                                            1333.184000               \n",
      "1993                                            1829.872000               \n",
      "1994                                            1027.343549               \n",
      "1995                                            1004.032111               \n",
      "1996                                             414.170638               \n",
      "1997                                             705.228318               \n",
      "1998                                             998.289580               \n",
      "1999                                            1374.293110               \n",
      "2000                                            1613.200712               \n",
      "2001                                            2305.928964               \n",
      "2002                                            2926.730457               \n",
      "2003                                            3578.351510               \n",
      "2004                                            4266.921254               \n",
      "2005                                            5002.482722               \n",
      "2006                                            5456.520671               \n",
      "2007                                            6143.734777               \n",
      "2008                                            6832.226745               \n",
      "2009                                            7468.944106               \n",
      "2010                                            8166.067244               \n",
      "2011                                            8837.850581               \n",
      "2012                                            9353.066412               \n",
      "2013                                           10034.127624               \n",
      "2014                                           10787.350138               \n",
      "\n",
      "category  methane_ch4_emissions_without_land_use_land_use_change_and_forestry_lulucf_in_kilotonne_co2_equivalent  \\\n",
      "year                                                                                                               \n",
      "1990                                          118768.837813                                                        \n",
      "1991                                          117744.641814                                                        \n",
      "1992                                          116837.506726                                                        \n",
      "1993                                          113837.511923                                                        \n",
      "1994                                          110997.410185                                                        \n",
      "1995                                          109900.735111                                                        \n",
      "1996                                          109185.337720                                                        \n",
      "1997                                          111898.854749                                                        \n",
      "1998                                          111427.929806                                                        \n",
      "1999                                          107889.224971                                                        \n",
      "2000                                          111520.309552                                                        \n",
      "2001                                          110301.733954                                                        \n",
      "2002                                          108309.143528                                                        \n",
      "2003                                          102574.207810                                                        \n",
      "2004                                          103839.210857                                                        \n",
      "2005                                          105887.562989                                                        \n",
      "2006                                          104842.389866                                                        \n",
      "2007                                          105174.667802                                                        \n",
      "2008                                          103119.546054                                                        \n",
      "2009                                          101886.833298                                                        \n",
      "2010                                           99447.730159                                                        \n",
      "2011                                          101085.537857                                                        \n",
      "2012                                          100796.838744                                                        \n",
      "2013                                           99857.204626                                                        \n",
      "2014                                           98076.109401                                                        \n",
      "\n",
      "category  nitrous_oxide_n2o_emissions_without_land_use_land_use_change_and_forestry_lulucf_in_kilotonne_co2_equivalent  \\\n",
      "year                                                                                                                     \n",
      "1990                                           15345.597858                                                              \n",
      "1991                                           14923.405021                                                              \n",
      "1992                                           15293.183355                                                              \n",
      "1993                                           15374.993428                                                              \n",
      "1994                                           15790.426852                                                              \n",
      "1995                                           15578.196408                                                              \n",
      "1996                                           16609.586778                                                              \n",
      "1997                                           17201.890783                                                              \n",
      "1998                                           17743.913106                                                              \n",
      "1999                                           17933.439790                                                              \n",
      "2000                                           18949.169567                                                              \n",
      "2001                                           19182.286786                                                              \n",
      "2002                                           19712.732329                                                              \n",
      "2003                                           18765.276701                                                              \n",
      "2004                                           20163.240150                                                              \n",
      "2005                                           20405.815807                                                              \n",
      "2006                                           20224.606488                                                              \n",
      "2007                                           18963.118991                                                              \n",
      "2008                                           18908.280788                                                              \n",
      "2009                                           19607.633143                                                              \n",
      "2010                                           19698.298820                                                              \n",
      "2011                                           20034.575149                                                              \n",
      "2012                                           20342.383478                                                              \n",
      "2013                                           19756.452647                                                              \n",
      "2014                                           20084.542834                                                              \n",
      "\n",
      "category  perfluorocarbons_pfcs_emissions_in_kilotonne_co2_equivalent  \\\n",
      "year                                                                    \n",
      "1990                                            4607.012919             \n",
      "1991                                            4610.743294             \n",
      "1992                                            4603.282544             \n",
      "1993                                            3315.528376             \n",
      "1994                                            2164.428749             \n",
      "1995                                            1530.835665             \n",
      "1996                                            1410.395058             \n",
      "1997                                            1228.150898             \n",
      "1998                                            1660.518820             \n",
      "1999                                            1139.058757             \n",
      "2000                                            1287.061789             \n",
      "2001                                            1801.881974             \n",
      "2002                                            1727.623153             \n",
      "2003                                            1683.984775             \n",
      "2004                                            1713.848706             \n",
      "2005                                            1791.701120             \n",
      "2006                                             687.059842             \n",
      "2007                                             582.676819             \n",
      "2008                                             444.516694             \n",
      "2009                                             358.551981             \n",
      "2010                                             283.315235             \n",
      "2011                                             301.304840             \n",
      "2012                                             294.882947             \n",
      "2013                                             192.001236             \n",
      "2014                                             192.535991             \n",
      "\n",
      "category  sulphur_hexafluoride_sf6_emissions_in_kilotonne_co2_equivalent  \n",
      "year                                                                      \n",
      "1990                                             211.018511               \n",
      "1991                                             228.944834               \n",
      "1992                                             246.858849               \n",
      "1993                                             264.759156               \n",
      "1994                                             282.640896               \n",
      "1995                                             302.307983               \n",
      "1996                                             269.652210               \n",
      "1997                                             248.476248               \n",
      "1998                                             223.318513               \n",
      "1999                                             196.067201               \n",
      "2000                                             190.651935               \n",
      "2001                                             196.534360               \n",
      "2002                                             202.483415               \n",
      "2003                                             206.287746               \n",
      "2004                                             207.759461               \n",
      "2005                                             182.064019               \n",
      "2006                                             172.513887               \n",
      "2007                                             162.218411               \n",
      "2008                                             151.109713               \n",
      "2009                                             119.451096               \n",
      "2010                                             121.031654               \n",
      "2011                                             125.001945               \n",
      "2012                                             127.552168               \n",
      "2013                                             128.944604               \n",
      "2014                                             129.605354               \n"
     ]
    }
   ],
   "source": [
    "australia = df[df.country_or_area == \"Australia\"]\n",
    "\n",
    "\n",
    "\n",
    "australia = australia.pivot_table(columns=[\"category\"], values=\"value\", index=\"year\")\n",
    "print (type(australia))\n",
    "print (australia)\n",
    "\n"
   ]
  },
  {
   "cell_type": "code",
   "execution_count": 36,
   "metadata": {},
   "outputs": [
    {
     "data": {
      "text/plain": [
       "Index(['co2__without_land_use', 'co2_indirect_without_lulucf',\n",
       "       'co2_greenhouse_gas_without_land_use', 'hydrofluorocarbons',\n",
       "       'methane_without_land_use', 'nitrous_oxide_without_land_use',\n",
       "       'perfluorocarbons', 'sulphur_hexafluoride'],\n",
       "      dtype='object', name='category')"
      ]
     },
     "execution_count": 36,
     "metadata": {},
     "output_type": "execute_result"
    }
   ],
   "source": [
    "australia.rename({\"carbon_dioxide_co2_emissions_without_land_use_land_use_change_and_forestry_lulucf_in_kilotonne_co2_equivalent\": \"co2__without_land_use\",\n",
    "                  \"greenhouse_gas_ghgs_emissions_including_indirect_co2_without_lulucf_in_kilotonne_co2_equivalent\": \"co2_indirect_without_lulucf\",\n",
    "                  \"greenhouse_gas_ghgs_emissions_without_land_use_land_use_change_and_forestry_lulucf_in_kilotonne_co2_equivalent\": \"co2_greenhouse_gas_without_land_use\",\n",
    "                  'hydrofluorocarbons_hfcs_emissions_in_kilotonne_co2_equivalent': \"hydrofluorocarbons\",\n",
    "                  'methane_ch4_emissions_without_land_use_land_use_change_and_forestry_lulucf_in_kilotonne_co2_equivalent': \"methane_without_land_use\",\n",
    "                  'nitrous_oxide_n2o_emissions_without_land_use_land_use_change_and_forestry_lulucf_in_kilotonne_co2_equivalent': \"nitrous_oxide_without_land_use\",\n",
    "                  'perfluorocarbons_pfcs_emissions_in_kilotonne_co2_equivalent': \"perfluorocarbons\",\n",
    "                  'sulphur_hexafluoride_sf6_emissions_in_kilotonne_co2_equivalent': \"sulphur_hexafluoride\"\n",
    "                  }, inplace=True, axis=1)\n",
    "\n",
    "\n",
    "australia.columns"
   ]
  },
  {
   "cell_type": "code",
   "execution_count": 37,
   "metadata": {},
   "outputs": [
    {
     "data": {
      "image/png": "[encoded data removed]",
      "text/plain": [
       "<Figure size 640x480 with 1 Axes>"
      ]
     },
     "metadata": {},
     "output_type": "display_data"
    }
   ],
   "source": [
    "sns.set()\n",
    "australia[\"year\"] = [i for i in australia.index]\n",
    "australia.index = [i for i in range(len(australia))]\n",
    "for i in range(0, len(australia.columns) - 1):\n",
    "    plt.scatter(x=australia[\"year\"] , y=australia[australia.columns[i]])\n",
    "plt.xlabel(\"year\")\n",
    "plt.ylabel(\"value\")\n",
    "\n",
    "plt.legend(australia.columns, loc=0)\n",
    "plt.title(\"Australia\")\n",
    "plt.show()\n"
   ]
  },
  {
   "cell_type": "code",
   "execution_count": 38,
   "metadata": {},
   "outputs": [
    {
     "data": {
      "text/plain": [
       "0     1990\n",
       "1     1991\n",
       "2     1992\n",
       "3     1993\n",
       "4     1994\n",
       "5     1995\n",
       "6     1996\n",
       "7     1997\n",
       "8     1998\n",
       "9     1999\n",
       "10    2000\n",
       "11    2001\n",
       "12    2002\n",
       "13    2003\n",
       "14    2004\n",
       "15    2005\n",
       "16    2006\n",
       "17    2007\n",
       "18    2008\n",
       "19    2009\n",
       "20    2010\n",
       "21    2011\n",
       "22    2012\n",
       "23    2013\n",
       "24    2014\n",
       "Name: year, dtype: int64"
      ]
     },
     "execution_count": 38,
     "metadata": {},
     "output_type": "execute_result"
    }
   ],
   "source": [
    "australia.year"
   ]
  },
  {
   "cell_type": "code",
   "execution_count": 39,
   "metadata": {},
   "outputs": [
    {
     "ename": "IndexError",
     "evalue": "index 25 is out of bounds for axis 0 with size 9",
     "output_type": "error",
     "traceback": [
      "\u001b[0;31m---------------------------------------------------------------------------\u001b[0m",
      "\u001b[0;31mIndexError\u001b[0m                                Traceback (most recent call last)",
      "\u001b[0;32m/var/folders/4y/8v3hsc192dd3bhhzh6m1dcb40000gn/T/ipykernel_68394/989871104.py\u001b[0m in \u001b[0;36m<module>\u001b[0;34m\u001b[0m\n\u001b[1;32m      1\u001b[0m \u001b[0mlen\u001b[0m\u001b[0;34m(\u001b[0m\u001b[0maustralia\u001b[0m\u001b[0;34m)\u001b[0m\u001b[0;34m\u001b[0m\u001b[0;34m\u001b[0m\u001b[0m\n\u001b[1;32m      2\u001b[0m \u001b[0;34m\u001b[0m\u001b[0m\n\u001b[0;32m----> 3\u001b[0;31m \u001b[0maustralia\u001b[0m\u001b[0;34m.\u001b[0m\u001b[0mcolumns\u001b[0m\u001b[0;34m[\u001b[0m\u001b[0;36m25\u001b[0m\u001b[0;34m]\u001b[0m\u001b[0;34m\u001b[0m\u001b[0;34m\u001b[0m\u001b[0m\n\u001b[0m",
      "\u001b[0;32m~/opt/anaconda3/lib/python3.9/site-packages/pandas/core/indexes/base.py\u001b[0m in \u001b[0;36m__getitem__\u001b[0;34m(self, key)\u001b[0m\n\u001b[1;32m   5051\u001b[0m             \u001b[0;31m# GH#44051 exclude bool, which would return a 2d ndarray\u001b[0m\u001b[0;34m\u001b[0m\u001b[0;34m\u001b[0m\u001b[0m\n\u001b[1;32m   5052\u001b[0m             \u001b[0mkey\u001b[0m \u001b[0;34m=\u001b[0m \u001b[0mcom\u001b[0m\u001b[0;34m.\u001b[0m\u001b[0mcast_scalar_indexer\u001b[0m\u001b[0;34m(\u001b[0m\u001b[0mkey\u001b[0m\u001b[0;34m,\u001b[0m \u001b[0mwarn_float\u001b[0m\u001b[0;34m=\u001b[0m\u001b[0;32mTrue\u001b[0m\u001b[0;34m)\u001b[0m\u001b[0;34m\u001b[0m\u001b[0;34m\u001b[0m\u001b[0m\n\u001b[0;32m-> 5053\u001b[0;31m             \u001b[0;32mreturn\u001b[0m \u001b[0mgetitem\u001b[0m\u001b[0;34m(\u001b[0m\u001b[0mkey\u001b[0m\u001b[0;34m)\u001b[0m\u001b[0;34m\u001b[0m\u001b[0;34m\u001b[0m\u001b[0m\n\u001b[0m\u001b[1;32m   5054\u001b[0m \u001b[0;34m\u001b[0m\u001b[0m\n\u001b[1;32m   5055\u001b[0m         \u001b[0;32mif\u001b[0m \u001b[0misinstance\u001b[0m\u001b[0;34m(\u001b[0m\u001b[0mkey\u001b[0m\u001b[0;34m,\u001b[0m \u001b[0mslice\u001b[0m\u001b[0;34m)\u001b[0m\u001b[0;34m:\u001b[0m\u001b[0;34m\u001b[0m\u001b[0;34m\u001b[0m\u001b[0m\n",
      "\u001b[0;31mIndexError\u001b[0m: index 25 is out of bounds for axis 0 with size 9"
     ]
    }
   ],
   "source": [
    "len(australia)\n",
    "\n",
    "australia.columns[25]"
   ]
  },
  {
   "cell_type": "code",
   "execution_count": null,
   "metadata": {},
   "outputs": [
    {
     "data": {
      "text/html": [
       "<div>\n",
       "<style scoped>\n",
       "    .dataframe tbody tr th:only-of-type {\n",
       "        vertical-align: middle;\n",
       "    }\n",
       "\n",
       "    .dataframe tbody tr th {\n",
       "        vertical-align: top;\n",
       "    }\n",
       "\n",
       "    .dataframe thead th {\n",
       "        text-align: right;\n",
       "    }\n",
       "</style>\n",
       "<table border=\"1\" class=\"dataframe\">\n",
       "  <thead>\n",
       "    <tr style=\"text-align: right;\">\n",
       "      <th></th>\n",
       "      <th>value</th>\n",
       "      <th>year</th>\n",
       "    </tr>\n",
       "    <tr>\n",
       "      <th>year</th>\n",
       "      <th></th>\n",
       "      <th></th>\n",
       "    </tr>\n",
       "  </thead>\n",
       "  <tbody>\n",
       "    <tr>\n",
       "      <th>1990</th>\n",
       "      <td>156983.643586</td>\n",
       "      <td>1990</td>\n",
       "    </tr>\n",
       "    <tr>\n",
       "      <th>1991</th>\n",
       "      <td>157002.771560</td>\n",
       "      <td>1991</td>\n",
       "    </tr>\n",
       "    <tr>\n",
       "      <th>1992</th>\n",
       "      <td>158655.040572</td>\n",
       "      <td>1992</td>\n",
       "    </tr>\n",
       "    <tr>\n",
       "      <th>1993</th>\n",
       "      <td>158911.849712</td>\n",
       "      <td>1993</td>\n",
       "    </tr>\n",
       "    <tr>\n",
       "      <th>1994</th>\n",
       "      <td>159034.859765</td>\n",
       "      <td>1994</td>\n",
       "    </tr>\n",
       "    <tr>\n",
       "      <th>1995</th>\n",
       "      <td>162554.494060</td>\n",
       "      <td>1995</td>\n",
       "    </tr>\n",
       "    <tr>\n",
       "      <th>1996</th>\n",
       "      <td>164926.485836</td>\n",
       "      <td>1996</td>\n",
       "    </tr>\n",
       "    <tr>\n",
       "      <th>1997</th>\n",
       "      <td>169395.644180</td>\n",
       "      <td>1997</td>\n",
       "    </tr>\n",
       "    <tr>\n",
       "      <th>1998</th>\n",
       "      <td>174893.292177</td>\n",
       "      <td>1998</td>\n",
       "    </tr>\n",
       "    <tr>\n",
       "      <th>1999</th>\n",
       "      <td>177092.246542</td>\n",
       "      <td>1999</td>\n",
       "    </tr>\n",
       "    <tr>\n",
       "      <th>2000</th>\n",
       "      <td>181292.184999</td>\n",
       "      <td>2000</td>\n",
       "    </tr>\n",
       "    <tr>\n",
       "      <th>2001</th>\n",
       "      <td>184290.635976</td>\n",
       "      <td>2001</td>\n",
       "    </tr>\n",
       "    <tr>\n",
       "      <th>2002</th>\n",
       "      <td>185527.537791</td>\n",
       "      <td>2002</td>\n",
       "    </tr>\n",
       "    <tr>\n",
       "      <th>2003</th>\n",
       "      <td>185682.782238</td>\n",
       "      <td>2003</td>\n",
       "    </tr>\n",
       "    <tr>\n",
       "      <th>2004</th>\n",
       "      <td>191891.340758</td>\n",
       "      <td>2004</td>\n",
       "    </tr>\n",
       "    <tr>\n",
       "      <th>2005</th>\n",
       "      <td>194569.034798</td>\n",
       "      <td>2005</td>\n",
       "    </tr>\n",
       "    <tr>\n",
       "      <th>2006</th>\n",
       "      <td>195943.946874</td>\n",
       "      <td>2006</td>\n",
       "    </tr>\n",
       "    <tr>\n",
       "      <th>2007</th>\n",
       "      <td>198691.076378</td>\n",
       "      <td>2007</td>\n",
       "    </tr>\n",
       "    <tr>\n",
       "      <th>2008</th>\n",
       "      <td>200135.065578</td>\n",
       "      <td>2008</td>\n",
       "    </tr>\n",
       "    <tr>\n",
       "      <th>2009</th>\n",
       "      <td>201708.709734</td>\n",
       "      <td>2009</td>\n",
       "    </tr>\n",
       "    <tr>\n",
       "      <th>2010</th>\n",
       "      <td>200219.038611</td>\n",
       "      <td>2010</td>\n",
       "    </tr>\n",
       "    <tr>\n",
       "      <th>2011</th>\n",
       "      <td>200283.674507</td>\n",
       "      <td>2011</td>\n",
       "    </tr>\n",
       "    <tr>\n",
       "      <th>2012</th>\n",
       "      <td>201516.589295</td>\n",
       "      <td>2012</td>\n",
       "    </tr>\n",
       "    <tr>\n",
       "      <th>2013</th>\n",
       "      <td>197581.000225</td>\n",
       "      <td>2013</td>\n",
       "    </tr>\n",
       "    <tr>\n",
       "      <th>2014</th>\n",
       "      <td>195898.909017</td>\n",
       "      <td>2014</td>\n",
       "    </tr>\n",
       "  </tbody>\n",
       "</table>\n",
       "</div>"
      ],
      "text/plain": [
       "              value  year\n",
       "year                     \n",
       "1990  156983.643586  1990\n",
       "1991  157002.771560  1991\n",
       "1992  158655.040572  1992\n",
       "1993  158911.849712  1993\n",
       "1994  159034.859765  1994\n",
       "1995  162554.494060  1995\n",
       "1996  164926.485836  1996\n",
       "1997  169395.644180  1997\n",
       "1998  174893.292177  1998\n",
       "1999  177092.246542  1999\n",
       "2000  181292.184999  2000\n",
       "2001  184290.635976  2001\n",
       "2002  185527.537791  2002\n",
       "2003  185682.782238  2003\n",
       "2004  191891.340758  2004\n",
       "2005  194569.034798  2005\n",
       "2006  195943.946874  2006\n",
       "2007  198691.076378  2007\n",
       "2008  200135.065578  2008\n",
       "2009  201708.709734  2009\n",
       "2010  200219.038611  2010\n",
       "2011  200283.674507  2011\n",
       "2012  201516.589295  2012\n",
       "2013  197581.000225  2013\n",
       "2014  195898.909017  2014"
      ]
     },
     "execution_count": 81,
     "metadata": {},
     "output_type": "execute_result"
    }
   ],
   "source": [
    "australia = df[df.country_or_area == \"Australia\"]\n",
    "\n",
    "australia = australia.groupby([\"year\"])[\"value\"].mean()\n",
    "australia = pd.DataFrame(australia)\n",
    "australia[\"year\"] = [i for i in australia.index]\n",
    "australia"
   ]
  },
  {
   "cell_type": "code",
   "execution_count": null,
   "metadata": {},
   "outputs": [
    {
     "data": {
      "text/plain": [
       "[<matplotlib.lines.Line2D at 0x7fe9e1eb6a30>]"
      ]
     },
     "execution_count": 85,
     "metadata": {},
     "output_type": "execute_result"
    },
    {
     "data": {
      "image/png": "[encoded data removed]",
      "text/plain": [
       "<Figure size 640x480 with 1 Axes>"
      ]
     },
     "metadata": {},
     "output_type": "display_data"
    }
   ],
   "source": [
    "plt.scatter(australia.year, australia.value)\n",
    "import numpy as np\n",
    "\n",
    "reg = np.polyfit(australia.year, australia.value, deg=1)\n",
    "trend = np.polyval(reg, australia.year)\n",
    "plt.plot(australia.year, trend)"
   ]
  },
  {
   "cell_type": "code",
   "execution_count": null,
   "metadata": {},
   "outputs": [
    {
     "name": "stdout",
     "output_type": "stream",
     "text": [
      "Pearson test results: cor=0.9591564777715229, p=4.165623201526104e-14\n"
     ]
    }
   ],
   "source": [
    "from scipy.stats import *\n",
    "\n",
    "c, p = pearsonr(australia.year, australia.value)\n",
    "print (f\"Pearson test results: cor={c}, p={p}\")\n"
   ]
  },
  {
   "cell_type": "code",
   "execution_count": null,
   "metadata": {},
   "outputs": [
    {
     "data": {
      "text/plain": [
       "0.919981148851074"
      ]
     },
     "execution_count": 86,
     "metadata": {},
     "output_type": "execute_result"
    }
   ],
   "source": [
    "0.9591564777715229 ** 2"
   ]
  },
  {
   "cell_type": "code",
   "execution_count": 40,
   "metadata": {},
   "outputs": [
    {
     "data": {
      "text/plain": [
       "<AxesSubplot: xlabel='year', ylabel='value'>"
      ]
     },
     "execution_count": 40,
     "metadata": {},
     "output_type": "execute_result"
    },
    {
     "data": {
      "image/png": "[encoded data removed]",
      "text/plain": [
       "<Figure size 640x480 with 1 Axes>"
      ]
     },
     "metadata": {},
     "output_type": "display_data"
    }
   ],
   "source": [
    "df = pd.read_csv(\"greenhouse.csv\")\n",
    "Australia = df[df.country_or_area == \"Australia\"]\n",
    "\n",
    "import seaborn as sns\n",
    "sns.lineplot(x=\"year\", y=\"value\", data=Australia, hue=\"category\")"
   ]
  },
  {
   "cell_type": "code",
   "execution_count": 41,
   "metadata": {},
   "outputs": [
    {
     "data": {
      "text/html": [
       "<div>\n",
       "<style scoped>\n",
       "    .dataframe tbody tr th:only-of-type {\n",
       "        vertical-align: middle;\n",
       "    }\n",
       "\n",
       "    .dataframe tbody tr th {\n",
       "        vertical-align: top;\n",
       "    }\n",
       "\n",
       "    .dataframe thead th {\n",
       "        text-align: right;\n",
       "    }\n",
       "</style>\n",
       "<table border=\"1\" class=\"dataframe\">\n",
       "  <thead>\n",
       "    <tr style=\"text-align: right;\">\n",
       "      <th></th>\n",
       "      <th>country_or_area</th>\n",
       "      <th>year</th>\n",
       "      <th>value</th>\n",
       "      <th>category</th>\n",
       "    </tr>\n",
       "  </thead>\n",
       "  <tbody>\n",
       "    <tr>\n",
       "      <th>0</th>\n",
       "      <td>Australia</td>\n",
       "      <td>2014</td>\n",
       "      <td>393126.946994</td>\n",
       "      <td>carbon_dioxide_co2_emissions_without_land_use_...</td>\n",
       "    </tr>\n",
       "    <tr>\n",
       "      <th>1</th>\n",
       "      <td>Australia</td>\n",
       "      <td>2013</td>\n",
       "      <td>396913.936530</td>\n",
       "      <td>carbon_dioxide_co2_emissions_without_land_use_...</td>\n",
       "    </tr>\n",
       "    <tr>\n",
       "      <th>2</th>\n",
       "      <td>Australia</td>\n",
       "      <td>2012</td>\n",
       "      <td>406462.847704</td>\n",
       "      <td>carbon_dioxide_co2_emissions_without_land_use_...</td>\n",
       "    </tr>\n",
       "    <tr>\n",
       "      <th>3</th>\n",
       "      <td>Australia</td>\n",
       "      <td>2011</td>\n",
       "      <td>403705.528314</td>\n",
       "      <td>carbon_dioxide_co2_emissions_without_land_use_...</td>\n",
       "    </tr>\n",
       "    <tr>\n",
       "      <th>4</th>\n",
       "      <td>Australia</td>\n",
       "      <td>2010</td>\n",
       "      <td>406200.993184</td>\n",
       "      <td>carbon_dioxide_co2_emissions_without_land_use_...</td>\n",
       "    </tr>\n",
       "    <tr>\n",
       "      <th>...</th>\n",
       "      <td>...</td>\n",
       "      <td>...</td>\n",
       "      <td>...</td>\n",
       "      <td>...</td>\n",
       "    </tr>\n",
       "    <tr>\n",
       "      <th>7319</th>\n",
       "      <td>Australia</td>\n",
       "      <td>1994</td>\n",
       "      <td>282.640896</td>\n",
       "      <td>sulphur_hexafluoride_sf6_emissions_in_kilotonn...</td>\n",
       "    </tr>\n",
       "    <tr>\n",
       "      <th>7320</th>\n",
       "      <td>Australia</td>\n",
       "      <td>1993</td>\n",
       "      <td>264.759156</td>\n",
       "      <td>sulphur_hexafluoride_sf6_emissions_in_kilotonn...</td>\n",
       "    </tr>\n",
       "    <tr>\n",
       "      <th>7321</th>\n",
       "      <td>Australia</td>\n",
       "      <td>1992</td>\n",
       "      <td>246.858849</td>\n",
       "      <td>sulphur_hexafluoride_sf6_emissions_in_kilotonn...</td>\n",
       "    </tr>\n",
       "    <tr>\n",
       "      <th>7322</th>\n",
       "      <td>Australia</td>\n",
       "      <td>1991</td>\n",
       "      <td>228.944834</td>\n",
       "      <td>sulphur_hexafluoride_sf6_emissions_in_kilotonn...</td>\n",
       "    </tr>\n",
       "    <tr>\n",
       "      <th>7323</th>\n",
       "      <td>Australia</td>\n",
       "      <td>1990</td>\n",
       "      <td>211.018511</td>\n",
       "      <td>sulphur_hexafluoride_sf6_emissions_in_kilotonn...</td>\n",
       "    </tr>\n",
       "  </tbody>\n",
       "</table>\n",
       "<p>200 rows × 4 columns</p>\n",
       "</div>"
      ],
      "text/plain": [
       "     country_or_area  year          value  \\\n",
       "0          Australia  2014  393126.946994   \n",
       "1          Australia  2013  396913.936530   \n",
       "2          Australia  2012  406462.847704   \n",
       "3          Australia  2011  403705.528314   \n",
       "4          Australia  2010  406200.993184   \n",
       "...              ...   ...            ...   \n",
       "7319       Australia  1994     282.640896   \n",
       "7320       Australia  1993     264.759156   \n",
       "7321       Australia  1992     246.858849   \n",
       "7322       Australia  1991     228.944834   \n",
       "7323       Australia  1990     211.018511   \n",
       "\n",
       "                                               category  \n",
       "0     carbon_dioxide_co2_emissions_without_land_use_...  \n",
       "1     carbon_dioxide_co2_emissions_without_land_use_...  \n",
       "2     carbon_dioxide_co2_emissions_without_land_use_...  \n",
       "3     carbon_dioxide_co2_emissions_without_land_use_...  \n",
       "4     carbon_dioxide_co2_emissions_without_land_use_...  \n",
       "...                                                 ...  \n",
       "7319  sulphur_hexafluoride_sf6_emissions_in_kilotonn...  \n",
       "7320  sulphur_hexafluoride_sf6_emissions_in_kilotonn...  \n",
       "7321  sulphur_hexafluoride_sf6_emissions_in_kilotonn...  \n",
       "7322  sulphur_hexafluoride_sf6_emissions_in_kilotonn...  \n",
       "7323  sulphur_hexafluoride_sf6_emissions_in_kilotonn...  \n",
       "\n",
       "[200 rows x 4 columns]"
      ]
     },
     "execution_count": 41,
     "metadata": {},
     "output_type": "execute_result"
    }
   ],
   "source": [
    "Australia"
   ]
  },
  {
   "cell_type": "code",
   "execution_count": 45,
   "metadata": {},
   "outputs": [
    {
     "data": {
      "text/plain": [
       "Index(['carbon_dioxide_co2_emissions_without_land_use_land_use_change_and_forestry_lulucf_in_kilotonne_co2_equivalent',\n",
       "       'greenhouse_gas_ghgs_emissions_including_indirect_co2_without_lulucf_in_kilotonne_co2_equivalent',\n",
       "       'greenhouse_gas_ghgs_emissions_without_land_use_land_use_change_and_forestry_lulucf_in_kilotonne_co2_equivalent',\n",
       "       'hydrofluorocarbons_hfcs_emissions_in_kilotonne_co2_equivalent',\n",
       "       'methane_ch4_emissions_without_land_use_land_use_change_and_forestry_lulucf_in_kilotonne_co2_equivalent',\n",
       "       'nitrous_oxide_n2o_emissions_without_land_use_land_use_change_and_forestry_lulucf_in_kilotonne_co2_equivalent',\n",
       "       'perfluorocarbons_pfcs_emissions_in_kilotonne_co2_equivalent',\n",
       "       'sulphur_hexafluoride_sf6_emissions_in_kilotonne_co2_equivalent'],\n",
       "      dtype='object', name='category')"
      ]
     },
     "execution_count": 45,
     "metadata": {},
     "output_type": "execute_result"
    }
   ],
   "source": [
    "new_df = Australia.pivot_table(columns=\"category\", index=\"year\", values=\"value\")\n",
    "new_df.columns"
   ]
  },
  {
   "cell_type": "code",
   "execution_count": 50,
   "metadata": {},
   "outputs": [
    {
     "data": {
      "text/plain": [
       "9"
      ]
     },
     "execution_count": 50,
     "metadata": {},
     "output_type": "execute_result"
    }
   ],
   "source": [
    "new_df[\"year\"] = [i for i in new_df.index]\n",
    "len(new_df.columns)"
   ]
  },
  {
   "cell_type": "code",
   "execution_count": 58,
   "metadata": {},
   "outputs": [
    {
     "name": "stdout",
     "output_type": "stream",
     "text": [
      "year\n",
      "1990    278265.898941\n",
      "1991    279741.639012\n",
      "1992    284766.092718\n",
      "1993    289142.267681\n",
      "1994    293830.709141\n",
      "1995    305162.543549\n",
      "1996    311914.819824\n",
      "1997    320439.116819\n",
      "1998    334328.142647\n",
      "1999    343713.906948\n",
      "2000    349885.433109\n",
      "2001    357653.329899\n",
      "2002    361861.387896\n",
      "2003    368345.977425\n",
      "2004    381519.261593\n",
      "2005    385581.132806\n",
      "2006    391134.100909\n",
      "2007    398816.453544\n",
      "2008    404237.828214\n",
      "2009    408448.479000\n",
      "2010    406200.993184\n",
      "2011    403705.528314\n",
      "2012    406462.847704\n",
      "2013    396913.936530\n",
      "2014    393126.946994\n",
      "Name: carbon_dioxide_co2_emissions_without_land_use_land_use_change_and_forestry_lulucf_in_kilotonne_co2_equivalent, dtype: float64\n",
      "year\n",
      "1990    418623.049563\n",
      "1991    418674.057494\n",
      "1992    423080.108191\n",
      "1993    423764.932564\n",
      "1994    424092.959373\n",
      "1995    433478.650826\n",
      "1996    439803.962228\n",
      "1997    451721.717815\n",
      "1998    466382.112472\n",
      "1999    472245.990778\n",
      "2000    483445.826665\n",
      "2001    491441.695937\n",
      "2002    494740.100777\n",
      "2003    495154.085967\n",
      "2004    511710.242021\n",
      "2005    518850.759462\n",
      "2006    522517.191663\n",
      "2007    529842.870342\n",
      "2008    533693.508207\n",
      "2009    537889.892624\n",
      "2010    533917.436295\n",
      "2011    534089.798685\n",
      "2012    537377.571453\n",
      "2013    526882.667267\n",
      "2014    522397.090711\n",
      "Name: greenhouse_gas_ghgs_emissions_including_indirect_co2_without_lulucf_in_kilotonne_co2_equivalent, dtype: float64\n",
      "year\n",
      "1990    418623.049563\n",
      "1991    418674.057494\n",
      "1992    423080.108191\n",
      "1993    423764.932564\n",
      "1994    424092.959373\n",
      "1995    433478.650826\n",
      "1996    439803.962228\n",
      "1997    451721.717815\n",
      "1998    466382.112472\n",
      "1999    472245.990778\n",
      "2000    483445.826665\n",
      "2001    491441.695937\n",
      "2002    494740.100777\n",
      "2003    495154.085967\n",
      "2004    511710.242021\n",
      "2005    518850.759462\n",
      "2006    522517.191663\n",
      "2007    529842.870342\n",
      "2008    533693.508207\n",
      "2009    537889.892624\n",
      "2010    533917.436295\n",
      "2011    534089.798685\n",
      "2012    537377.571453\n",
      "2013    526882.667267\n",
      "2014    522397.090711\n",
      "Name: greenhouse_gas_ghgs_emissions_without_land_use_land_use_change_and_forestry_lulucf_in_kilotonne_co2_equivalent, dtype: float64\n",
      "year\n",
      "1990     1424.683520\n",
      "1991     1424.683520\n",
      "1992     1333.184000\n",
      "1993     1829.872000\n",
      "1994     1027.343549\n",
      "1995     1004.032111\n",
      "1996      414.170638\n",
      "1997      705.228318\n",
      "1998      998.289580\n",
      "1999     1374.293110\n",
      "2000     1613.200712\n",
      "2001     2305.928964\n",
      "2002     2926.730457\n",
      "2003     3578.351510\n",
      "2004     4266.921254\n",
      "2005     5002.482722\n",
      "2006     5456.520671\n",
      "2007     6143.734777\n",
      "2008     6832.226745\n",
      "2009     7468.944106\n",
      "2010     8166.067244\n",
      "2011     8837.850581\n",
      "2012     9353.066412\n",
      "2013    10034.127624\n",
      "2014    10787.350138\n",
      "Name: hydrofluorocarbons_hfcs_emissions_in_kilotonne_co2_equivalent, dtype: float64\n",
      "year\n",
      "1990    118768.837813\n",
      "1991    117744.641814\n",
      "1992    116837.506726\n",
      "1993    113837.511923\n",
      "1994    110997.410185\n",
      "1995    109900.735111\n",
      "1996    109185.337720\n",
      "1997    111898.854749\n",
      "1998    111427.929806\n",
      "1999    107889.224971\n",
      "2000    111520.309552\n",
      "2001    110301.733954\n",
      "2002    108309.143528\n",
      "2003    102574.207810\n",
      "2004    103839.210857\n",
      "2005    105887.562989\n",
      "2006    104842.389866\n",
      "2007    105174.667802\n",
      "2008    103119.546054\n",
      "2009    101886.833298\n",
      "2010     99447.730159\n",
      "2011    101085.537857\n",
      "2012    100796.838744\n",
      "2013     99857.204626\n",
      "2014     98076.109401\n",
      "Name: methane_ch4_emissions_without_land_use_land_use_change_and_forestry_lulucf_in_kilotonne_co2_equivalent, dtype: float64\n",
      "year\n",
      "1990    15345.597858\n",
      "1991    14923.405021\n",
      "1992    15293.183355\n",
      "1993    15374.993428\n",
      "1994    15790.426852\n",
      "1995    15578.196408\n",
      "1996    16609.586778\n",
      "1997    17201.890783\n",
      "1998    17743.913106\n",
      "1999    17933.439790\n",
      "2000    18949.169567\n",
      "2001    19182.286786\n",
      "2002    19712.732329\n",
      "2003    18765.276701\n",
      "2004    20163.240150\n",
      "2005    20405.815807\n",
      "2006    20224.606488\n",
      "2007    18963.118991\n",
      "2008    18908.280788\n",
      "2009    19607.633143\n",
      "2010    19698.298820\n",
      "2011    20034.575149\n",
      "2012    20342.383478\n",
      "2013    19756.452647\n",
      "2014    20084.542834\n",
      "Name: nitrous_oxide_n2o_emissions_without_land_use_land_use_change_and_forestry_lulucf_in_kilotonne_co2_equivalent, dtype: float64\n",
      "year\n",
      "1990    4607.012919\n",
      "1991    4610.743294\n",
      "1992    4603.282544\n",
      "1993    3315.528376\n",
      "1994    2164.428749\n",
      "1995    1530.835665\n",
      "1996    1410.395058\n",
      "1997    1228.150898\n",
      "1998    1660.518820\n",
      "1999    1139.058757\n",
      "2000    1287.061789\n",
      "2001    1801.881974\n",
      "2002    1727.623153\n",
      "2003    1683.984775\n",
      "2004    1713.848706\n",
      "2005    1791.701120\n",
      "2006     687.059842\n",
      "2007     582.676819\n",
      "2008     444.516694\n",
      "2009     358.551981\n",
      "2010     283.315235\n",
      "2011     301.304840\n",
      "2012     294.882947\n",
      "2013     192.001236\n",
      "2014     192.535991\n",
      "Name: perfluorocarbons_pfcs_emissions_in_kilotonne_co2_equivalent, dtype: float64\n",
      "year\n",
      "1990    211.018511\n",
      "1991    228.944834\n",
      "1992    246.858849\n",
      "1993    264.759156\n",
      "1994    282.640896\n",
      "1995    302.307983\n",
      "1996    269.652210\n",
      "1997    248.476248\n",
      "1998    223.318513\n",
      "1999    196.067201\n",
      "2000    190.651935\n",
      "2001    196.534360\n",
      "2002    202.483415\n",
      "2003    206.287746\n",
      "2004    207.759461\n",
      "2005    182.064019\n",
      "2006    172.513887\n",
      "2007    162.218411\n",
      "2008    151.109713\n",
      "2009    119.451096\n",
      "2010    121.031654\n",
      "2011    125.001945\n",
      "2012    127.552168\n",
      "2013    128.944604\n",
      "2014    129.605354\n",
      "Name: sulphur_hexafluoride_sf6_emissions_in_kilotonne_co2_equivalent, dtype: float64\n",
      "year\n",
      "1990    1990\n",
      "1991    1991\n",
      "1992    1992\n",
      "1993    1993\n",
      "1994    1994\n",
      "1995    1995\n",
      "1996    1996\n",
      "1997    1997\n",
      "1998    1998\n",
      "1999    1999\n",
      "2000    2000\n",
      "2001    2001\n",
      "2002    2002\n",
      "2003    2003\n",
      "2004    2004\n",
      "2005    2005\n",
      "2006    2006\n",
      "2007    2007\n",
      "2008    2008\n",
      "2009    2009\n",
      "2010    2010\n",
      "2011    2011\n",
      "2012    2012\n",
      "2013    2013\n",
      "2014    2014\n",
      "Name: year, dtype: int64\n"
     ]
    }
   ],
   "source": [
    "count = 0\n",
    "for i in new_df.columns:\n",
    "    print (new_df[i])"
   ]
  },
  {
   "cell_type": "code",
   "execution_count": null,
   "metadata": {},
   "outputs": [],
   "source": []
  }
 ],
 "metadata": {
  "kernelspec": {
   "display_name": "Python 3.9.13 ('base': conda)",
   "language": "python",
   "name": "python3"
  },
  "language_info": {
   "codemirror_mode": {
    "name": "ipython",
    "version": 3
   },
   "file_extension": ".py",
   "mimetype": "text/x-python",
   "name": "python",
   "nbconvert_exporter": "python",
   "pygments_lexer": "ipython3",
   "version": "3.9.13"
  },
  "orig_nbformat": 4,
  "vscode": {
   "interpreter": {
    "hash": "0224488fa4b52711f9f196513d270d036887a6b83812c24686eb9c7b75049604"
   }
  }
 },
 "nbformat": 4,
 "nbformat_minor": 2
}
