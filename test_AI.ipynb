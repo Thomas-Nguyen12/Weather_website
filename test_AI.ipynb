{
 "cells": [
  {
   "cell_type": "code",
   "execution_count": 5,
   "metadata": {},
   "outputs": [],
   "source": [
    "import pandas as pd \n",
    "import numpy as np\n",
    "from sklearn.metrics import accuracy_score\n",
    "from sklearn.svm import SVC \n",
    "from sklearn.preprocessing import LabelEncoder\n",
    "from sklearn.model_selection import train_test_split\n",
    "\n",
    "import seaborn as sns\n",
    "import matplotlib.pyplot as plt\n",
    "from sklearn.tree import DecisionTreeClassifier\n"
   ]
  },
  {
   "cell_type": "code",
   "execution_count": 6,
   "metadata": {},
   "outputs": [],
   "source": [
    "import shap"
   ]
  },
  {
   "attachments": {},
   "cell_type": "markdown",
   "metadata": {},
   "source": [
    "# Preprocessing"
   ]
  },
  {
   "cell_type": "code",
   "execution_count": 7,
   "metadata": {},
   "outputs": [],
   "source": [
    "df = pd.read_csv(\"greenhouse.csv\")\n",
    "df.rename({\"country_or_area\": \"country\"}, axis=1, inplace=True)\n",
    "le = LabelEncoder()\n",
    "df[\"category_encoded\"] = le.fit_transform(df[\"category\"])\n",
    "df[\"country_encoded\"] = le.fit_transform(df[\"country\"])\n",
    "df.country_encoded= le.fit_transform(df.country)\n",
    "X = df.drop([\"category\", \"category_encoded\", \"country\"], axis=1) ## X contains values and year and category\n",
    "y = df[\"category_encoded\"].values.reshape(-1,1)\n",
    "\n",
    "X_train, X_test, Y_train, Y_test = train_test_split(X, y, test_size=0.2)\n"
   ]
  },
  {
   "cell_type": "code",
   "execution_count": 8,
   "metadata": {},
   "outputs": [
    {
     "data": {
      "text/html": [
       "<div>\n",
       "<style scoped>\n",
       "    .dataframe tbody tr th:only-of-type {\n",
       "        vertical-align: middle;\n",
       "    }\n",
       "\n",
       "    .dataframe tbody tr th {\n",
       "        vertical-align: top;\n",
       "    }\n",
       "\n",
       "    .dataframe thead th {\n",
       "        text-align: right;\n",
       "    }\n",
       "</style>\n",
       "<table border=\"1\" class=\"dataframe\">\n",
       "  <thead>\n",
       "    <tr style=\"text-align: right;\">\n",
       "      <th></th>\n",
       "      <th>country</th>\n",
       "      <th>year</th>\n",
       "      <th>value</th>\n",
       "      <th>category</th>\n",
       "      <th>category_encoded</th>\n",
       "      <th>country_encoded</th>\n",
       "    </tr>\n",
       "  </thead>\n",
       "  <tbody>\n",
       "    <tr>\n",
       "      <th>0</th>\n",
       "      <td>Australia</td>\n",
       "      <td>2014</td>\n",
       "      <td>393126.946994</td>\n",
       "      <td>carbon_dioxide_co2_emissions_without_land_use_...</td>\n",
       "      <td>0</td>\n",
       "      <td>0</td>\n",
       "    </tr>\n",
       "    <tr>\n",
       "      <th>1</th>\n",
       "      <td>Australia</td>\n",
       "      <td>2013</td>\n",
       "      <td>396913.936530</td>\n",
       "      <td>carbon_dioxide_co2_emissions_without_land_use_...</td>\n",
       "      <td>0</td>\n",
       "      <td>0</td>\n",
       "    </tr>\n",
       "    <tr>\n",
       "      <th>2</th>\n",
       "      <td>Australia</td>\n",
       "      <td>2012</td>\n",
       "      <td>406462.847704</td>\n",
       "      <td>carbon_dioxide_co2_emissions_without_land_use_...</td>\n",
       "      <td>0</td>\n",
       "      <td>0</td>\n",
       "    </tr>\n",
       "    <tr>\n",
       "      <th>3</th>\n",
       "      <td>Australia</td>\n",
       "      <td>2011</td>\n",
       "      <td>403705.528314</td>\n",
       "      <td>carbon_dioxide_co2_emissions_without_land_use_...</td>\n",
       "      <td>0</td>\n",
       "      <td>0</td>\n",
       "    </tr>\n",
       "    <tr>\n",
       "      <th>4</th>\n",
       "      <td>Australia</td>\n",
       "      <td>2010</td>\n",
       "      <td>406200.993184</td>\n",
       "      <td>carbon_dioxide_co2_emissions_without_land_use_...</td>\n",
       "      <td>0</td>\n",
       "      <td>0</td>\n",
       "    </tr>\n",
       "  </tbody>\n",
       "</table>\n",
       "</div>"
      ],
      "text/plain": [
       "     country  year          value  \\\n",
       "0  Australia  2014  393126.946994   \n",
       "1  Australia  2013  396913.936530   \n",
       "2  Australia  2012  406462.847704   \n",
       "3  Australia  2011  403705.528314   \n",
       "4  Australia  2010  406200.993184   \n",
       "\n",
       "                                            category  category_encoded  \\\n",
       "0  carbon_dioxide_co2_emissions_without_land_use_...                 0   \n",
       "1  carbon_dioxide_co2_emissions_without_land_use_...                 0   \n",
       "2  carbon_dioxide_co2_emissions_without_land_use_...                 0   \n",
       "3  carbon_dioxide_co2_emissions_without_land_use_...                 0   \n",
       "4  carbon_dioxide_co2_emissions_without_land_use_...                 0   \n",
       "\n",
       "   country_encoded  \n",
       "0                0  \n",
       "1                0  \n",
       "2                0  \n",
       "3                0  \n",
       "4                0  "
      ]
     },
     "execution_count": 8,
     "metadata": {},
     "output_type": "execute_result"
    }
   ],
   "source": [
    "df.head()"
   ]
  },
  {
   "cell_type": "code",
   "execution_count": 9,
   "metadata": {},
   "outputs": [
    {
     "data": {
      "text/html": [
       "<div>\n",
       "<style scoped>\n",
       "    .dataframe tbody tr th:only-of-type {\n",
       "        vertical-align: middle;\n",
       "    }\n",
       "\n",
       "    .dataframe tbody tr th {\n",
       "        vertical-align: top;\n",
       "    }\n",
       "\n",
       "    .dataframe thead th {\n",
       "        text-align: right;\n",
       "    }\n",
       "</style>\n",
       "<table border=\"1\" class=\"dataframe\">\n",
       "  <thead>\n",
       "    <tr style=\"text-align: right;\">\n",
       "      <th></th>\n",
       "      <th>country</th>\n",
       "      <th>year</th>\n",
       "      <th>value</th>\n",
       "      <th>category</th>\n",
       "      <th>category_encoded</th>\n",
       "      <th>country_encoded</th>\n",
       "    </tr>\n",
       "  </thead>\n",
       "  <tbody>\n",
       "    <tr>\n",
       "      <th>0</th>\n",
       "      <td>Australia</td>\n",
       "      <td>2014</td>\n",
       "      <td>393126.946994</td>\n",
       "      <td>carbon_dioxide_co2_emissions_without_land_use_...</td>\n",
       "      <td>0</td>\n",
       "      <td>0</td>\n",
       "    </tr>\n",
       "    <tr>\n",
       "      <th>1074</th>\n",
       "      <td>Australia</td>\n",
       "      <td>2014</td>\n",
       "      <td>522397.090711</td>\n",
       "      <td>greenhouse_gas_ghgs_emissions_including_indire...</td>\n",
       "      <td>1</td>\n",
       "      <td>0</td>\n",
       "    </tr>\n",
       "    <tr>\n",
       "      <th>2023</th>\n",
       "      <td>Australia</td>\n",
       "      <td>2014</td>\n",
       "      <td>522397.090711</td>\n",
       "      <td>greenhouse_gas_ghgs_emissions_without_land_use...</td>\n",
       "      <td>2</td>\n",
       "      <td>0</td>\n",
       "    </tr>\n",
       "    <tr>\n",
       "      <th>3097</th>\n",
       "      <td>Australia</td>\n",
       "      <td>2014</td>\n",
       "      <td>10787.350138</td>\n",
       "      <td>hydrofluorocarbons_hfcs_emissions_in_kilotonne...</td>\n",
       "      <td>3</td>\n",
       "      <td>0</td>\n",
       "    </tr>\n",
       "    <tr>\n",
       "      <th>4072</th>\n",
       "      <td>Australia</td>\n",
       "      <td>2014</td>\n",
       "      <td>98076.109401</td>\n",
       "      <td>methane_ch4_emissions_without_land_use_land_us...</td>\n",
       "      <td>4</td>\n",
       "      <td>0</td>\n",
       "    </tr>\n",
       "    <tr>\n",
       "      <th>5394</th>\n",
       "      <td>Australia</td>\n",
       "      <td>2014</td>\n",
       "      <td>20084.542834</td>\n",
       "      <td>nitrous_oxide_n2o_emissions_without_land_use_l...</td>\n",
       "      <td>6</td>\n",
       "      <td>0</td>\n",
       "    </tr>\n",
       "    <tr>\n",
       "      <th>6468</th>\n",
       "      <td>Australia</td>\n",
       "      <td>2014</td>\n",
       "      <td>192.535991</td>\n",
       "      <td>perfluorocarbons_pfcs_emissions_in_kilotonne_c...</td>\n",
       "      <td>7</td>\n",
       "      <td>0</td>\n",
       "    </tr>\n",
       "    <tr>\n",
       "      <th>7299</th>\n",
       "      <td>Australia</td>\n",
       "      <td>2014</td>\n",
       "      <td>129.605354</td>\n",
       "      <td>sulphur_hexafluoride_sf6_emissions_in_kilotonn...</td>\n",
       "      <td>8</td>\n",
       "      <td>0</td>\n",
       "    </tr>\n",
       "  </tbody>\n",
       "</table>\n",
       "</div>"
      ],
      "text/plain": [
       "        country  year          value  \\\n",
       "0     Australia  2014  393126.946994   \n",
       "1074  Australia  2014  522397.090711   \n",
       "2023  Australia  2014  522397.090711   \n",
       "3097  Australia  2014   10787.350138   \n",
       "4072  Australia  2014   98076.109401   \n",
       "5394  Australia  2014   20084.542834   \n",
       "6468  Australia  2014     192.535991   \n",
       "7299  Australia  2014     129.605354   \n",
       "\n",
       "                                               category  category_encoded  \\\n",
       "0     carbon_dioxide_co2_emissions_without_land_use_...                 0   \n",
       "1074  greenhouse_gas_ghgs_emissions_including_indire...                 1   \n",
       "2023  greenhouse_gas_ghgs_emissions_without_land_use...                 2   \n",
       "3097  hydrofluorocarbons_hfcs_emissions_in_kilotonne...                 3   \n",
       "4072  methane_ch4_emissions_without_land_use_land_us...                 4   \n",
       "5394  nitrous_oxide_n2o_emissions_without_land_use_l...                 6   \n",
       "6468  perfluorocarbons_pfcs_emissions_in_kilotonne_c...                 7   \n",
       "7299  sulphur_hexafluoride_sf6_emissions_in_kilotonn...                 8   \n",
       "\n",
       "      country_encoded  \n",
       "0                   0  \n",
       "1074                0  \n",
       "2023                0  \n",
       "3097                0  \n",
       "4072                0  \n",
       "5394                0  \n",
       "6468                0  \n",
       "7299                0  "
      ]
     },
     "execution_count": 9,
     "metadata": {},
     "output_type": "execute_result"
    }
   ],
   "source": [
    "df[(df.country == \"Australia\") & (df.year == 2014)]"
   ]
  },
  {
   "attachments": {},
   "cell_type": "markdown",
   "metadata": {},
   "source": [
    "# Decision tree model"
   ]
  },
  {
   "cell_type": "code",
   "execution_count": 10,
   "metadata": {},
   "outputs": [
    {
     "data": {
      "text/plain": [
       "10"
      ]
     },
     "execution_count": 10,
     "metadata": {},
     "output_type": "execute_result"
    }
   ],
   "source": [
    "len(df.category.unique())\n"
   ]
  },
  {
   "cell_type": "code",
   "execution_count": 11,
   "metadata": {},
   "outputs": [
    {
     "name": "stdout",
     "output_type": "stream",
     "text": [
      "accuracy: 67.53864447086801 %\n"
     ]
    }
   ],
   "source": [
    "from sklearn.tree import DecisionTreeClassifier\n",
    "from sklearn.metrics import accuracy_score\n",
    "\n",
    "## Tune the model\n",
    "clf = DecisionTreeClassifier(random_state=42)\n",
    "clf.fit(X_train, Y_train)\n",
    "\n",
    "y_pred = clf.predict(X_test)\n",
    "\n",
    "\n",
    "print (f\"accuracy: {accuracy_score(Y_test, y_pred) * 100} %\")"
   ]
  },
  {
   "cell_type": "code",
   "execution_count": 12,
   "metadata": {},
   "outputs": [
    {
     "data": {
      "text/plain": [
       "8406"
      ]
     },
     "execution_count": 12,
     "metadata": {},
     "output_type": "execute_result"
    }
   ],
   "source": [
    "len(df)"
   ]
  },
  {
   "cell_type": "code",
   "execution_count": 13,
   "metadata": {},
   "outputs": [],
   "source": [
    "#model.compile(loss=\"categorical_crossentropy\", optimizer=\"adam\", metrics=\"accuracy\")\n",
    "#model.fit(X_train, y_train_encoded, epochs=1000, batch_size=64)"
   ]
  },
  {
   "cell_type": "code",
   "execution_count": 14,
   "metadata": {},
   "outputs": [
    {
     "data": {
      "text/html": [
       "<div>\n",
       "<style scoped>\n",
       "    .dataframe tbody tr th:only-of-type {\n",
       "        vertical-align: middle;\n",
       "    }\n",
       "\n",
       "    .dataframe tbody tr th {\n",
       "        vertical-align: top;\n",
       "    }\n",
       "\n",
       "    .dataframe thead th {\n",
       "        text-align: right;\n",
       "    }\n",
       "</style>\n",
       "<table border=\"1\" class=\"dataframe\">\n",
       "  <thead>\n",
       "    <tr style=\"text-align: right;\">\n",
       "      <th></th>\n",
       "      <th>country</th>\n",
       "      <th>year</th>\n",
       "      <th>value</th>\n",
       "      <th>category</th>\n",
       "      <th>category_encoded</th>\n",
       "      <th>country_encoded</th>\n",
       "    </tr>\n",
       "  </thead>\n",
       "  <tbody>\n",
       "    <tr>\n",
       "      <th>0</th>\n",
       "      <td>Australia</td>\n",
       "      <td>2014</td>\n",
       "      <td>393126.946994</td>\n",
       "      <td>carbon_dioxide_co2_emissions_without_land_use_...</td>\n",
       "      <td>0</td>\n",
       "      <td>0</td>\n",
       "    </tr>\n",
       "    <tr>\n",
       "      <th>1</th>\n",
       "      <td>Australia</td>\n",
       "      <td>2013</td>\n",
       "      <td>396913.936530</td>\n",
       "      <td>carbon_dioxide_co2_emissions_without_land_use_...</td>\n",
       "      <td>0</td>\n",
       "      <td>0</td>\n",
       "    </tr>\n",
       "    <tr>\n",
       "      <th>2</th>\n",
       "      <td>Australia</td>\n",
       "      <td>2012</td>\n",
       "      <td>406462.847704</td>\n",
       "      <td>carbon_dioxide_co2_emissions_without_land_use_...</td>\n",
       "      <td>0</td>\n",
       "      <td>0</td>\n",
       "    </tr>\n",
       "    <tr>\n",
       "      <th>3</th>\n",
       "      <td>Australia</td>\n",
       "      <td>2011</td>\n",
       "      <td>403705.528314</td>\n",
       "      <td>carbon_dioxide_co2_emissions_without_land_use_...</td>\n",
       "      <td>0</td>\n",
       "      <td>0</td>\n",
       "    </tr>\n",
       "    <tr>\n",
       "      <th>4</th>\n",
       "      <td>Australia</td>\n",
       "      <td>2010</td>\n",
       "      <td>406200.993184</td>\n",
       "      <td>carbon_dioxide_co2_emissions_without_land_use_...</td>\n",
       "      <td>0</td>\n",
       "      <td>0</td>\n",
       "    </tr>\n",
       "  </tbody>\n",
       "</table>\n",
       "</div>"
      ],
      "text/plain": [
       "     country  year          value  \\\n",
       "0  Australia  2014  393126.946994   \n",
       "1  Australia  2013  396913.936530   \n",
       "2  Australia  2012  406462.847704   \n",
       "3  Australia  2011  403705.528314   \n",
       "4  Australia  2010  406200.993184   \n",
       "\n",
       "                                            category  category_encoded  \\\n",
       "0  carbon_dioxide_co2_emissions_without_land_use_...                 0   \n",
       "1  carbon_dioxide_co2_emissions_without_land_use_...                 0   \n",
       "2  carbon_dioxide_co2_emissions_without_land_use_...                 0   \n",
       "3  carbon_dioxide_co2_emissions_without_land_use_...                 0   \n",
       "4  carbon_dioxide_co2_emissions_without_land_use_...                 0   \n",
       "\n",
       "   country_encoded  \n",
       "0                0  \n",
       "1                0  \n",
       "2                0  \n",
       "3                0  \n",
       "4                0  "
      ]
     },
     "execution_count": 14,
     "metadata": {},
     "output_type": "execute_result"
    }
   ],
   "source": [
    "## Categorising the types of emission\n",
    "\n",
    "df.head()"
   ]
  },
  {
   "cell_type": "code",
   "execution_count": 15,
   "metadata": {},
   "outputs": [
    {
     "data": {
      "text/plain": [
       "array(['carbon_dioxide_co2_emissions_without_land_use_land_use_change_and_forestry_lulucf_in_kilotonne_co2_equivalent',\n",
       "       'greenhouse_gas_ghgs_emissions_including_indirect_co2_without_lulucf_in_kilotonne_co2_equivalent',\n",
       "       'greenhouse_gas_ghgs_emissions_without_land_use_land_use_change_and_forestry_lulucf_in_kilotonne_co2_equivalent',\n",
       "       'hydrofluorocarbons_hfcs_emissions_in_kilotonne_co2_equivalent',\n",
       "       'methane_ch4_emissions_without_land_use_land_use_change_and_forestry_lulucf_in_kilotonne_co2_equivalent',\n",
       "       'nitrogen_trifluoride_nf3_emissions_in_kilotonne_co2_equivalent',\n",
       "       'nitrous_oxide_n2o_emissions_without_land_use_land_use_change_and_forestry_lulucf_in_kilotonne_co2_equivalent',\n",
       "       'perfluorocarbons_pfcs_emissions_in_kilotonne_co2_equivalent',\n",
       "       'sulphur_hexafluoride_sf6_emissions_in_kilotonne_co2_equivalent',\n",
       "       'unspecified_mix_of_hydrofluorocarbons_hfcs_and_perfluorocarbons_pfcs_emissions_in_kilotonne_co2_equivalent'],\n",
       "      dtype=object)"
      ]
     },
     "execution_count": 15,
     "metadata": {},
     "output_type": "execute_result"
    }
   ],
   "source": [
    "df.category.unique()"
   ]
  },
  {
   "cell_type": "code",
   "execution_count": 16,
   "metadata": {},
   "outputs": [],
   "source": [
    "## How can I divide these categories?\n",
    "\n",
    "# Maybe I can sort countries into regions, such as \"Europe\", \"baltics\", \"North america\", \"middle east\", \"Asia\"\n",
    "\n",
    "\n",
    "europe = [\"\"]"
   ]
  },
  {
   "cell_type": "code",
   "execution_count": 17,
   "metadata": {},
   "outputs": [
    {
     "data": {
      "text/plain": [
       "array(['Australia', 'Austria', 'Belarus', 'Belgium', 'Bulgaria', 'Canada',\n",
       "       'Croatia', 'Cyprus', 'Czech Republic', 'Denmark', 'Estonia',\n",
       "       'European Union', 'Finland', 'France', 'Germany', 'Greece',\n",
       "       'Hungary', 'Iceland', 'Ireland', 'Italy', 'Japan', 'Latvia',\n",
       "       'Liechtenstein', 'Lithuania', 'Luxembourg', 'Malta', 'Monaco',\n",
       "       'Netherlands', 'New Zealand', 'Norway', 'Poland', 'Portugal',\n",
       "       'Romania', 'Russian Federation', 'Slovakia', 'Slovenia', 'Spain',\n",
       "       'Sweden', 'Switzerland', 'Turkey', 'Ukraine', 'United Kingdom',\n",
       "       'United States of America'], dtype=object)"
      ]
     },
     "execution_count": 17,
     "metadata": {},
     "output_type": "execute_result"
    }
   ],
   "source": [
    "df.country.unique()"
   ]
  },
  {
   "cell_type": "code",
   "execution_count": 18,
   "metadata": {},
   "outputs": [],
   "source": [
    "countries = {\n",
    "    'Australia': 'Australia',\n",
    "    'Austria': 'Europe',\n",
    "    'Belarus': 'Europe',\n",
    "    'Belgium': 'Europe',\n",
    "    'Bulgaria': 'Europe',\n",
    "    'Canada': 'North America',\n",
    "    'Croatia': 'Europe',\n",
    "    'Cyprus': 'Europe',\n",
    "    'Czech Republic': 'Europe',\n",
    "    'Denmark': 'Europe',\n",
    "    'Estonia': 'Europe',\n",
    "    'European Union': 'Europe',\n",
    "    'Finland': 'Europe',\n",
    "    'France': 'Europe',\n",
    "    'Germany': 'Europe',\n",
    "    'Greece': 'Europe',\n",
    "    'Hungary': 'Europe',\n",
    "    'Iceland': 'Europe',\n",
    "    'Ireland': 'Europe',\n",
    "    'Italy': 'Europe',\n",
    "    'Japan': 'Asia',\n",
    "    'Latvia': 'Europe',\n",
    "    'Liechtenstein': 'Europe',\n",
    "    'Lithuania': 'Europe',\n",
    "    'Luxembourg': 'Europe',\n",
    "    'Malta': 'Europe',\n",
    "    'Monaco': 'Europe',\n",
    "    'Netherlands': 'Europe',\n",
    "    'New Zealand': 'Oceania',\n",
    "    'Norway': 'Europe',\n",
    "    'Poland': 'Europe',\n",
    "    'Portugal': 'Europe',\n",
    "    'Romania': 'Europe',\n",
    "    'Russian Federation': 'Europe',\n",
    "    'Slovakia': 'Europe',\n",
    "    'Slovenia': 'Europe',\n",
    "    'Spain': 'Europe',\n",
    "    'Sweden': 'Europe',\n",
    "    'Switzerland': 'Europe',\n",
    "    'Turkey': 'Asia',\n",
    "    'Ukraine': 'Europe',\n",
    "    'United Kingdom': 'Europe',\n",
    "    'United States of America': 'North America'\n",
    "}\n",
    "\n",
    "directions = {\n",
    "    'Australia': 'South',\n",
    "    'Austria': 'West',\n",
    "    'Belarus': 'North East',\n",
    "    'Belgium': 'North West',\n",
    "    'Bulgaria': 'North',\n",
    "    'Canada': 'North West',\n",
    "    'Croatia': 'North',\n",
    "    'Cyprus': 'South East',\n",
    "    'Czech Republic': 'North',\n",
    "    'Denmark': 'North',\n",
    "    'Estonia': 'North East',\n",
    "    'European Union': 'North West',\n",
    "    'Finland': 'North East',\n",
    "    'France': 'North West',\n",
    "    'Germany': 'North West',\n",
    "    'Greece': 'South East',\n",
    "    'Hungary': 'North',\n",
    "    'Iceland': 'North',\n",
    "    'Ireland': 'North West',\n",
    "    'Italy': 'South',\n",
    "    'Japan': 'East',\n",
    "    'Latvia': 'North East',\n",
    "    'Liechtenstein': 'West',\n",
    "    'Lithuania': 'North East',\n",
    "    'Luxembourg': 'North West',\n",
    "    'Malta': 'South',\n",
    "    'Monaco': 'South West',\n",
    "    'Netherlands': 'North West',\n",
    "    'New Zealand': 'South East',\n",
    "    'Norway': 'North',\n",
    "    'Poland': 'North',\n",
    "    'Portugal': 'South West',\n",
    "    'Romania': 'North',\n",
    "    'Russian Federation': 'North East',\n",
    "    'Slovakia': 'North',\n",
    "    'Slovenia': 'North',\n",
    "    'Spain': 'South',\n",
    "    'Sweden': 'North',\n",
    "    'Switzerland': 'West',\n",
    "    'Turkey': 'South',\n",
    "    'Ukraine': 'North East',\n",
    "    'United Kingdom': 'North West',\n",
    "    'United States of America': 'West'\n",
    "}\n",
    "\n",
    "\n",
    "capitals = {\n",
    "    'Australia': 'Canberra',\n",
    "    'Austria': 'Vienna',\n",
    "    'Belarus': 'Minsk',\n",
    "    'Belgium': 'Brussels',\n",
    "    'Bulgaria': 'Sofia',\n",
    "    'Canada': 'Ottawa',\n",
    "    'Croatia': 'Zagreb',\n",
    "    'Cyprus': 'Nicosia',\n",
    "    'Czech Republic': 'Prague',\n",
    "    'Denmark': 'Copenhagen',\n",
    "    'Estonia': 'Tallinn',\n",
    "    'European Union': '',  # No specific capital as it is an organization\n",
    "    'Finland': 'Helsinki',\n",
    "    'France': 'Paris',\n",
    "    'Germany': 'Berlin',\n",
    "    'Greece': 'Athens',\n",
    "    'Hungary': 'Budapest',\n",
    "    'Iceland': 'Reykjavik',\n",
    "    'Ireland': 'Dublin',\n",
    "    'Italy': 'Rome',\n",
    "    'Japan': 'Tokyo',\n",
    "    'Latvia': 'Riga',\n",
    "    'Liechtenstein': 'Vaduz',\n",
    "    'Lithuania': 'Vilnius',\n",
    "    'Luxembourg': 'Luxembourg City',\n",
    "    'Malta': 'Valletta',\n",
    "    'Monaco': 'Monaco',\n",
    "    'Netherlands': 'Amsterdam',\n",
    "    'New Zealand': 'Wellington',\n",
    "    'Norway': 'Oslo',\n",
    "    'Poland': 'Warsaw',\n",
    "    'Portugal': 'Lisbon',\n",
    "    'Romania': 'Bucharest',\n",
    "    'Russian Federation': 'Moscow',\n",
    "    'Slovakia': 'Bratislava',\n",
    "    'Slovenia': 'Ljubljana',\n",
    "    'Spain': 'Madrid',\n",
    "    'Sweden': 'Stockholm',\n",
    "    'Switzerland': 'Bern',\n",
    "    'Turkey': 'Ankara',\n",
    "    'Ukraine': 'Kyiv',\n",
    "    'United Kingdom': 'London',\n",
    "    'United States of America': 'Washington, D.C.'\n",
    "}\n",
    "\n",
    "languages = {\n",
    "    'Australia': 'English',\n",
    "    'Austria': 'German',\n",
    "    'Belarus': 'Belarusian and Russian',\n",
    "    'Belgium': 'Dutch, French, and German',\n",
    "    'Bulgaria': 'Bulgarian',\n",
    "    'Canada': 'English and French',\n",
    "    'Croatia': 'Croatian',\n",
    "    'Cyprus': 'Greek and Turkish',\n",
    "    'Czech Republic': 'Czech',\n",
    "    'Denmark': 'Danish',\n",
    "    'Estonia': 'Estonian',\n",
    "    'European Union': '',  # No specific national language as it is an organization\n",
    "    'Finland': 'Finnish and Swedish',\n",
    "    'France': 'French',\n",
    "    'Germany': 'German',\n",
    "    'Greece': 'Greek',\n",
    "    'Hungary': 'Hungarian',\n",
    "    'Iceland': 'Icelandic',\n",
    "    'Ireland': 'Irish and English',\n",
    "    'Italy': 'Italian',\n",
    "    'Japan': 'Japanese',\n",
    "    'Latvia': 'Latvian',\n",
    "    'Liechtenstein': 'German',\n",
    "    'Lithuania': 'Lithuanian',\n",
    "    'Luxembourg': 'Luxembourgish, French, and German',\n",
    "    'Malta': 'Maltese and English',\n",
    "    'Monaco': 'French',\n",
    "    'Netherlands': 'Dutch',\n",
    "    'New Zealand': 'English, Māori, and New Zealand Sign Language',\n",
    "    'Norway': 'Norwegian',\n",
    "    'Poland': 'Polish',\n",
    "    'Portugal': 'Portuguese',\n",
    "    'Romania': 'Romanian',\n",
    "    'Russian Federation': 'Russian',\n",
    "    'Slovakia': 'Slovak',\n",
    "    'Slovenia': 'Slovene',\n",
    "    'Spain': 'Spanish',\n",
    "    'Sweden': 'Swedish',\n",
    "    'Switzerland': 'German, French, Italian, and Romansh',\n",
    "    'Turkey': 'Turkish',\n",
    "    'Ukraine': 'Ukrainian',\n",
    "    'United Kingdom': 'English',\n",
    "    'United States of America': 'English'\n",
    "}\n",
    "\n",
    "df[\"region\"] = [countries[i] for i in df.country]\n",
    "df[\"directions\"] = [directions[i] for i in df.country]\n",
    "df[\"capitals\"] = [capitals[i] for i in df.country]\n",
    "df[\"official_language\"] = [languages[i] for i in df.country]\n"
   ]
  },
  {
   "cell_type": "code",
   "execution_count": 19,
   "metadata": {},
   "outputs": [
    {
     "data": {
      "text/html": [
       "<div>\n",
       "<style scoped>\n",
       "    .dataframe tbody tr th:only-of-type {\n",
       "        vertical-align: middle;\n",
       "    }\n",
       "\n",
       "    .dataframe tbody tr th {\n",
       "        vertical-align: top;\n",
       "    }\n",
       "\n",
       "    .dataframe thead th {\n",
       "        text-align: right;\n",
       "    }\n",
       "</style>\n",
       "<table border=\"1\" class=\"dataframe\">\n",
       "  <thead>\n",
       "    <tr style=\"text-align: right;\">\n",
       "      <th></th>\n",
       "      <th>country</th>\n",
       "      <th>year</th>\n",
       "      <th>value</th>\n",
       "      <th>category</th>\n",
       "      <th>category_encoded</th>\n",
       "      <th>country_encoded</th>\n",
       "      <th>region</th>\n",
       "      <th>directions</th>\n",
       "      <th>capitals</th>\n",
       "      <th>official_language</th>\n",
       "    </tr>\n",
       "  </thead>\n",
       "  <tbody>\n",
       "    <tr>\n",
       "      <th>0</th>\n",
       "      <td>Australia</td>\n",
       "      <td>2014</td>\n",
       "      <td>393126.946994</td>\n",
       "      <td>carbon_dioxide_co2_emissions_without_land_use_...</td>\n",
       "      <td>0</td>\n",
       "      <td>0</td>\n",
       "      <td>Australia</td>\n",
       "      <td>South</td>\n",
       "      <td>Canberra</td>\n",
       "      <td>English</td>\n",
       "    </tr>\n",
       "    <tr>\n",
       "      <th>1</th>\n",
       "      <td>Australia</td>\n",
       "      <td>2013</td>\n",
       "      <td>396913.936530</td>\n",
       "      <td>carbon_dioxide_co2_emissions_without_land_use_...</td>\n",
       "      <td>0</td>\n",
       "      <td>0</td>\n",
       "      <td>Australia</td>\n",
       "      <td>South</td>\n",
       "      <td>Canberra</td>\n",
       "      <td>English</td>\n",
       "    </tr>\n",
       "    <tr>\n",
       "      <th>2</th>\n",
       "      <td>Australia</td>\n",
       "      <td>2012</td>\n",
       "      <td>406462.847704</td>\n",
       "      <td>carbon_dioxide_co2_emissions_without_land_use_...</td>\n",
       "      <td>0</td>\n",
       "      <td>0</td>\n",
       "      <td>Australia</td>\n",
       "      <td>South</td>\n",
       "      <td>Canberra</td>\n",
       "      <td>English</td>\n",
       "    </tr>\n",
       "    <tr>\n",
       "      <th>3</th>\n",
       "      <td>Australia</td>\n",
       "      <td>2011</td>\n",
       "      <td>403705.528314</td>\n",
       "      <td>carbon_dioxide_co2_emissions_without_land_use_...</td>\n",
       "      <td>0</td>\n",
       "      <td>0</td>\n",
       "      <td>Australia</td>\n",
       "      <td>South</td>\n",
       "      <td>Canberra</td>\n",
       "      <td>English</td>\n",
       "    </tr>\n",
       "    <tr>\n",
       "      <th>4</th>\n",
       "      <td>Australia</td>\n",
       "      <td>2010</td>\n",
       "      <td>406200.993184</td>\n",
       "      <td>carbon_dioxide_co2_emissions_without_land_use_...</td>\n",
       "      <td>0</td>\n",
       "      <td>0</td>\n",
       "      <td>Australia</td>\n",
       "      <td>South</td>\n",
       "      <td>Canberra</td>\n",
       "      <td>English</td>\n",
       "    </tr>\n",
       "  </tbody>\n",
       "</table>\n",
       "</div>"
      ],
      "text/plain": [
       "     country  year          value  \\\n",
       "0  Australia  2014  393126.946994   \n",
       "1  Australia  2013  396913.936530   \n",
       "2  Australia  2012  406462.847704   \n",
       "3  Australia  2011  403705.528314   \n",
       "4  Australia  2010  406200.993184   \n",
       "\n",
       "                                            category  category_encoded  \\\n",
       "0  carbon_dioxide_co2_emissions_without_land_use_...                 0   \n",
       "1  carbon_dioxide_co2_emissions_without_land_use_...                 0   \n",
       "2  carbon_dioxide_co2_emissions_without_land_use_...                 0   \n",
       "3  carbon_dioxide_co2_emissions_without_land_use_...                 0   \n",
       "4  carbon_dioxide_co2_emissions_without_land_use_...                 0   \n",
       "\n",
       "   country_encoded     region directions  capitals official_language  \n",
       "0                0  Australia      South  Canberra           English  \n",
       "1                0  Australia      South  Canberra           English  \n",
       "2                0  Australia      South  Canberra           English  \n",
       "3                0  Australia      South  Canberra           English  \n",
       "4                0  Australia      South  Canberra           English  "
      ]
     },
     "execution_count": 19,
     "metadata": {},
     "output_type": "execute_result"
    }
   ],
   "source": [
    "df.head()"
   ]
  },
  {
   "cell_type": "code",
   "execution_count": 20,
   "metadata": {},
   "outputs": [],
   "source": [
    "df[\"region_encoded\"] = le.fit_transform(df[\"region\"])\n",
    "df['directions_encoded'] = le.fit_transform(df[\"directions\"])\n",
    "df[\"capitals_encoded\"] = le.fit_transform(df[\"capitals\"])\n",
    "df[\"official_language_encoded\"] = le.fit_transform(df[\"official_language\"])"
   ]
  },
  {
   "cell_type": "code",
   "execution_count": 21,
   "metadata": {},
   "outputs": [
    {
     "data": {
      "text/plain": [
       "<Axes: xlabel='year', ylabel='value'>"
      ]
     },
     "execution_count": 21,
     "metadata": {},
     "output_type": "execute_result"
    },
    {
     "data": {
      "image/png": "[encoded data removed]",
      "text/plain": [
       "<Figure size 640x480 with 1 Axes>"
      ]
     },
     "metadata": {},
     "output_type": "display_data"
    }
   ],
   "source": [
    "sns.scatterplot(x=\"year\", y=\"value\", hue=\"region\", data=df)"
   ]
  },
  {
   "cell_type": "code",
   "execution_count": 22,
   "metadata": {},
   "outputs": [
    {
     "data": {
      "text/plain": [
       "array(['Australia', 'Austria', 'Belarus', 'Belgium', 'Bulgaria', 'Canada',\n",
       "       'Croatia', 'Cyprus', 'Czech Republic', 'Denmark', 'Estonia',\n",
       "       'European Union', 'Finland', 'France', 'Germany', 'Greece',\n",
       "       'Hungary', 'Iceland', 'Ireland', 'Italy', 'Japan', 'Latvia',\n",
       "       'Liechtenstein', 'Lithuania', 'Luxembourg', 'Malta', 'Monaco',\n",
       "       'Netherlands', 'New Zealand', 'Norway', 'Poland', 'Portugal',\n",
       "       'Romania', 'Russian Federation', 'Slovakia', 'Slovenia', 'Spain',\n",
       "       'Sweden', 'Switzerland', 'Turkey', 'Ukraine', 'United Kingdom',\n",
       "       'United States of America'], dtype=object)"
      ]
     },
     "execution_count": 22,
     "metadata": {},
     "output_type": "execute_result"
    }
   ],
   "source": [
    "df.country.unique()"
   ]
  },
  {
   "cell_type": "code",
   "execution_count": 23,
   "metadata": {},
   "outputs": [
    {
     "data": {
      "text/html": [
       "<div>\n",
       "<style scoped>\n",
       "    .dataframe tbody tr th:only-of-type {\n",
       "        vertical-align: middle;\n",
       "    }\n",
       "\n",
       "    .dataframe tbody tr th {\n",
       "        vertical-align: top;\n",
       "    }\n",
       "\n",
       "    .dataframe thead th {\n",
       "        text-align: right;\n",
       "    }\n",
       "</style>\n",
       "<table border=\"1\" class=\"dataframe\">\n",
       "  <thead>\n",
       "    <tr style=\"text-align: right;\">\n",
       "      <th></th>\n",
       "      <th>country</th>\n",
       "      <th>year</th>\n",
       "      <th>value</th>\n",
       "      <th>category</th>\n",
       "      <th>category_encoded</th>\n",
       "      <th>country_encoded</th>\n",
       "      <th>region</th>\n",
       "      <th>directions</th>\n",
       "      <th>capitals</th>\n",
       "      <th>official_language</th>\n",
       "      <th>region_encoded</th>\n",
       "      <th>directions_encoded</th>\n",
       "      <th>capitals_encoded</th>\n",
       "      <th>official_language_encoded</th>\n",
       "    </tr>\n",
       "  </thead>\n",
       "  <tbody>\n",
       "    <tr>\n",
       "      <th>0</th>\n",
       "      <td>Australia</td>\n",
       "      <td>2014</td>\n",
       "      <td>393126.946994</td>\n",
       "      <td>carbon_dioxide_co2_emissions_without_land_use_...</td>\n",
       "      <td>0</td>\n",
       "      <td>0</td>\n",
       "      <td>Australia</td>\n",
       "      <td>South</td>\n",
       "      <td>Canberra</td>\n",
       "      <td>English</td>\n",
       "      <td>1</td>\n",
       "      <td>4</td>\n",
       "      <td>10</td>\n",
       "      <td>8</td>\n",
       "    </tr>\n",
       "    <tr>\n",
       "      <th>1</th>\n",
       "      <td>Australia</td>\n",
       "      <td>2013</td>\n",
       "      <td>396913.936530</td>\n",
       "      <td>carbon_dioxide_co2_emissions_without_land_use_...</td>\n",
       "      <td>0</td>\n",
       "      <td>0</td>\n",
       "      <td>Australia</td>\n",
       "      <td>South</td>\n",
       "      <td>Canberra</td>\n",
       "      <td>English</td>\n",
       "      <td>1</td>\n",
       "      <td>4</td>\n",
       "      <td>10</td>\n",
       "      <td>8</td>\n",
       "    </tr>\n",
       "    <tr>\n",
       "      <th>2</th>\n",
       "      <td>Australia</td>\n",
       "      <td>2012</td>\n",
       "      <td>406462.847704</td>\n",
       "      <td>carbon_dioxide_co2_emissions_without_land_use_...</td>\n",
       "      <td>0</td>\n",
       "      <td>0</td>\n",
       "      <td>Australia</td>\n",
       "      <td>South</td>\n",
       "      <td>Canberra</td>\n",
       "      <td>English</td>\n",
       "      <td>1</td>\n",
       "      <td>4</td>\n",
       "      <td>10</td>\n",
       "      <td>8</td>\n",
       "    </tr>\n",
       "    <tr>\n",
       "      <th>3</th>\n",
       "      <td>Australia</td>\n",
       "      <td>2011</td>\n",
       "      <td>403705.528314</td>\n",
       "      <td>carbon_dioxide_co2_emissions_without_land_use_...</td>\n",
       "      <td>0</td>\n",
       "      <td>0</td>\n",
       "      <td>Australia</td>\n",
       "      <td>South</td>\n",
       "      <td>Canberra</td>\n",
       "      <td>English</td>\n",
       "      <td>1</td>\n",
       "      <td>4</td>\n",
       "      <td>10</td>\n",
       "      <td>8</td>\n",
       "    </tr>\n",
       "    <tr>\n",
       "      <th>4</th>\n",
       "      <td>Australia</td>\n",
       "      <td>2010</td>\n",
       "      <td>406200.993184</td>\n",
       "      <td>carbon_dioxide_co2_emissions_without_land_use_...</td>\n",
       "      <td>0</td>\n",
       "      <td>0</td>\n",
       "      <td>Australia</td>\n",
       "      <td>South</td>\n",
       "      <td>Canberra</td>\n",
       "      <td>English</td>\n",
       "      <td>1</td>\n",
       "      <td>4</td>\n",
       "      <td>10</td>\n",
       "      <td>8</td>\n",
       "    </tr>\n",
       "  </tbody>\n",
       "</table>\n",
       "</div>"
      ],
      "text/plain": [
       "     country  year          value  \\\n",
       "0  Australia  2014  393126.946994   \n",
       "1  Australia  2013  396913.936530   \n",
       "2  Australia  2012  406462.847704   \n",
       "3  Australia  2011  403705.528314   \n",
       "4  Australia  2010  406200.993184   \n",
       "\n",
       "                                            category  category_encoded  \\\n",
       "0  carbon_dioxide_co2_emissions_without_land_use_...                 0   \n",
       "1  carbon_dioxide_co2_emissions_without_land_use_...                 0   \n",
       "2  carbon_dioxide_co2_emissions_without_land_use_...                 0   \n",
       "3  carbon_dioxide_co2_emissions_without_land_use_...                 0   \n",
       "4  carbon_dioxide_co2_emissions_without_land_use_...                 0   \n",
       "\n",
       "   country_encoded     region directions  capitals official_language  \\\n",
       "0                0  Australia      South  Canberra           English   \n",
       "1                0  Australia      South  Canberra           English   \n",
       "2                0  Australia      South  Canberra           English   \n",
       "3                0  Australia      South  Canberra           English   \n",
       "4                0  Australia      South  Canberra           English   \n",
       "\n",
       "   region_encoded  directions_encoded  capitals_encoded  \\\n",
       "0               1                   4                10   \n",
       "1               1                   4                10   \n",
       "2               1                   4                10   \n",
       "3               1                   4                10   \n",
       "4               1                   4                10   \n",
       "\n",
       "   official_language_encoded  \n",
       "0                          8  \n",
       "1                          8  \n",
       "2                          8  \n",
       "3                          8  \n",
       "4                          8  "
      ]
     },
     "execution_count": 23,
     "metadata": {},
     "output_type": "execute_result"
    }
   ],
   "source": [
    "df.head()"
   ]
  },
  {
   "attachments": {},
   "cell_type": "markdown",
   "metadata": {},
   "source": [
    "# New ModeL"
   ]
  },
  {
   "cell_type": "code",
   "execution_count": 24,
   "metadata": {},
   "outputs": [
    {
     "name": "stdout",
     "output_type": "stream",
     "text": [
      "accuracy: 99.0487514863258 %\n"
     ]
    }
   ],
   "source": [
    "X = df.drop([\"country\", \"country_encoded\", \"category\", \"region\", \"directions\", \"capitals\", \"capitals_encoded\", \"official_language\", \"region_encoded\", \"directions_encoded\"], axis=1)\n",
    "y = df.country_encoded.values.reshape(-1,1)\n",
    "X_train, X_test, Y_train, Y_test = train_test_split(X, y, test_size=0.2)\n",
    "\n",
    "clf = DecisionTreeClassifier(random_state=42)\n",
    "clf.fit(X_train, Y_train)\n",
    "pred = clf.predict(X_test)\n",
    "print (f\"accuracy: {accuracy_score(Y_test, pred) * 100} %\")\n",
    "\n",
    "## Improved accuracy\n",
    "\n",
    "\n",
    "\n"
   ]
  },
  {
   "cell_type": "code",
   "execution_count": 35,
   "metadata": {},
   "outputs": [
    {
     "name": "stdout",
     "output_type": "stream",
     "text": [
      "accuracy: 100.0 %\n"
     ]
    }
   ],
   "source": [
    "## Training accuracy\n",
    "\n",
    "train_pred = clf.predict(X_train)\n",
    "\n",
    "print (f\"accuracy: {accuracy_score(Y_train, train_pred) * 100} %\")"
   ]
  },
  {
   "cell_type": "code",
   "execution_count": 25,
   "metadata": {},
   "outputs": [],
   "source": [
    "import shap\n",
    "\n",
    "explainer = shap.Explainer(clf)\n",
    "shap_values = explainer(X)"
   ]
  },
  {
   "cell_type": "code",
   "execution_count": 36,
   "metadata": {},
   "outputs": [
    {
     "data": {
      "image/png": "[encoded data removed]",
      "text/plain": [
       "<Figure size 800x350 with 1 Axes>"
      ]
     },
     "metadata": {},
     "output_type": "display_data"
    }
   ],
   "source": [
    "shap.plots.bar(shap_values[:, :, 0])"
   ]
  },
  {
   "cell_type": "code",
   "execution_count": 44,
   "metadata": {},
   "outputs": [
    {
     "name": "stderr",
     "output_type": "stream",
     "text": [
      "No data for colormapping provided via 'c'. Parameters 'vmin', 'vmax' will be ignored\n"
     ]
    },
    {
     "data": {
      "image/png": "[encoded data removed]",
      "text/plain": [
       "<Figure size 800x310 with 2 Axes>"
      ]
     },
     "metadata": {},
     "output_type": "display_data"
    }
   ],
   "source": [
    "shap.summary_plot(shap_values[:, :, 0], X)"
   ]
  },
  {
   "cell_type": "code",
   "execution_count": 47,
   "metadata": {},
   "outputs": [
    {
     "ename": "ValueError",
     "evalue": "'color' kwarg must be a color or sequence of color specs.  For a sequence of values to be color-mapped, use the 'c' argument instead.",
     "output_type": "error",
     "traceback": [
      "\u001b[0;31m---------------------------------------------------------------------------\u001b[0m",
      "\u001b[0;31mValueError\u001b[0m                                Traceback (most recent call last)",
      "File \u001b[0;32m~/miniconda3/envs/mlp/lib/python3.11/site-packages/matplotlib/axes/_axes.py:4378\u001b[0m, in \u001b[0;36mAxes._parse_scatter_color_args\u001b[0;34m(c, edgecolors, kwargs, xsize, get_next_color_func)\u001b[0m\n\u001b[1;32m   4377\u001b[0m \u001b[39mtry\u001b[39;00m:\n\u001b[0;32m-> 4378\u001b[0m     mcolors\u001b[39m.\u001b[39mto_rgba_array(kwcolor)\n\u001b[1;32m   4379\u001b[0m \u001b[39mexcept\u001b[39;00m \u001b[39mValueError\u001b[39;00m \u001b[39mas\u001b[39;00m err:\n",
      "File \u001b[0;32m~/miniconda3/envs/mlp/lib/python3.11/site-packages/matplotlib/colors.py:487\u001b[0m, in \u001b[0;36mto_rgba_array\u001b[0;34m(c, alpha)\u001b[0m\n\u001b[1;32m    486\u001b[0m \u001b[39melse\u001b[39;00m:\n\u001b[0;32m--> 487\u001b[0m     rgba \u001b[39m=\u001b[39m np\u001b[39m.\u001b[39marray([to_rgba(cc) \u001b[39mfor\u001b[39;00m cc \u001b[39min\u001b[39;00m c])\n\u001b[1;32m    489\u001b[0m \u001b[39mif\u001b[39;00m alpha \u001b[39mis\u001b[39;00m \u001b[39mnot\u001b[39;00m \u001b[39mNone\u001b[39;00m:\n",
      "File \u001b[0;32m~/miniconda3/envs/mlp/lib/python3.11/site-packages/matplotlib/colors.py:487\u001b[0m, in \u001b[0;36m<listcomp>\u001b[0;34m(.0)\u001b[0m\n\u001b[1;32m    486\u001b[0m \u001b[39melse\u001b[39;00m:\n\u001b[0;32m--> 487\u001b[0m     rgba \u001b[39m=\u001b[39m np\u001b[39m.\u001b[39marray([to_rgba(cc) \u001b[39mfor\u001b[39;00m cc \u001b[39min\u001b[39;00m c])\n\u001b[1;32m    489\u001b[0m \u001b[39mif\u001b[39;00m alpha \u001b[39mis\u001b[39;00m \u001b[39mnot\u001b[39;00m \u001b[39mNone\u001b[39;00m:\n",
      "File \u001b[0;32m~/miniconda3/envs/mlp/lib/python3.11/site-packages/matplotlib/colors.py:299\u001b[0m, in \u001b[0;36mto_rgba\u001b[0;34m(c, alpha)\u001b[0m\n\u001b[1;32m    298\u001b[0m \u001b[39mif\u001b[39;00m rgba \u001b[39mis\u001b[39;00m \u001b[39mNone\u001b[39;00m:  \u001b[39m# Suppress exception chaining of cache lookup failure.\u001b[39;00m\n\u001b[0;32m--> 299\u001b[0m     rgba \u001b[39m=\u001b[39m _to_rgba_no_colorcycle(c, alpha)\n\u001b[1;32m    300\u001b[0m     \u001b[39mtry\u001b[39;00m:\n",
      "File \u001b[0;32m~/miniconda3/envs/mlp/lib/python3.11/site-packages/matplotlib/colors.py:374\u001b[0m, in \u001b[0;36m_to_rgba_no_colorcycle\u001b[0;34m(c, alpha)\u001b[0m\n\u001b[1;32m    373\u001b[0m         \u001b[39mreturn\u001b[39;00m c, c, c, alpha \u001b[39mif\u001b[39;00m alpha \u001b[39mis\u001b[39;00m \u001b[39mnot\u001b[39;00m \u001b[39mNone\u001b[39;00m \u001b[39melse\u001b[39;00m \u001b[39m1.\u001b[39m\n\u001b[0;32m--> 374\u001b[0m     \u001b[39mraise\u001b[39;00m \u001b[39mValueError\u001b[39;00m(\u001b[39mf\u001b[39m\u001b[39m\"\u001b[39m\u001b[39mInvalid RGBA argument: \u001b[39m\u001b[39m{\u001b[39;00morig_c\u001b[39m!r}\u001b[39;00m\u001b[39m\"\u001b[39m)\n\u001b[1;32m    375\u001b[0m \u001b[39m# turn 2-D array into 1-D array\u001b[39;00m\n",
      "\u001b[0;31mValueError\u001b[0m: Invalid RGBA argument: 'year'",
      "\nThe above exception was the direct cause of the following exception:\n",
      "\u001b[0;31mValueError\u001b[0m                                Traceback (most recent call last)",
      "Cell \u001b[0;32mIn[47], line 1\u001b[0m\n\u001b[0;32m----> 1\u001b[0m shap\u001b[39m.\u001b[39mplots\u001b[39m.\u001b[39mscatter(shap_values[:, :, \u001b[39m0\u001b[39m], X)\n",
      "File \u001b[0;32m~/miniconda3/envs/mlp/lib/python3.11/site-packages/shap/plots/_scatter.py:90\u001b[0m, in \u001b[0;36mscatter\u001b[0;34m(shap_values, color, hist, axis_color, cmap, dot_size, x_jitter, alpha, title, xmin, xmax, ymin, ymax, overlay, ax, ylabel, show)\u001b[0m\n\u001b[1;32m     88\u001b[0m \u001b[39mfor\u001b[39;00m i \u001b[39min\u001b[39;00m inds:\n\u001b[1;32m     89\u001b[0m     ax \u001b[39m=\u001b[39m pl\u001b[39m.\u001b[39msubplot(\u001b[39m1\u001b[39m,\u001b[39mlen\u001b[39m(inds),i\u001b[39m+\u001b[39m\u001b[39m1\u001b[39m)\n\u001b[0;32m---> 90\u001b[0m     scatter(shap_values[:,i], color\u001b[39m=\u001b[39mcolor, show\u001b[39m=\u001b[39m\u001b[39mFalse\u001b[39;00m, ax\u001b[39m=\u001b[39max, ymin\u001b[39m=\u001b[39mymin, ymax\u001b[39m=\u001b[39mymax)\n\u001b[1;32m     91\u001b[0m     \u001b[39mif\u001b[39;00m overlay \u001b[39mis\u001b[39;00m \u001b[39mnot\u001b[39;00m \u001b[39mNone\u001b[39;00m:\n\u001b[1;32m     92\u001b[0m         line_styles \u001b[39m=\u001b[39m [\u001b[39m\"\u001b[39m\u001b[39msolid\u001b[39m\u001b[39m\"\u001b[39m, \u001b[39m\"\u001b[39m\u001b[39mdotted\u001b[39m\u001b[39m\"\u001b[39m, \u001b[39m\"\u001b[39m\u001b[39mdashed\u001b[39m\u001b[39m\"\u001b[39m]\n",
      "File \u001b[0;32m~/miniconda3/envs/mlp/lib/python3.11/site-packages/shap/plots/_scatter.py:337\u001b[0m, in \u001b[0;36mscatter\u001b[0;34m(shap_values, color, hist, axis_color, cmap, dot_size, x_jitter, alpha, title, xmin, xmax, ymin, ymax, overlay, ax, ylabel, show)\u001b[0m\n\u001b[1;32m    335\u001b[0m     p\u001b[39m.\u001b[39mset_array(cvals[xv_notnan])\n\u001b[1;32m    336\u001b[0m \u001b[39melse\u001b[39;00m:\n\u001b[0;32m--> 337\u001b[0m     p \u001b[39m=\u001b[39m ax\u001b[39m.\u001b[39mscatter(xv, s, s\u001b[39m=\u001b[39mdot_size, linewidth\u001b[39m=\u001b[39m\u001b[39m0\u001b[39m, color\u001b[39m=\u001b[39mcolor,\n\u001b[1;32m    338\u001b[0m                    alpha\u001b[39m=\u001b[39malpha, rasterized\u001b[39m=\u001b[39m\u001b[39mlen\u001b[39m(xv) \u001b[39m>\u001b[39m \u001b[39m500\u001b[39m)\n\u001b[1;32m    340\u001b[0m \u001b[39mif\u001b[39;00m interaction_index \u001b[39m!=\u001b[39m ind \u001b[39mand\u001b[39;00m interaction_index \u001b[39mis\u001b[39;00m \u001b[39mnot\u001b[39;00m \u001b[39mNone\u001b[39;00m:\n\u001b[1;32m    341\u001b[0m     \u001b[39m# draw the color bar\u001b[39;00m\n\u001b[1;32m    342\u001b[0m     \u001b[39mif\u001b[39;00m \u001b[39mtype\u001b[39m(cd[\u001b[39m0\u001b[39m]) \u001b[39m==\u001b[39m \u001b[39mstr\u001b[39m:\n",
      "File \u001b[0;32m~/miniconda3/envs/mlp/lib/python3.11/site-packages/matplotlib/__init__.py:1442\u001b[0m, in \u001b[0;36m_preprocess_data.<locals>.inner\u001b[0;34m(ax, data, *args, **kwargs)\u001b[0m\n\u001b[1;32m   1439\u001b[0m \u001b[39m@functools\u001b[39m\u001b[39m.\u001b[39mwraps(func)\n\u001b[1;32m   1440\u001b[0m \u001b[39mdef\u001b[39;00m \u001b[39minner\u001b[39m(ax, \u001b[39m*\u001b[39margs, data\u001b[39m=\u001b[39m\u001b[39mNone\u001b[39;00m, \u001b[39m*\u001b[39m\u001b[39m*\u001b[39mkwargs):\n\u001b[1;32m   1441\u001b[0m     \u001b[39mif\u001b[39;00m data \u001b[39mis\u001b[39;00m \u001b[39mNone\u001b[39;00m:\n\u001b[0;32m-> 1442\u001b[0m         \u001b[39mreturn\u001b[39;00m func(ax, \u001b[39m*\u001b[39m\u001b[39mmap\u001b[39m(sanitize_sequence, args), \u001b[39m*\u001b[39m\u001b[39m*\u001b[39mkwargs)\n\u001b[1;32m   1444\u001b[0m     bound \u001b[39m=\u001b[39m new_sig\u001b[39m.\u001b[39mbind(ax, \u001b[39m*\u001b[39margs, \u001b[39m*\u001b[39m\u001b[39m*\u001b[39mkwargs)\n\u001b[1;32m   1445\u001b[0m     auto_label \u001b[39m=\u001b[39m (bound\u001b[39m.\u001b[39marguments\u001b[39m.\u001b[39mget(label_namer)\n\u001b[1;32m   1446\u001b[0m                   \u001b[39mor\u001b[39;00m bound\u001b[39m.\u001b[39mkwargs\u001b[39m.\u001b[39mget(label_namer))\n",
      "File \u001b[0;32m~/miniconda3/envs/mlp/lib/python3.11/site-packages/matplotlib/axes/_axes.py:4602\u001b[0m, in \u001b[0;36mAxes.scatter\u001b[0;34m(self, x, y, s, c, marker, cmap, norm, vmin, vmax, alpha, linewidths, edgecolors, plotnonfinite, **kwargs)\u001b[0m\n\u001b[1;32m   4599\u001b[0m \u001b[39mif\u001b[39;00m edgecolors \u001b[39mis\u001b[39;00m \u001b[39mNone\u001b[39;00m:\n\u001b[1;32m   4600\u001b[0m     orig_edgecolor \u001b[39m=\u001b[39m kwargs\u001b[39m.\u001b[39mget(\u001b[39m'\u001b[39m\u001b[39medgecolor\u001b[39m\u001b[39m'\u001b[39m, \u001b[39mNone\u001b[39;00m)\n\u001b[1;32m   4601\u001b[0m c, colors, edgecolors \u001b[39m=\u001b[39m \\\n\u001b[0;32m-> 4602\u001b[0m     \u001b[39mself\u001b[39m\u001b[39m.\u001b[39m_parse_scatter_color_args(\n\u001b[1;32m   4603\u001b[0m         c, edgecolors, kwargs, x\u001b[39m.\u001b[39msize,\n\u001b[1;32m   4604\u001b[0m         get_next_color_func\u001b[39m=\u001b[39m\u001b[39mself\u001b[39m\u001b[39m.\u001b[39m_get_patches_for_fill\u001b[39m.\u001b[39mget_next_color)\n\u001b[1;32m   4606\u001b[0m \u001b[39mif\u001b[39;00m plotnonfinite \u001b[39mand\u001b[39;00m colors \u001b[39mis\u001b[39;00m \u001b[39mNone\u001b[39;00m:\n\u001b[1;32m   4607\u001b[0m     c \u001b[39m=\u001b[39m np\u001b[39m.\u001b[39mma\u001b[39m.\u001b[39mmasked_invalid(c)\n",
      "File \u001b[0;32m~/miniconda3/envs/mlp/lib/python3.11/site-packages/matplotlib/axes/_axes.py:4380\u001b[0m, in \u001b[0;36mAxes._parse_scatter_color_args\u001b[0;34m(c, edgecolors, kwargs, xsize, get_next_color_func)\u001b[0m\n\u001b[1;32m   4378\u001b[0m     mcolors\u001b[39m.\u001b[39mto_rgba_array(kwcolor)\n\u001b[1;32m   4379\u001b[0m \u001b[39mexcept\u001b[39;00m \u001b[39mValueError\u001b[39;00m \u001b[39mas\u001b[39;00m err:\n\u001b[0;32m-> 4380\u001b[0m     \u001b[39mraise\u001b[39;00m \u001b[39mValueError\u001b[39;00m(\n\u001b[1;32m   4381\u001b[0m         \u001b[39m\"\u001b[39m\u001b[39m'\u001b[39m\u001b[39mcolor\u001b[39m\u001b[39m'\u001b[39m\u001b[39m kwarg must be a color or sequence of color \u001b[39m\u001b[39m\"\u001b[39m\n\u001b[1;32m   4382\u001b[0m         \u001b[39m\"\u001b[39m\u001b[39mspecs.  For a sequence of values to be color-mapped, use \u001b[39m\u001b[39m\"\u001b[39m\n\u001b[1;32m   4383\u001b[0m         \u001b[39m\"\u001b[39m\u001b[39mthe \u001b[39m\u001b[39m'\u001b[39m\u001b[39mc\u001b[39m\u001b[39m'\u001b[39m\u001b[39m argument instead.\u001b[39m\u001b[39m\"\u001b[39m) \u001b[39mfrom\u001b[39;00m \u001b[39merr\u001b[39;00m\n\u001b[1;32m   4384\u001b[0m \u001b[39mif\u001b[39;00m edgecolors \u001b[39mis\u001b[39;00m \u001b[39mNone\u001b[39;00m:\n\u001b[1;32m   4385\u001b[0m     edgecolors \u001b[39m=\u001b[39m kwcolor\n",
      "\u001b[0;31mValueError\u001b[0m: 'color' kwarg must be a color or sequence of color specs.  For a sequence of values to be color-mapped, use the 'c' argument instead."
     ]
    },
    {
     "data": {
      "image/png": "[encoded data removed]",
      "text/plain": [
       "<Figure size 1500x500 with 4 Axes>"
      ]
     },
     "metadata": {},
     "output_type": "display_data"
    }
   ],
   "source": [
    "shap.plots.scatter(shap_values[:, :, 0], X)"
   ]
  },
  {
   "cell_type": "code",
   "execution_count": null,
   "metadata": {},
   "outputs": [],
   "source": []
  }
 ],
 "metadata": {
  "kernelspec": {
   "display_name": "mlp",
   "language": "python",
   "name": "python3"
  },
  "language_info": {
   "codemirror_mode": {
    "name": "ipython",
    "version": 3
   },
   "file_extension": ".py",
   "mimetype": "text/x-python",
   "name": "python",
   "nbconvert_exporter": "python",
   "pygments_lexer": "ipython3",
   "version": "3.11.4"
  }
 },
 "nbformat": 4,
 "nbformat_minor": 4
}
