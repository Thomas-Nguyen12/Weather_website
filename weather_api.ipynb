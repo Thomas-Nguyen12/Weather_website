{
 "cells": [
  {
   "cell_type": "code",
   "execution_count": 5,
   "metadata": {},
   "outputs": [],
   "source": [
    "import requests\n",
    "import pandas as pd\n",
    "import re"
   ]
  },
  {
   "cell_type": "markdown",
   "metadata": {},
   "source": [
    "Returns a list of locations (also known as sites) for which\n",
    "results are available for the daily and three-hourly forecast\n",
    "data feeds. You can use this to find the ID of the site that\n",
    "you are interested in."
   ]
  },
  {
   "cell_type": "code",
   "execution_count": 6,
   "metadata": {},
   "outputs": [
    {
     "name": "stdout",
     "output_type": "stream",
     "text": [
      "code: 200\n",
      "{\"SiteRep\":{\"Wx\":{\"Param\":[{\"name\":\"F\",\"units\":\"C\",\"$\":\"Feels Like Temperature\"},{\"name\":\"G\",\"units\":\"mph\",\"$\":\"Wind Gust\"},{\"name\":\"H\",\"units\":\"%\",\"$\":\"Screen Relative Humidity\"},{\"name\":\"T\",\"units\":\"C\",\"$\":\"Temperature\"},{\"name\":\"V\",\"units\":\"\",\"$\":\"Visibility\"},{\"name\":\"D\",\"units\":\"compass\",\"$\":\"Wind Direction\"},{\"name\":\"S\",\"units\":\"mph\",\"$\":\"Wind Speed\"},{\"name\":\"U\",\"units\":\"\",\"$\":\"Max UV Index\"},{\"name\":\"W\",\"units\":\"\",\"$\":\"Weather Type\"},{\"name\":\"Pp\",\"units\":\"%\",\"$\":\"Precipitation Probability\"}]},\"DV\":{\"dataDate\":\"2023-01-27T14:00:00Z\",\"type\":\"Forecast\",\"Location\":{\"i\":\"351683\",\"lat\":\"51.4779\",\"lon\":\"-0.01\",\"name\":\"GREENWICH\",\"country\":\"ENGLAND\",\"continent\":\"EUROPE\",\"elevation\":\"6.0\",\"Period\":[{\"type\":\"Day\",\"value\":\"2023-01-27Z\",\"Rep\":[{\"D\":\"N\",\"F\":\"3\",\"G\":\"18\",\"H\":\"80\",\"Pp\":\"8\",\"S\":\"7\",\"T\":\"5\",\"V\":\"GO\",\"W\":\"7\",\"U\":\"1\",\"$\":\"540\"},{\"D\":\"NE\",\"F\":\"4\",\"G\":\"16\",\"H\":\"72\",\"Pp\":\"8\",\"S\":\"9\",\"T\":\"7\",\"V\":\"VG\",\"W\":\"8\",\"U\":\"1\",\"$\":\"720\"},{\"D\":\"NNE\",\"F\":\"6\",\"G\":\"13\",\"H\":\"62\",\"Pp\":\"8\",\"S\":\"4\",\"T\":\"7\",\"V\":\"VG\",\"W\":\"8\",\"U\":\"1\",\"$\":\"900\"},{\"D\":\"NNE\",\"F\":\"4\",\"G\":\"13\",\"H\":\"71\",\"Pp\":\"0\",\"S\":\"7\",\"T\":\"6\",\"V\":\"GO\",\"W\":\"2\",\"U\":\"0\",\"$\":\"1080\"},{\"D\":\"NE\",\"F\":\"2\",\"G\":\"11\",\"H\":\"78\",\"Pp\":\"0\",\"S\":\"4\",\"T\":\"4\",\"V\":\"GO\",\"W\":\"0\",\"U\":\"0\",\"$\":\"1260\"}]},{\"type\":\"Day\",\"value\":\"2023-01-28Z\",\"Rep\":[{\"D\":\"N\",\"F\":\"0\",\"G\":\"11\",\"H\":\"85\",\"Pp\":\"0\",\"S\":\"4\",\"T\":\"2\",\"V\":\"GO\",\"W\":\"0\",\"U\":\"0\",\"$\":\"0\"},{\"D\":\"NNW\",\"F\":\"0\",\"G\":\"9\",\"H\":\"89\",\"Pp\":\"1\",\"S\":\"4\",\"T\":\"1\",\"V\":\"GO\",\"W\":\"0\",\"U\":\"0\",\"$\":\"180\"},{\"D\":\"NW\",\"F\":\"-1\",\"G\":\"7\",\"H\":\"91\",\"Pp\":\"4\",\"S\":\"2\",\"T\":\"1\",\"V\":\"MO\",\"W\":\"7\",\"U\":\"0\",\"$\":\"360\"},{\"D\":\"WSW\",\"F\":\"0\",\"G\":\"7\",\"H\":\"90\",\"Pp\":\"4\",\"S\":\"2\",\"T\":\"2\",\"V\":\"MO\",\"W\":\"7\",\"U\":\"1\",\"$\":\"540\"},{\"D\":\"W\",\"F\":\"3\",\"G\":\"7\",\"H\":\"78\",\"Pp\":\"4\",\"S\":\"4\",\"T\":\"4\",\"V\":\"MO\",\"W\":\"7\",\"U\":\"1\",\"$\":\"720\"},{\"D\":\"W\",\"F\":\"4\",\"G\":\"7\",\"H\":\"72\",\"Pp\":\"4\",\"S\":\"4\",\"T\":\"6\",\"V\":\"GO\",\"W\":\"7\",\"U\":\"1\",\"$\":\"900\"},{\"D\":\"W\",\"F\":\"4\",\"G\":\"7\",\"H\":\"81\",\"Pp\":\"7\",\"S\":\"2\",\"T\":\"5\",\"V\":\"GO\",\"W\":\"8\",\"U\":\"0\",\"$\":\"1080\"},{\"D\":\"WSW\",\"F\":\"3\",\"G\":\"7\",\"H\":\"84\",\"Pp\":\"7\",\"S\":\"4\",\"T\":\"5\",\"V\":\"GO\",\"W\":\"8\",\"U\":\"0\",\"$\":\"1260\"}]},{\"type\":\"Day\",\"value\":\"2023-01-29Z\",\"Rep\":[{\"D\":\"WSW\",\"F\":\"2\",\"G\":\"9\",\"H\":\"87\",\"Pp\":\"7\",\"S\":\"4\",\"T\":\"4\",\"V\":\"GO\",\"W\":\"8\",\"U\":\"0\",\"$\":\"0\"},{\"D\":\"WSW\",\"F\":\"2\",\"G\":\"11\",\"H\":\"89\",\"Pp\":\"8\",\"S\":\"4\",\"T\":\"4\",\"V\":\"GO\",\"W\":\"8\",\"U\":\"0\",\"$\":\"180\"},{\"D\":\"WSW\",\"F\":\"2\",\"G\":\"13\",\"H\":\"89\",\"Pp\":\"9\",\"S\":\"7\",\"T\":\"4\",\"V\":\"GO\",\"W\":\"8\",\"U\":\"0\",\"$\":\"360\"},{\"D\":\"WSW\",\"F\":\"2\",\"G\":\"16\",\"H\":\"88\",\"Pp\":\"10\",\"S\":\"9\",\"T\":\"5\",\"V\":\"GO\",\"W\":\"8\",\"U\":\"1\",\"$\":\"540\"},{\"D\":\"WSW\",\"F\":\"4\",\"G\":\"18\",\"H\":\"81\",\"Pp\":\"10\",\"S\":\"9\",\"T\":\"7\",\"V\":\"GO\",\"W\":\"8\",\"U\":\"1\",\"$\":\"720\"},{\"D\":\"WSW\",\"F\":\"5\",\"G\":\"22\",\"H\":\"78\",\"Pp\":\"8\",\"S\":\"11\",\"T\":\"8\",\"V\":\"VG\",\"W\":\"7\",\"U\":\"1\",\"$\":\"900\"},{\"D\":\"WSW\",\"F\":\"4\",\"G\":\"20\",\"H\":\"81\",\"Pp\":\"8\",\"S\":\"11\",\"T\":\"7\",\"V\":\"VG\",\"W\":\"8\",\"U\":\"0\",\"$\":\"1080\"},{\"D\":\"WSW\",\"F\":\"4\",\"G\":\"22\",\"H\":\"86\",\"Pp\":\"8\",\"S\":\"11\",\"T\":\"7\",\"V\":\"VG\",\"W\":\"8\",\"U\":\"0\",\"$\":\"1260\"}]},{\"type\":\"Day\",\"value\":\"2023-01-30Z\",\"Rep\":[{\"D\":\"WSW\",\"F\":\"4\",\"G\":\"22\",\"H\":\"90\",\"Pp\":\"9\",\"S\":\"11\",\"T\":\"7\",\"V\":\"VG\",\"W\":\"8\",\"U\":\"0\",\"$\":\"0\"},{\"D\":\"W\",\"F\":\"5\",\"G\":\"20\",\"H\":\"88\",\"Pp\":\"10\",\"S\":\"11\",\"T\":\"8\",\"V\":\"VG\",\"W\":\"8\",\"U\":\"0\",\"$\":\"180\"},{\"D\":\"WNW\",\"F\":\"4\",\"G\":\"20\",\"H\":\"82\",\"Pp\":\"8\",\"S\":\"9\",\"T\":\"7\",\"V\":\"VG\",\"W\":\"8\",\"U\":\"0\",\"$\":\"360\"},{\"D\":\"WNW\",\"F\":\"3\",\"G\":\"20\",\"H\":\"77\",\"Pp\":\"9\",\"S\":\"11\",\"T\":\"6\",\"V\":\"VG\",\"W\":\"8\",\"U\":\"1\",\"$\":\"540\"},{\"D\":\"WNW\",\"F\":\"5\",\"G\":\"22\",\"H\":\"68\",\"Pp\":\"9\",\"S\":\"11\",\"T\":\"8\",\"V\":\"VG\",\"W\":\"8\",\"U\":\"1\",\"$\":\"720\"},{\"D\":\"WNW\",\"F\":\"6\",\"G\":\"18\",\"H\":\"65\",\"Pp\":\"6\",\"S\":\"9\",\"T\":\"8\",\"V\":\"VG\",\"W\":\"7\",\"U\":\"1\",\"$\":\"900\"},{\"D\":\"W\",\"F\":\"4\",\"G\":\"13\",\"H\":\"74\",\"Pp\":\"6\",\"S\":\"7\",\"T\":\"6\",\"V\":\"VG\",\"W\":\"7\",\"U\":\"0\",\"$\":\"1080\"},{\"D\":\"WSW\",\"F\":\"2\",\"G\":\"16\",\"H\":\"81\",\"Pp\":\"7\",\"S\":\"7\",\"T\":\"5\",\"V\":\"VG\",\"W\":\"7\",\"U\":\"0\",\"$\":\"1260\"}]},{\"type\":\"Day\",\"value\":\"2023-01-31Z\",\"Rep\":[{\"D\":\"WSW\",\"F\":\"2\",\"G\":\"18\",\"H\":\"85\",\"Pp\":\"2\",\"S\":\"9\",\"T\":\"5\",\"V\":\"VG\",\"W\":\"2\",\"U\":\"0\",\"$\":\"0\"},{\"D\":\"WSW\",\"F\":\"2\",\"G\":\"20\",\"H\":\"86\",\"Pp\":\"9\",\"S\":\"11\",\"T\":\"6\",\"V\":\"VG\",\"W\":\"8\",\"U\":\"0\",\"$\":\"180\"},{\"D\":\"WSW\",\"F\":\"3\",\"G\":\"22\",\"H\":\"88\",\"Pp\":\"7\",\"S\":\"11\",\"T\":\"7\",\"V\":\"VG\",\"W\":\"7\",\"U\":\"0\",\"$\":\"360\"},{\"D\":\"WSW\",\"F\":\"5\",\"G\":\"22\",\"H\":\"87\",\"Pp\":\"9\",\"S\":\"11\",\"T\":\"8\",\"V\":\"VG\",\"W\":\"8\",\"U\":\"1\",\"$\":\"540\"},{\"D\":\"W\",\"F\":\"7\",\"G\":\"25\",\"H\":\"77\",\"Pp\":\"2\",\"S\":\"13\",\"T\":\"10\",\"V\":\"VG\",\"W\":\"3\",\"U\":\"1\",\"$\":\"720\"},{\"D\":\"W\",\"F\":\"7\",\"G\":\"25\",\"H\":\"70\",\"Pp\":\"7\",\"S\":\"13\",\"T\":\"10\",\"V\":\"VG\",\"W\":\"7\",\"U\":\"1\",\"$\":\"900\"},{\"D\":\"W\",\"F\":\"5\",\"G\":\"22\",\"H\":\"73\",\"Pp\":\"6\",\"S\":\"11\",\"T\":\"8\",\"V\":\"VG\",\"W\":\"7\",\"U\":\"0\",\"$\":\"1080\"},{\"D\":\"W\",\"F\":\"4\",\"G\":\"22\",\"H\":\"75\",\"Pp\":\"5\",\"S\":\"11\",\"T\":\"7\",\"V\":\"VG\",\"W\":\"7\",\"U\":\"0\",\"$\":\"1260\"}]}]}}}}\n"
     ]
    }
   ],
   "source": [
    "import csv\n",
    "import json\n",
    "# Greenwich, Greater London ID = 351683\n",
    "\n",
    "response_hourly = requests.get(\"http://datapoint.metoffice.gov.uk/public/data/val/wxfcs/all/json/351683?res=3hourly&key=0d75cc84-e06a-4632-8bd2-b1cf041e7b09\") \n",
    "\n",
    "\n",
    "print (\"code: {}\".format(response_hourly.status_code))\n",
    "\n",
    "\n",
    "#df = response_hourly.text\n",
    "\n",
    "\n",
    "\n",
    "print (response_hourly.text)\n",
    "\n",
    "file = open(\"3_hour_forecast.json\", \"w\")\n",
    "file.write(response_hourly.text)\n",
    "file.close()\n",
    "\n",
    "\n",
    "# I need to create a file to store this into\n",
    "\n",
    "\n",
    "\n",
    "\n"
   ]
  },
  {
   "cell_type": "markdown",
   "metadata": {},
   "source": []
  },
  {
   "cell_type": "code",
   "execution_count": 11,
   "metadata": {},
   "outputs": [
    {
     "ename": "AttributeError",
     "evalue": "'str' object has no attribute 'values'",
     "output_type": "error",
     "traceback": [
      "\u001b[0;31m---------------------------------------------------------------------------\u001b[0m",
      "\u001b[0;31mAttributeError\u001b[0m                            Traceback (most recent call last)",
      "Cell \u001b[0;32mIn[11], line 17\u001b[0m\n\u001b[1;32m     15\u001b[0m         csv_writer\u001b[38;5;241m.\u001b[39mwriterow(header)\n\u001b[1;32m     16\u001b[0m         count \u001b[38;5;241m+\u001b[39m\u001b[38;5;241m=\u001b[39m \u001b[38;5;241m1\u001b[39m\n\u001b[0;32m---> 17\u001b[0m     csv_writer\u001b[38;5;241m.\u001b[39mwriterow(\u001b[43mdata\u001b[49m\u001b[38;5;241;43m.\u001b[39;49m\u001b[43mvalues\u001b[49m())\n\u001b[1;32m     19\u001b[0m data_file\u001b[38;5;241m.\u001b[39mclose()\n",
      "\u001b[0;31mAttributeError\u001b[0m: 'str' object has no attribute 'values'"
     ]
    }
   ],
   "source": [
    "import json\n",
    "import csv\n",
    "import pandas as pd\n",
    "with open('3_hour_forecast.json', \"r\") as json_file:\n",
    "    jsondata = json.load(json_file)\n",
    "    \n",
    " \n",
    "data_file = open('forecast.csv', 'w', newline='')\n",
    "csv_writer = csv.writer(data_file)\n",
    " \n",
    "count = 0\n",
    "for data in jsondata:\n",
    "    if count == 0:\n",
    "        header = jsondata[data].keys()\n",
    "        csv_writer.writerow(header)\n",
    "        count += 1\n",
    "    csv_writer.writerow(jsondata[data].values())\n",
    " \n",
    "data_file.close()"
   ]
  },
  {
   "cell_type": "code",
   "execution_count": null,
   "metadata": {},
   "outputs": [
    {
     "name": "stdout",
     "output_type": "stream",
     "text": [
      "Empty DataFrame\n",
      "Columns: []\n",
      "Index: []\n"
     ]
    }
   ],
   "source": [
    "print (df.corr())"
   ]
  },
  {
   "cell_type": "code",
   "execution_count": null,
   "metadata": {},
   "outputs": [
    {
     "data": {
      "text/plain": [
       "Index(['BWSurfacePressureChartList'], dtype='object')"
      ]
     },
     "execution_count": 6,
     "metadata": {},
     "output_type": "execute_result"
    }
   ],
   "source": [
    "df.columns"
   ]
  },
  {
   "cell_type": "code",
   "execution_count": null,
   "metadata": {},
   "outputs": [],
   "source": []
  },
  {
   "cell_type": "code",
   "execution_count": null,
   "metadata": {},
   "outputs": [
    {
     "data": {
      "text/plain": [
       "BWSurfacePressureChartList    0\n",
       "dtype: int64"
      ]
     },
     "execution_count": 7,
     "metadata": {},
     "output_type": "execute_result"
    }
   ],
   "source": [
    "df.isna().sum()"
   ]
  },
  {
   "cell_type": "code",
   "execution_count": null,
   "metadata": {},
   "outputs": [
    {
     "name": "stdout",
     "output_type": "stream",
     "text": [
      "<class 'pandas.core.frame.DataFrame'>\n",
      "Index: 1 entries, BWSurfacePressureChart to BWSurfacePressureChart\n",
      "Data columns (total 1 columns):\n",
      " #   Column                      Non-Null Count  Dtype \n",
      "---  ------                      --------------  ----- \n",
      " 0   BWSurfacePressureChartList  1 non-null      object\n",
      "dtypes: object(1)\n",
      "memory usage: 16.0+ bytes\n"
     ]
    }
   ],
   "source": [
    "df.info()"
   ]
  },
  {
   "cell_type": "code",
   "execution_count": null,
   "metadata": {},
   "outputs": [
    {
     "data": {
      "text/html": [
       "<div>\n",
       "<style scoped>\n",
       "    .dataframe tbody tr th:only-of-type {\n",
       "        vertical-align: middle;\n",
       "    }\n",
       "\n",
       "    .dataframe tbody tr th {\n",
       "        vertical-align: top;\n",
       "    }\n",
       "\n",
       "    .dataframe thead th {\n",
       "        text-align: right;\n",
       "    }\n",
       "</style>\n",
       "<table border=\"1\" class=\"dataframe\">\n",
       "  <thead>\n",
       "    <tr style=\"text-align: right;\">\n",
       "      <th></th>\n",
       "      <th>BWSurfacePressureChartList</th>\n",
       "    </tr>\n",
       "  </thead>\n",
       "  <tbody>\n",
       "    <tr>\n",
       "      <th>count</th>\n",
       "      <td>1</td>\n",
       "    </tr>\n",
       "    <tr>\n",
       "      <th>unique</th>\n",
       "      <td>1</td>\n",
       "    </tr>\n",
       "    <tr>\n",
       "      <th>top</th>\n",
       "      <td>[{'DataDate': '2023-01-23T00:00:00Z', 'ValidFr...</td>\n",
       "    </tr>\n",
       "    <tr>\n",
       "      <th>freq</th>\n",
       "      <td>1</td>\n",
       "    </tr>\n",
       "  </tbody>\n",
       "</table>\n",
       "</div>"
      ],
      "text/plain": [
       "                               BWSurfacePressureChartList\n",
       "count                                                   1\n",
       "unique                                                  1\n",
       "top     [{'DataDate': '2023-01-23T00:00:00Z', 'ValidFr...\n",
       "freq                                                    1"
      ]
     },
     "execution_count": 9,
     "metadata": {},
     "output_type": "execute_result"
    }
   ],
   "source": [
    "df.describe()"
   ]
  },
  {
   "cell_type": "code",
   "execution_count": null,
   "metadata": {},
   "outputs": [
    {
     "name": "stdout",
     "output_type": "stream",
     "text": [
      "                                               BWSurfacePressureChartList\n",
      "BWSurfacePressureChart  [{'DataDate': '2023-01-23T00:00:00Z', 'ValidFr...\n"
     ]
    }
   ],
   "source": [
    "print (df)"
   ]
  },
  {
   "cell_type": "code",
   "execution_count": null,
   "metadata": {},
   "outputs": [
    {
     "ename": "FileNotFoundError",
     "evalue": "[Errno 2] No such file or directory: 'weather_data_api.json'",
     "output_type": "error",
     "traceback": [
      "\u001b[0;31m---------------------------------------------------------------------------\u001b[0m",
      "\u001b[0;31mFileNotFoundError\u001b[0m                         Traceback (most recent call last)",
      "Cell \u001b[0;32mIn[18], line 1\u001b[0m\n\u001b[0;32m----> 1\u001b[0m file \u001b[38;5;241m=\u001b[39m \u001b[38;5;28;43mopen\u001b[39;49m\u001b[43m(\u001b[49m\u001b[38;5;124;43m\"\u001b[39;49m\u001b[38;5;124;43mweather_data_api.json\u001b[39;49m\u001b[38;5;124;43m\"\u001b[39;49m\u001b[43m)\u001b[49m\n\u001b[1;32m      2\u001b[0m file\u001b[38;5;241m.\u001b[39mwrite(df\u001b[38;5;241m.\u001b[39mto_string())\n\u001b[1;32m      3\u001b[0m file\u001b[38;5;241m.\u001b[39mclose()\n",
      "File \u001b[0;32m~/miniforge3/lib/python3.9/site-packages/IPython/core/interactiveshell.py:282\u001b[0m, in \u001b[0;36m_modified_open\u001b[0;34m(file, *args, **kwargs)\u001b[0m\n\u001b[1;32m    275\u001b[0m \u001b[39mif\u001b[39;00m file \u001b[39min\u001b[39;00m {\u001b[39m0\u001b[39m, \u001b[39m1\u001b[39m, \u001b[39m2\u001b[39m}:\n\u001b[1;32m    276\u001b[0m     \u001b[39mraise\u001b[39;00m \u001b[39mValueError\u001b[39;00m(\n\u001b[1;32m    277\u001b[0m         \u001b[39mf\u001b[39m\u001b[39m\"\u001b[39m\u001b[39mIPython won\u001b[39m\u001b[39m'\u001b[39m\u001b[39mt let you open fd=\u001b[39m\u001b[39m{\u001b[39;00mfile\u001b[39m}\u001b[39;00m\u001b[39m by default \u001b[39m\u001b[39m\"\u001b[39m\n\u001b[1;32m    278\u001b[0m         \u001b[39m\"\u001b[39m\u001b[39mas it is likely to crash IPython. If you know what you are doing, \u001b[39m\u001b[39m\"\u001b[39m\n\u001b[1;32m    279\u001b[0m         \u001b[39m\"\u001b[39m\u001b[39myou can use builtins\u001b[39m\u001b[39m'\u001b[39m\u001b[39m open.\u001b[39m\u001b[39m\"\u001b[39m\n\u001b[1;32m    280\u001b[0m     )\n\u001b[0;32m--> 282\u001b[0m \u001b[39mreturn\u001b[39;00m io_open(file, \u001b[39m*\u001b[39;49margs, \u001b[39m*\u001b[39;49m\u001b[39m*\u001b[39;49mkwargs)\n",
      "\u001b[0;31mFileNotFoundError\u001b[0m: [Errno 2] No such file or directory: 'weather_data_api.json'"
     ]
    }
   ],
   "source": []
  },
  {
   "cell_type": "code",
   "execution_count": null,
   "metadata": {},
   "outputs": [
    {
     "name": "stdout",
     "output_type": "stream",
     "text": [
      "                                               BWSurfacePressureChartList\n",
      "BWSurfacePressureChart  [{'DataDate': '2023-01-23T00:00:00Z', 'ValidFr...\n"
     ]
    }
   ],
   "source": [
    "print (df)"
   ]
  },
  {
   "cell_type": "code",
   "execution_count": null,
   "metadata": {},
   "outputs": [],
   "source": [
    "df = pd.read_json(response1.text)"
   ]
  },
  {
   "cell_type": "code",
   "execution_count": null,
   "metadata": {},
   "outputs": [
    {
     "name": "stdout",
     "output_type": "stream",
     "text": [
      "                                                  Locations\n",
      "Location  [{'elevation': '50.0', 'id': '14', 'latitude':...\n"
     ]
    }
   ],
   "source": [
    "print (df.head())"
   ]
  },
  {
   "cell_type": "code",
   "execution_count": null,
   "metadata": {},
   "outputs": [
    {
     "name": "stdout",
     "output_type": "stream",
     "text": [
      "Match Found\n"
     ]
    }
   ],
   "source": [
    "if re.findall(\"Norwich\", response1.text):\n",
    "    print (\"Match Found\")"
   ]
  },
  {
   "cell_type": "code",
   "execution_count": null,
   "metadata": {},
   "outputs": [
    {
     "name": "stdout",
     "output_type": "stream",
     "text": [
      "['Norwich', 'Norwich', 'Norwich', 'Norwich']\n"
     ]
    }
   ],
   "source": [
    "print (re.findall(\"Norwich\", response1.text))"
   ]
  },
  {
   "cell_type": "code",
   "execution_count": null,
   "metadata": {},
   "outputs": [
    {
     "data": {
      "text/html": [
       "<div>\n",
       "<style scoped>\n",
       "    .dataframe tbody tr th:only-of-type {\n",
       "        vertical-align: middle;\n",
       "    }\n",
       "\n",
       "    .dataframe tbody tr th {\n",
       "        vertical-align: top;\n",
       "    }\n",
       "\n",
       "    .dataframe thead th {\n",
       "        text-align: right;\n",
       "    }\n",
       "</style>\n",
       "<table border=\"1\" class=\"dataframe\">\n",
       "  <thead>\n",
       "    <tr style=\"text-align: right;\">\n",
       "      <th></th>\n",
       "      <th>elevation</th>\n",
       "      <th>id</th>\n",
       "      <th>latitude</th>\n",
       "      <th>longitude</th>\n",
       "      <th>name</th>\n",
       "      <th>region</th>\n",
       "      <th>unitaryAuthArea</th>\n",
       "      <th>obsSource</th>\n",
       "      <th>nationalPark</th>\n",
       "    </tr>\n",
       "  </thead>\n",
       "  <tbody>\n",
       "    <tr>\n",
       "      <th>0</th>\n",
       "      <td>50.0</td>\n",
       "      <td>14</td>\n",
       "      <td>54.9375</td>\n",
       "      <td>-2.8092</td>\n",
       "      <td>Carlisle Airport</td>\n",
       "      <td>nw</td>\n",
       "      <td>Cumbria</td>\n",
       "      <td>NaN</td>\n",
       "      <td>NaN</td>\n",
       "    </tr>\n",
       "    <tr>\n",
       "      <th>1</th>\n",
       "      <td>22.0</td>\n",
       "      <td>26</td>\n",
       "      <td>53.3336</td>\n",
       "      <td>-2.8500</td>\n",
       "      <td>Liverpool John Lennon Airport</td>\n",
       "      <td>nw</td>\n",
       "      <td>Merseyside</td>\n",
       "      <td>NaN</td>\n",
       "      <td>NaN</td>\n",
       "    </tr>\n",
       "    <tr>\n",
       "      <th>2</th>\n",
       "      <td>25.0</td>\n",
       "      <td>33</td>\n",
       "      <td>60.4322</td>\n",
       "      <td>-1.2992</td>\n",
       "      <td>Scatsta</td>\n",
       "      <td>os</td>\n",
       "      <td>Shetland Islands</td>\n",
       "      <td>NaN</td>\n",
       "      <td>NaN</td>\n",
       "    </tr>\n",
       "    <tr>\n",
       "      <th>3</th>\n",
       "      <td>7.0</td>\n",
       "      <td>3066</td>\n",
       "      <td>57.6494</td>\n",
       "      <td>-3.5606</td>\n",
       "      <td>Kinloss</td>\n",
       "      <td>gr</td>\n",
       "      <td>Moray</td>\n",
       "      <td>NaN</td>\n",
       "      <td>NaN</td>\n",
       "    </tr>\n",
       "    <tr>\n",
       "      <th>4</th>\n",
       "      <td>6.0</td>\n",
       "      <td>3068</td>\n",
       "      <td>57.7120</td>\n",
       "      <td>-3.3220</td>\n",
       "      <td>Lossiemouth</td>\n",
       "      <td>gr</td>\n",
       "      <td>Moray</td>\n",
       "      <td>LNDSYN</td>\n",
       "      <td>NaN</td>\n",
       "    </tr>\n",
       "  </tbody>\n",
       "</table>\n",
       "</div>"
      ],
      "text/plain": [
       "   elevation    id  latitude  longitude                           name region  \\\n",
       "0       50.0    14   54.9375    -2.8092               Carlisle Airport     nw   \n",
       "1       22.0    26   53.3336    -2.8500  Liverpool John Lennon Airport     nw   \n",
       "2       25.0    33   60.4322    -1.2992                        Scatsta     os   \n",
       "3        7.0  3066   57.6494    -3.5606                        Kinloss     gr   \n",
       "4        6.0  3068   57.7120    -3.3220                    Lossiemouth     gr   \n",
       "\n",
       "    unitaryAuthArea obsSource nationalPark  \n",
       "0           Cumbria       NaN          NaN  \n",
       "1        Merseyside       NaN          NaN  \n",
       "2  Shetland Islands       NaN          NaN  \n",
       "3             Moray       NaN          NaN  \n",
       "4             Moray    LNDSYN          NaN  "
      ]
     },
     "execution_count": 20,
     "metadata": {},
     "output_type": "execute_result"
    }
   ],
   "source": [
    "df = pd.read_csv(\"weather.csv\")\n",
    "df.head()"
   ]
  },
  {
   "cell_type": "code",
   "execution_count": null,
   "metadata": {},
   "outputs": [
    {
     "data": {
      "text/plain": [
       "elevation            91\n",
       "id                    0\n",
       "latitude              0\n",
       "longitude             0\n",
       "name                  0\n",
       "region                4\n",
       "unitaryAuthArea      22\n",
       "obsSource          5970\n",
       "nationalPark       5383\n",
       "dtype: int64"
      ]
     },
     "execution_count": 22,
     "metadata": {},
     "output_type": "execute_result"
    }
   ],
   "source": [
    "df.isna().sum()"
   ]
  },
  {
   "cell_type": "code",
   "execution_count": null,
   "metadata": {},
   "outputs": [
    {
     "name": "stdout",
     "output_type": "stream",
     "text": [
      "0          NaN\n",
      "1          NaN\n",
      "2          NaN\n",
      "3          NaN\n",
      "4       LNDSYN\n",
      "         ...  \n",
      "5996       NaN\n",
      "5997       NaN\n",
      "5998       NaN\n",
      "5999       NaN\n",
      "6000       NaN\n",
      "Name: obsSource, Length: 6001, dtype: object\n"
     ]
    }
   ],
   "source": [
    "print (df.obsSource)"
   ]
  },
  {
   "cell_type": "code",
   "execution_count": null,
   "metadata": {},
   "outputs": [
    {
     "data": {
      "text/plain": [
       "0            0\n",
       "1            0\n",
       "2            0\n",
       "3            0\n",
       "4       LNDSYN\n",
       "         ...  \n",
       "5996         0\n",
       "5997         0\n",
       "5998         0\n",
       "5999         0\n",
       "6000         0\n",
       "Name: obsSource, Length: 6001, dtype: object"
      ]
     },
     "execution_count": 26,
     "metadata": {},
     "output_type": "execute_result"
    }
   ],
   "source": [
    "df.obsSource.fillna(\"0\")"
   ]
  },
  {
   "cell_type": "code",
   "execution_count": null,
   "metadata": {},
   "outputs": [
    {
     "data": {
      "text/plain": [
       "elevation            91\n",
       "id                    0\n",
       "latitude              0\n",
       "longitude             0\n",
       "name                  0\n",
       "region                4\n",
       "unitaryAuthArea      22\n",
       "obsSource          5970\n",
       "nationalPark       5383\n",
       "dtype: int64"
      ]
     },
     "execution_count": 28,
     "metadata": {},
     "output_type": "execute_result"
    }
   ],
   "source": [
    "df.obsSource.fillna(\"0\")\n",
    "df.isna().sum()"
   ]
  },
  {
   "cell_type": "code",
   "execution_count": null,
   "metadata": {},
   "outputs": [
    {
     "data": {
      "text/plain": [
       "name\n",
       "A' Bhuidheanach Bheag                 56.8716\n",
       "A'Chailleach (Fannaich Region)        57.6926\n",
       "A'Chailleach (Monadh Liath Region)    57.1087\n",
       "A'Chralaig                            57.1825\n",
       "A'Ghlas-Bheinn                        57.2549\n",
       "                                       ...   \n",
       "Yoxall                                52.7670\n",
       "Ystrad Mynach                         51.6396\n",
       "Ystradfellte Youth Hostel             51.8034\n",
       "Ystradgynlais                         51.7791\n",
       "Ystumtuen Youth Hostel                52.3926\n",
       "Name: latitude, Length: 5942, dtype: float64"
      ]
     },
     "execution_count": 31,
     "metadata": {},
     "output_type": "execute_result"
    }
   ],
   "source": [
    "df.groupby([\"name\"])[\"latitude\"].mean()"
   ]
  },
  {
   "cell_type": "code",
   "execution_count": null,
   "metadata": {},
   "outputs": [
    {
     "data": {
      "text/plain": [
       "5942"
      ]
     },
     "execution_count": 33,
     "metadata": {},
     "output_type": "execute_result"
    }
   ],
   "source": [
    "len(df.name.unique())"
   ]
  },
  {
   "cell_type": "code",
   "execution_count": null,
   "metadata": {},
   "outputs": [
    {
     "data": {
      "text/plain": [
       "<re.Match object; span=(5003, 5009), match='London'>"
      ]
     },
     "execution_count": 34,
     "metadata": {},
     "output_type": "execute_result"
    }
   ],
   "source": [
    "import re\n",
    "\n",
    "re.search(\"London\", df.to_string())"
   ]
  },
  {
   "cell_type": "code",
   "execution_count": null,
   "metadata": {},
   "outputs": [
    {
     "name": "stdout",
     "output_type": "stream",
     "text": [
      "['London', 'London', 'London', 'London', 'London', 'London', 'London', 'London', 'London', 'London', 'London', 'London', 'London', 'London', 'London', 'London', 'London', 'London', 'London', 'London', 'London', 'London', 'London', 'London', 'London', 'London', 'London', 'London', 'London', 'London', 'London', 'London', 'London', 'London', 'London', 'London', 'London', 'London', 'London', 'London', 'London', 'London', 'London', 'London', 'London', 'London', 'London', 'London', 'London', 'London', 'London', 'London', 'London', 'London', 'London', 'London', 'London', 'London', 'London', 'London', 'London', 'London', 'London', 'London', 'London', 'London', 'London', 'London', 'London', 'London', 'London', 'London', 'London', 'London', 'London', 'London', 'London', 'London', 'London', 'London', 'London', 'London', 'London', 'London', 'London', 'London', 'London', 'London', 'London', 'London', 'London', 'London', 'London', 'London', 'London', 'London', 'London', 'London', 'London', 'London', 'London', 'London', 'London', 'London', 'London', 'London', 'London', 'London', 'London', 'London', 'London', 'London', 'London', 'London', 'London', 'London', 'London', 'London', 'London', 'London', 'London', 'London', 'London', 'London', 'London', 'London', 'London', 'London', 'London', 'London', 'London', 'London', 'London', 'London', 'London', 'London', 'London', 'London', 'London', 'London', 'London', 'London', 'London', 'London', 'London', 'London', 'London', 'London', 'London', 'London', 'London', 'London', 'London', 'London']\n"
     ]
    }
   ],
   "source": [
    "print (re.findall(\"London\", df.to_string()))"
   ]
  },
  {
   "cell_type": "code",
   "execution_count": null,
   "metadata": {},
   "outputs": [
    {
     "name": "stdout",
     "output_type": "stream",
     "text": [
      "['Carlisle Airport' 'Liverpool John Lennon Airport' 'Scatsta' ...\n",
      " 'Exmouth (Beach)' 'Almondsbury' 'Charmouth']\n"
     ]
    }
   ],
   "source": [
    "print (df.name.unique())\n",
    "\n",
    "array = df.name.unique()"
   ]
  },
  {
   "cell_type": "code",
   "execution_count": null,
   "metadata": {},
   "outputs": [
    {
     "name": "stdout",
     "output_type": "stream",
     "text": [
      "['Carlisle Airport' 'Liverpool John Lennon Airport' 'Scatsta' ...\n",
      " 'Exmouth (Beach)' 'Almondsbury' 'Charmouth']\n"
     ]
    }
   ],
   "source": [
    "print (array)"
   ]
  },
  {
   "cell_type": "code",
   "execution_count": null,
   "metadata": {},
   "outputs": [
    {
     "name": "stdout",
     "output_type": "stream",
     "text": [
      "           elevation        id  latitude  longitude\n",
      "elevation   1.000000  0.077774  0.365671  -0.300652\n",
      "id          0.077774  1.000000 -0.020249  -0.002053\n",
      "latitude    0.365671 -0.020249  1.000000  -0.399105\n",
      "longitude  -0.300652 -0.002053 -0.399105   1.000000\n"
     ]
    }
   ],
   "source": [
    "df.region.unique()\n",
    "\n",
    "print (df.corr())"
   ]
  },
  {
   "cell_type": "code",
   "execution_count": null,
   "metadata": {},
   "outputs": [
    {
     "data": {
      "text/plain": [
       "region  name                         \n",
       "dg      Ae Mountain Bike Trail Centre    161.0\n",
       "        Annan                             15.0\n",
       "        Ardwell House                     22.0\n",
       "        Armadale                         179.0\n",
       "        Barnton                           56.0\n",
       "                                         ...  \n",
       "yh      Wykeham                           30.0\n",
       "        Yeadon                           177.0\n",
       "        York                              11.0\n",
       "        York Racecourse                   22.0\n",
       "        York Youth Hostel                 11.0\n",
       "Name: elevation, Length: 5947, dtype: float64"
      ]
     },
     "execution_count": 43,
     "metadata": {},
     "output_type": "execute_result"
    }
   ],
   "source": [
    "df.groupby([\"region\", \"name\"])['elevation'].mean()"
   ]
  },
  {
   "cell_type": "code",
   "execution_count": null,
   "metadata": {},
   "outputs": [
    {
     "data": {
      "text/html": [
       "<div>\n",
       "<style scoped>\n",
       "    .dataframe tbody tr th:only-of-type {\n",
       "        vertical-align: middle;\n",
       "    }\n",
       "\n",
       "    .dataframe tbody tr th {\n",
       "        vertical-align: top;\n",
       "    }\n",
       "\n",
       "    .dataframe thead th {\n",
       "        text-align: right;\n",
       "    }\n",
       "</style>\n",
       "<table border=\"1\" class=\"dataframe\">\n",
       "  <thead>\n",
       "    <tr style=\"text-align: right;\">\n",
       "      <th></th>\n",
       "      <th>elevation</th>\n",
       "      <th>id</th>\n",
       "      <th>latitude</th>\n",
       "      <th>longitude</th>\n",
       "      <th>name</th>\n",
       "      <th>region</th>\n",
       "      <th>unitaryAuthArea</th>\n",
       "      <th>obsSource</th>\n",
       "      <th>nationalPark</th>\n",
       "    </tr>\n",
       "  </thead>\n",
       "  <tbody>\n",
       "    <tr>\n",
       "      <th>0</th>\n",
       "      <td>50.0</td>\n",
       "      <td>14</td>\n",
       "      <td>54.937500</td>\n",
       "      <td>-2.809200</td>\n",
       "      <td>Carlisle Airport</td>\n",
       "      <td>nw</td>\n",
       "      <td>Cumbria</td>\n",
       "      <td>NaN</td>\n",
       "      <td>NaN</td>\n",
       "    </tr>\n",
       "    <tr>\n",
       "      <th>1</th>\n",
       "      <td>22.0</td>\n",
       "      <td>26</td>\n",
       "      <td>53.333600</td>\n",
       "      <td>-2.850000</td>\n",
       "      <td>Liverpool John Lennon Airport</td>\n",
       "      <td>nw</td>\n",
       "      <td>Merseyside</td>\n",
       "      <td>NaN</td>\n",
       "      <td>NaN</td>\n",
       "    </tr>\n",
       "    <tr>\n",
       "      <th>2</th>\n",
       "      <td>25.0</td>\n",
       "      <td>33</td>\n",
       "      <td>60.432200</td>\n",
       "      <td>-1.299200</td>\n",
       "      <td>Scatsta</td>\n",
       "      <td>os</td>\n",
       "      <td>Shetland Islands</td>\n",
       "      <td>NaN</td>\n",
       "      <td>NaN</td>\n",
       "    </tr>\n",
       "    <tr>\n",
       "      <th>3</th>\n",
       "      <td>7.0</td>\n",
       "      <td>3066</td>\n",
       "      <td>57.649400</td>\n",
       "      <td>-3.560600</td>\n",
       "      <td>Kinloss</td>\n",
       "      <td>gr</td>\n",
       "      <td>Moray</td>\n",
       "      <td>NaN</td>\n",
       "      <td>NaN</td>\n",
       "    </tr>\n",
       "    <tr>\n",
       "      <th>4</th>\n",
       "      <td>6.0</td>\n",
       "      <td>3068</td>\n",
       "      <td>57.712000</td>\n",
       "      <td>-3.322000</td>\n",
       "      <td>Lossiemouth</td>\n",
       "      <td>gr</td>\n",
       "      <td>Moray</td>\n",
       "      <td>LNDSYN</td>\n",
       "      <td>NaN</td>\n",
       "    </tr>\n",
       "    <tr>\n",
       "      <th>...</th>\n",
       "      <td>...</td>\n",
       "      <td>...</td>\n",
       "      <td>...</td>\n",
       "      <td>...</td>\n",
       "      <td>...</td>\n",
       "      <td>...</td>\n",
       "      <td>...</td>\n",
       "      <td>...</td>\n",
       "      <td>...</td>\n",
       "    </tr>\n",
       "    <tr>\n",
       "      <th>5996</th>\n",
       "      <td>167.0</td>\n",
       "      <td>355886</td>\n",
       "      <td>50.382990</td>\n",
       "      <td>-4.883520</td>\n",
       "      <td>St Dennis</td>\n",
       "      <td>sw</td>\n",
       "      <td>Cornwall</td>\n",
       "      <td>NaN</td>\n",
       "      <td>NaN</td>\n",
       "    </tr>\n",
       "    <tr>\n",
       "      <th>5997</th>\n",
       "      <td>108.0</td>\n",
       "      <td>355874</td>\n",
       "      <td>52.415775</td>\n",
       "      <td>-4.059387</td>\n",
       "      <td>Penglais School</td>\n",
       "      <td>wl</td>\n",
       "      <td>Ceredigion</td>\n",
       "      <td>NaN</td>\n",
       "      <td>NaN</td>\n",
       "    </tr>\n",
       "    <tr>\n",
       "      <th>5998</th>\n",
       "      <td>0.0</td>\n",
       "      <td>356177</td>\n",
       "      <td>50.611500</td>\n",
       "      <td>-3.406400</td>\n",
       "      <td>Exmouth (Beach)</td>\n",
       "      <td>sw</td>\n",
       "      <td>NaN</td>\n",
       "      <td>NaN</td>\n",
       "      <td>NaN</td>\n",
       "    </tr>\n",
       "    <tr>\n",
       "      <th>5999</th>\n",
       "      <td>75.0</td>\n",
       "      <td>3930</td>\n",
       "      <td>51.551380</td>\n",
       "      <td>-2.559330</td>\n",
       "      <td>Almondsbury</td>\n",
       "      <td>sw</td>\n",
       "      <td>South Gloucestershire</td>\n",
       "      <td>NaN</td>\n",
       "      <td>NaN</td>\n",
       "    </tr>\n",
       "    <tr>\n",
       "      <th>6000</th>\n",
       "      <td>35.0</td>\n",
       "      <td>355998</td>\n",
       "      <td>50.738620</td>\n",
       "      <td>-2.903250</td>\n",
       "      <td>Charmouth</td>\n",
       "      <td>sw</td>\n",
       "      <td>Dorset</td>\n",
       "      <td>NaN</td>\n",
       "      <td>NaN</td>\n",
       "    </tr>\n",
       "  </tbody>\n",
       "</table>\n",
       "<p>6001 rows × 9 columns</p>\n",
       "</div>"
      ],
      "text/plain": [
       "      elevation      id   latitude  longitude                           name  \\\n",
       "0          50.0      14  54.937500  -2.809200               Carlisle Airport   \n",
       "1          22.0      26  53.333600  -2.850000  Liverpool John Lennon Airport   \n",
       "2          25.0      33  60.432200  -1.299200                        Scatsta   \n",
       "3           7.0    3066  57.649400  -3.560600                        Kinloss   \n",
       "4           6.0    3068  57.712000  -3.322000                    Lossiemouth   \n",
       "...         ...     ...        ...        ...                            ...   \n",
       "5996      167.0  355886  50.382990  -4.883520                      St Dennis   \n",
       "5997      108.0  355874  52.415775  -4.059387                Penglais School   \n",
       "5998        0.0  356177  50.611500  -3.406400                Exmouth (Beach)   \n",
       "5999       75.0    3930  51.551380  -2.559330                    Almondsbury   \n",
       "6000       35.0  355998  50.738620  -2.903250                      Charmouth   \n",
       "\n",
       "     region        unitaryAuthArea obsSource nationalPark  \n",
       "0        nw                Cumbria       NaN          NaN  \n",
       "1        nw             Merseyside       NaN          NaN  \n",
       "2        os       Shetland Islands       NaN          NaN  \n",
       "3        gr                  Moray       NaN          NaN  \n",
       "4        gr                  Moray    LNDSYN          NaN  \n",
       "...     ...                    ...       ...          ...  \n",
       "5996     sw               Cornwall       NaN          NaN  \n",
       "5997     wl             Ceredigion       NaN          NaN  \n",
       "5998     sw                    NaN       NaN          NaN  \n",
       "5999     sw  South Gloucestershire       NaN          NaN  \n",
       "6000     sw                 Dorset       NaN          NaN  \n",
       "\n",
       "[6001 rows x 9 columns]"
      ]
     },
     "execution_count": 45,
     "metadata": {},
     "output_type": "execute_result"
    }
   ],
   "source": [
    "df"
   ]
  },
  {
   "cell_type": "code",
   "execution_count": null,
   "metadata": {},
   "outputs": [
    {
     "name": "stdout",
     "output_type": "stream",
     "text": [
      "<class 'pandas.core.frame.DataFrame'>\n",
      "RangeIndex: 6001 entries, 0 to 6000\n",
      "Data columns (total 9 columns):\n",
      " #   Column           Non-Null Count  Dtype  \n",
      "---  ------           --------------  -----  \n",
      " 0   elevation        5910 non-null   float64\n",
      " 1   id               6001 non-null   int64  \n",
      " 2   latitude         6001 non-null   float64\n",
      " 3   longitude        6001 non-null   float64\n",
      " 4   name             6001 non-null   object \n",
      " 5   region           5997 non-null   object \n",
      " 6   unitaryAuthArea  5979 non-null   object \n",
      " 7   obsSource        31 non-null     object \n",
      " 8   nationalPark     618 non-null    object \n",
      "dtypes: float64(3), int64(1), object(5)\n",
      "memory usage: 422.1+ KB\n"
     ]
    }
   ],
   "source": [
    "df.info()"
   ]
  },
  {
   "cell_type": "code",
   "execution_count": null,
   "metadata": {},
   "outputs": [
    {
     "name": "stdout",
     "output_type": "stream",
     "text": [
      "elevation          0\n",
      "id                 0\n",
      "latitude           0\n",
      "longitude          0\n",
      "name               0\n",
      "region             0\n",
      "unitaryAuthArea    0\n",
      "obsSource          0\n",
      "nationalPark       0\n",
      "dtype: int64\n"
     ]
    }
   ],
   "source": [
    "df = df.fillna(\"0\")\n",
    "\n",
    "print (df.isna().sum())"
   ]
  },
  {
   "cell_type": "code",
   "execution_count": null,
   "metadata": {},
   "outputs": [
    {
     "data": {
      "text/html": [
       "<div>\n",
       "<style scoped>\n",
       "    .dataframe tbody tr th:only-of-type {\n",
       "        vertical-align: middle;\n",
       "    }\n",
       "\n",
       "    .dataframe tbody tr th {\n",
       "        vertical-align: top;\n",
       "    }\n",
       "\n",
       "    .dataframe thead th {\n",
       "        text-align: right;\n",
       "    }\n",
       "</style>\n",
       "<table border=\"1\" class=\"dataframe\">\n",
       "  <thead>\n",
       "    <tr style=\"text-align: right;\">\n",
       "      <th></th>\n",
       "      <th>elevation</th>\n",
       "      <th>id</th>\n",
       "      <th>latitude</th>\n",
       "      <th>longitude</th>\n",
       "      <th>name</th>\n",
       "      <th>region</th>\n",
       "      <th>unitaryAuthArea</th>\n",
       "      <th>obsSource</th>\n",
       "      <th>nationalPark</th>\n",
       "    </tr>\n",
       "  </thead>\n",
       "  <tbody>\n",
       "    <tr>\n",
       "      <th>0</th>\n",
       "      <td>50.0</td>\n",
       "      <td>14</td>\n",
       "      <td>54.9375</td>\n",
       "      <td>-2.8092</td>\n",
       "      <td>Carlisle Airport</td>\n",
       "      <td>nw</td>\n",
       "      <td>Cumbria</td>\n",
       "      <td>0</td>\n",
       "      <td>0</td>\n",
       "    </tr>\n",
       "    <tr>\n",
       "      <th>1</th>\n",
       "      <td>22.0</td>\n",
       "      <td>26</td>\n",
       "      <td>53.3336</td>\n",
       "      <td>-2.8500</td>\n",
       "      <td>Liverpool John Lennon Airport</td>\n",
       "      <td>nw</td>\n",
       "      <td>Merseyside</td>\n",
       "      <td>0</td>\n",
       "      <td>0</td>\n",
       "    </tr>\n",
       "    <tr>\n",
       "      <th>2</th>\n",
       "      <td>25.0</td>\n",
       "      <td>33</td>\n",
       "      <td>60.4322</td>\n",
       "      <td>-1.2992</td>\n",
       "      <td>Scatsta</td>\n",
       "      <td>os</td>\n",
       "      <td>Shetland Islands</td>\n",
       "      <td>0</td>\n",
       "      <td>0</td>\n",
       "    </tr>\n",
       "    <tr>\n",
       "      <th>3</th>\n",
       "      <td>7.0</td>\n",
       "      <td>3066</td>\n",
       "      <td>57.6494</td>\n",
       "      <td>-3.5606</td>\n",
       "      <td>Kinloss</td>\n",
       "      <td>gr</td>\n",
       "      <td>Moray</td>\n",
       "      <td>0</td>\n",
       "      <td>0</td>\n",
       "    </tr>\n",
       "    <tr>\n",
       "      <th>4</th>\n",
       "      <td>6.0</td>\n",
       "      <td>3068</td>\n",
       "      <td>57.7120</td>\n",
       "      <td>-3.3220</td>\n",
       "      <td>Lossiemouth</td>\n",
       "      <td>gr</td>\n",
       "      <td>Moray</td>\n",
       "      <td>LNDSYN</td>\n",
       "      <td>0</td>\n",
       "    </tr>\n",
       "  </tbody>\n",
       "</table>\n",
       "</div>"
      ],
      "text/plain": [
       "  elevation    id  latitude  longitude                           name region  \\\n",
       "0      50.0    14   54.9375    -2.8092               Carlisle Airport     nw   \n",
       "1      22.0    26   53.3336    -2.8500  Liverpool John Lennon Airport     nw   \n",
       "2      25.0    33   60.4322    -1.2992                        Scatsta     os   \n",
       "3       7.0  3066   57.6494    -3.5606                        Kinloss     gr   \n",
       "4       6.0  3068   57.7120    -3.3220                    Lossiemouth     gr   \n",
       "\n",
       "    unitaryAuthArea obsSource nationalPark  \n",
       "0           Cumbria         0            0  \n",
       "1        Merseyside         0            0  \n",
       "2  Shetland Islands         0            0  \n",
       "3             Moray         0            0  \n",
       "4             Moray    LNDSYN            0  "
      ]
     },
     "execution_count": 54,
     "metadata": {},
     "output_type": "execute_result"
    }
   ],
   "source": [
    "df.head()"
   ]
  },
  {
   "cell_type": "code",
   "execution_count": null,
   "metadata": {},
   "outputs": [
    {
     "data": {
      "text/html": [
       "<div>\n",
       "<style scoped>\n",
       "    .dataframe tbody tr th:only-of-type {\n",
       "        vertical-align: middle;\n",
       "    }\n",
       "\n",
       "    .dataframe tbody tr th {\n",
       "        vertical-align: top;\n",
       "    }\n",
       "\n",
       "    .dataframe thead th {\n",
       "        text-align: right;\n",
       "    }\n",
       "</style>\n",
       "<table border=\"1\" class=\"dataframe\">\n",
       "  <thead>\n",
       "    <tr style=\"text-align: right;\">\n",
       "      <th></th>\n",
       "      <th>id</th>\n",
       "      <th>latitude</th>\n",
       "      <th>longitude</th>\n",
       "    </tr>\n",
       "  </thead>\n",
       "  <tbody>\n",
       "    <tr>\n",
       "      <th>count</th>\n",
       "      <td>6001.000000</td>\n",
       "      <td>6001.000000</td>\n",
       "      <td>6001.000000</td>\n",
       "    </tr>\n",
       "    <tr>\n",
       "      <th>mean</th>\n",
       "      <td>338824.234628</td>\n",
       "      <td>53.452775</td>\n",
       "      <td>-2.588946</td>\n",
       "    </tr>\n",
       "    <tr>\n",
       "      <th>std</th>\n",
       "      <td>64324.868346</td>\n",
       "      <td>2.148172</td>\n",
       "      <td>1.860274</td>\n",
       "    </tr>\n",
       "    <tr>\n",
       "      <th>min</th>\n",
       "      <td>3.000000</td>\n",
       "      <td>49.177200</td>\n",
       "      <td>-10.250000</td>\n",
       "    </tr>\n",
       "    <tr>\n",
       "      <th>25%</th>\n",
       "      <td>350864.000000</td>\n",
       "      <td>51.672400</td>\n",
       "      <td>-3.915100</td>\n",
       "    </tr>\n",
       "    <tr>\n",
       "      <th>50%</th>\n",
       "      <td>352378.000000</td>\n",
       "      <td>53.245100</td>\n",
       "      <td>-2.408100</td>\n",
       "    </tr>\n",
       "    <tr>\n",
       "      <th>75%</th>\n",
       "      <td>353890.000000</td>\n",
       "      <td>54.892400</td>\n",
       "      <td>-1.413800</td>\n",
       "    </tr>\n",
       "    <tr>\n",
       "      <th>max</th>\n",
       "      <td>400002.000000</td>\n",
       "      <td>60.749000</td>\n",
       "      <td>1.755300</td>\n",
       "    </tr>\n",
       "  </tbody>\n",
       "</table>\n",
       "</div>"
      ],
      "text/plain": [
       "                  id     latitude    longitude\n",
       "count    6001.000000  6001.000000  6001.000000\n",
       "mean   338824.234628    53.452775    -2.588946\n",
       "std     64324.868346     2.148172     1.860274\n",
       "min         3.000000    49.177200   -10.250000\n",
       "25%    350864.000000    51.672400    -3.915100\n",
       "50%    352378.000000    53.245100    -2.408100\n",
       "75%    353890.000000    54.892400    -1.413800\n",
       "max    400002.000000    60.749000     1.755300"
      ]
     },
     "execution_count": 56,
     "metadata": {},
     "output_type": "execute_result"
    }
   ],
   "source": [
    "df.describe()"
   ]
  },
  {
   "cell_type": "code",
   "execution_count": null,
   "metadata": {},
   "outputs": [],
   "source": []
  }
 ],
 "metadata": {
  "kernelspec": {
   "display_name": "Python 3.9.15 (conda)",
   "language": "python",
   "name": "python3"
  },
  "language_info": {
   "codemirror_mode": {
    "name": "ipython",
    "version": 3
   },
   "file_extension": ".py",
   "mimetype": "text/x-python",
   "name": "python",
   "nbconvert_exporter": "python",
   "pygments_lexer": "ipython3",
   "version": "3.9.15"
  },
  "orig_nbformat": 4,
  "vscode": {
   "interpreter": {
    "hash": "4229b72b3c67d26fb2e106a942d4a72e10472eec631dfec1e64142cc853aa036"
   }
  }
 },
 "nbformat": 4,
 "nbformat_minor": 2
}
