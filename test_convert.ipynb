{
 "cells": [
  {
   "cell_type": "code",
   "execution_count": 1,
   "metadata": {},
   "outputs": [],
   "source": [
    "import pandas as pd \n",
    "import requests"
   ]
  },
  {
   "cell_type": "code",
   "execution_count": 4,
   "metadata": {},
   "outputs": [],
   "source": [
    "current = requests.get(\"http://api.weatherapi.com/v1/current.json?key=4a1f9e155ac6494e98a15506222712&q=London&aqi=yes\") \n",
    "df = pd.read_json(current.text)"
   ]
  },
  {
   "cell_type": "code",
   "execution_count": 5,
   "metadata": {},
   "outputs": [
    {
     "data": {
      "text/html": [
       "<div>\n",
       "<style scoped>\n",
       "    .dataframe tbody tr th:only-of-type {\n",
       "        vertical-align: middle;\n",
       "    }\n",
       "\n",
       "    .dataframe tbody tr th {\n",
       "        vertical-align: top;\n",
       "    }\n",
       "\n",
       "    .dataframe thead th {\n",
       "        text-align: right;\n",
       "    }\n",
       "</style>\n",
       "<table border=\"1\" class=\"dataframe\">\n",
       "  <thead>\n",
       "    <tr style=\"text-align: right;\">\n",
       "      <th></th>\n",
       "      <th>location</th>\n",
       "      <th>current</th>\n",
       "    </tr>\n",
       "  </thead>\n",
       "  <tbody>\n",
       "    <tr>\n",
       "      <th>name</th>\n",
       "      <td>London</td>\n",
       "      <td>NaN</td>\n",
       "    </tr>\n",
       "    <tr>\n",
       "      <th>region</th>\n",
       "      <td>City of London, Greater London</td>\n",
       "      <td>NaN</td>\n",
       "    </tr>\n",
       "    <tr>\n",
       "      <th>country</th>\n",
       "      <td>United Kingdom</td>\n",
       "      <td>NaN</td>\n",
       "    </tr>\n",
       "    <tr>\n",
       "      <th>lat</th>\n",
       "      <td>51.52</td>\n",
       "      <td>NaN</td>\n",
       "    </tr>\n",
       "    <tr>\n",
       "      <th>lon</th>\n",
       "      <td>-0.11</td>\n",
       "      <td>NaN</td>\n",
       "    </tr>\n",
       "  </tbody>\n",
       "</table>\n",
       "</div>"
      ],
      "text/plain": [
       "                               location current\n",
       "name                             London     NaN\n",
       "region   City of London, Greater London     NaN\n",
       "country                  United Kingdom     NaN\n",
       "lat                               51.52     NaN\n",
       "lon                               -0.11     NaN"
      ]
     },
     "execution_count": 5,
     "metadata": {},
     "output_type": "execute_result"
    }
   ],
   "source": [
    "df.head()"
   ]
  },
  {
   "cell_type": "code",
   "execution_count": 6,
   "metadata": {},
   "outputs": [],
   "source": [
    "df.to_csv(\"test.csv\")"
   ]
  },
  {
   "cell_type": "code",
   "execution_count": 7,
   "metadata": {},
   "outputs": [
    {
     "name": "stdout",
     "output_type": "stream",
     "text": [
      ",location,current\n",
      "name,London,\n",
      "region,\"City of London, Greater London\",\n",
      "country,United Kingdom,\n",
      "lat,51.52,\n",
      "lon,-0.11,\n",
      "tz_id,Europe/London,\n",
      "localtime_epoch,1686339849,\n",
      "localtime,2023-06-09 20:44,\n",
      "last_updated_epoch,,1686339000\n",
      "last_updated,,2023-06-09 20:30\n",
      "temp_c,,24.0\n",
      "temp_f,,75.2\n",
      "is_day,,1\n",
      "condition,,\"{'text': 'Sunny', 'icon': '//cdn.weatherapi.com/weather/64x64/day/113.png', 'code': 1000}\"\n",
      "wind_mph,,13.6\n",
      "wind_kph,,22.0\n",
      "wind_degree,,90\n",
      "wind_dir,,E\n",
      "pressure_mb,,1012.0\n",
      "pressure_in,,29.88\n",
      "precip_mm,,0.0\n",
      "\u001b[7mtest.csv\u001b[m\u001b[K\u0007\u001b[H\u001b[2J\u001b[H\u001b[H\u001b[2J\u001b[H,location,current\n",
      "name,London,\n",
      "region,\"City of London, Greater London\",\n",
      "country,United Kingdom,\n",
      "lat,51.52,\n",
      "lon,-0.11,\n",
      "tz_id,Europe/London,\n",
      "localtime_epoch,1686339849,\n",
      "localtime,2023-06-09 20:44,\n",
      "last_updated_epoch,,1686339000\n",
      "last_updated,,2023-06-09 20:30\n",
      "temp_c,,24.0\n",
      "temp_f,,75.2\n",
      "is_day,,1\n",
      "condition,,\"{'text': 'Sunny', 'icon': '//cdn.weatherapi.com/weather/64x64/day/113.png', 'code': 1000}\"\n",
      "wind_mph,,13.6\n",
      "wind_kph,,22.0\n",
      "wind_degree,,90\n",
      "wind_dir,,E\n",
      "pressure_mb,,1012.0\n",
      "pressure_in,,29.88\n",
      "precip_mm,,0.0\n",
      "\u001b[Kprecip_in,,0.0\n",
      ":\u001b[K"
     ]
    }
   ],
   "source": []
  },
  {
   "cell_type": "code",
   "execution_count": null,
   "metadata": {},
   "outputs": [],
   "source": []
  }
 ],
 "metadata": {
  "kernelspec": {
   "display_name": "Python 3.9.13",
   "language": "python",
   "name": "python3"
  },
  "language_info": {
   "codemirror_mode": {
    "name": "ipython",
    "version": 3
   },
   "file_extension": ".py",
   "mimetype": "text/x-python",
   "name": "python",
   "nbconvert_exporter": "python",
   "pygments_lexer": "ipython3",
   "version": "3.9.13"
  },
  "orig_nbformat": 4,
  "vscode": {
   "interpreter": {
    "hash": "7ddf2c4d3085ed69e7c20f4c86c1d3b2b20ea96f82971aad4db84da8ee7ba781"
   }
  }
 },
 "nbformat": 4,
 "nbformat_minor": 2
}
